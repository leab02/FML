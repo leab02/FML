{
 "cells": [
  {
   "cell_type": "markdown",
   "id": "f0467022",
   "metadata": {},
   "source": [
    "# Predict Fitbit Sleep Scores\n",
    "\n",
    "For this project, various Machine Learning methods have been used to predict the FitBit Sleep Score based on a sample of roughly 10 months of collecting sleep score data. \n",
    "Hereby, the folllowing research question has been investigated: \"How well can the sleep score be predicted, based on other sleep data, such as minutes spend in different sleep stages, or number of awakenings?\"\n",
    "\n",
    "The data has been provided by a FitBit user, female, 59 years old."
   ]
  },
  {
   "cell_type": "code",
   "execution_count": 1,
   "id": "8b492bd8",
   "metadata": {},
   "outputs": [],
   "source": [
    "import json\n",
    "import pandas as pd\n",
    "import datetime\n",
    "import glob\n",
    "import matplotlib.pyplot as plt\n",
    "import sklearn as sk\n",
    "import math\n",
    "from sklearn.linear_model import LinearRegression #remember, this is linear regression model from sk-learn\n",
    "from sklearn.metrics import mean_squared_error\n",
    "from sklearn.metrics import r2_score\n",
    "import seaborn as sns\n",
    "import numpy as np\n",
    "import matplotlib.dates as md\n",
    "from sklearn.model_selection import train_test_split\n"
   ]
  },
  {
   "cell_type": "markdown",
   "id": "0bb4aab6",
   "metadata": {},
   "source": [
    "# Step 1: Investigang any data that might be relevant for further analysis\n",
    "\n",
    "## Steps of Each Month\n",
    "#### 03/2021"
   ]
  },
  {
   "cell_type": "code",
   "execution_count": 2,
   "id": "eec2d2de",
   "metadata": {},
   "outputs": [],
   "source": [
    "df_steps_march = pd.read_json(r'steps-2021-03-09.json')\n",
    "#df_steps_march.to_csv(r'C:\\Users\\leaba\\Documents\\MyFitbitData\\df_steps_march.csv', index = None)"
   ]
  },
  {
   "cell_type": "code",
   "execution_count": 3,
   "id": "0b964917",
   "metadata": {
    "scrolled": true
   },
   "outputs": [],
   "source": [
    "df_steps_march.dateTime = df_steps_march.dateTime.astype(str).str.split(' ').str[0]  #split the created_at column at the space between the date and time. The .str[0] means it will only keep the first part of the split (which is the date).\n",
    "dfout = df_steps_march.groupby(['dateTime']).sum() #The second line groups them by date and gives you the count.\n",
    "dfout.reset_index(level=0, inplace=True)\n",
    "df_steps_march = dfout[['dateTime', 'value']]\n",
    "df_steps_march.columns = ['Date', 'Daily Steps']\n",
    "df_steps_march.to_csv(r'C:\\Users\\leaba\\Documents\\MyFitbitData\\df_steps_march.csv', index = None)"
   ]
  },
  {
   "cell_type": "markdown",
   "id": "88a936da",
   "metadata": {},
   "source": [
    "#### 04/2021"
   ]
  },
  {
   "cell_type": "code",
   "execution_count": 4,
   "id": "a1c05c6c",
   "metadata": {},
   "outputs": [],
   "source": [
    "df_steps_april = pd.read_json (r'C:\\Users\\leaba\\Documents\\MyFitbitData\\MathildeMeyer-Baudner\\Physical Activity/steps-2021-04-08.json')\n",
    "#df_steps_april.to_csv(r'C:\\Users\\leaba\\Documents\\MyFitbitData\\df_steps_april.csv', index = None)"
   ]
  },
  {
   "cell_type": "code",
   "execution_count": 5,
   "id": "9365b3ae",
   "metadata": {
    "scrolled": true
   },
   "outputs": [],
   "source": [
    "df_steps_april.dateTime = df_steps_april.dateTime.astype(str).str.split(' ').str[0]  #split the created_at column at the space between the date and time. The .str[0] means it will only keep the first part of the split (which is the date).\n",
    "dfout = df_steps_april.groupby(['dateTime']).sum() #The second line groups them by date and gives you the count.\n",
    "dfout.reset_index(level=0, inplace=True)\n",
    "df_steps_april = dfout[['dateTime', 'value']]\n",
    "df_steps_april.columns = ['Date', 'Daily Steps']\n",
    "df_steps_april.to_csv(r'C:\\Users\\leaba\\Documents\\MyFitbitData\\df_steps_april.csv', index = None)"
   ]
  },
  {
   "cell_type": "markdown",
   "id": "03f3e2df",
   "metadata": {},
   "source": [
    "#### 05/2021"
   ]
  },
  {
   "cell_type": "code",
   "execution_count": 6,
   "id": "10fd9702",
   "metadata": {},
   "outputs": [],
   "source": [
    "df_steps_may = pd.read_json(r'C:\\Users\\leaba\\Documents\\MyFitbitData\\MathildeMeyer-Baudner\\Physical Activity/steps-2021-05-08.json')\n",
    "#df_steps_may.to_csv(r'C:\\Users\\leaba\\Documents\\MyFitbitData\\df_steps_may.csv', index = None)"
   ]
  },
  {
   "cell_type": "code",
   "execution_count": 7,
   "id": "ef6acd3e",
   "metadata": {
    "scrolled": true
   },
   "outputs": [],
   "source": [
    "df_steps_may.dateTime = df_steps_may.dateTime.astype(str).str.split(' ').str[0]  #split the created_at column at the space between the date and time. The .str[0] means it will only keep the first part of the split (which is the date).\n",
    "dfout = df_steps_may.groupby(['dateTime']).sum() #The second line groups them by date and gives you the count.\n",
    "dfout.reset_index(level=0, inplace=True)\n",
    "df_steps_may = dfout[['dateTime', 'value']]\n",
    "df_steps_may.columns = ['Date', 'Daily Steps']\n",
    "df_steps_may.to_csv(r'C:\\Users\\leaba\\Documents\\MyFitbitData\\df_steps_may.csv', index = None)"
   ]
  },
  {
   "cell_type": "markdown",
   "id": "16e434f7",
   "metadata": {},
   "source": [
    "#### 06/2021"
   ]
  },
  {
   "cell_type": "code",
   "execution_count": 8,
   "id": "a21fcbd2",
   "metadata": {},
   "outputs": [],
   "source": [
    "df_steps_june = pd.read_json(r'C:\\Users\\leaba\\Documents\\MyFitbitData\\MathildeMeyer-Baudner\\Physical Activity/steps-2021-06-07.json')\n",
    "#df_steps_june.to_csv(r'C:\\Users\\leaba\\Documents\\MyFitbitData\\df_steps_june.csv', index = None)"
   ]
  },
  {
   "cell_type": "code",
   "execution_count": 9,
   "id": "718be32b",
   "metadata": {
    "scrolled": true
   },
   "outputs": [],
   "source": [
    "df_steps_june.dateTime = df_steps_june.dateTime.astype(str).str.split(' ').str[0]  #split the created_at column at the space between the date and time. The .str[0] means it will only keep the first part of the split (which is the date).\n",
    "dfout = df_steps_june.groupby(['dateTime']).sum() #The second line groups them by date and gives you the count.\n",
    "dfout.reset_index(level=0, inplace=True)\n",
    "df_steps_june = dfout[['dateTime', 'value']]\n",
    "df_steps_june.columns = ['Date', 'Daily Steps']\n",
    "df_steps_june.to_csv(r'C:\\Users\\leaba\\Documents\\MyFitbitData\\df_steps_june.csv', index = None)"
   ]
  },
  {
   "cell_type": "markdown",
   "id": "ed1da044",
   "metadata": {},
   "source": [
    "#### 07/2021"
   ]
  },
  {
   "cell_type": "code",
   "execution_count": 10,
   "id": "c38102d8",
   "metadata": {},
   "outputs": [],
   "source": [
    "df_steps_july = pd.read_json(r'C:\\Users\\leaba\\Documents\\MyFitbitData\\MathildeMeyer-Baudner\\Physical Activity/steps-2021-07-07.json')\n",
    "#df_steps_july.to_csv(r'C:\\Users\\leaba\\Documents\\MyFitbitData\\df_steps_july.csv', index = None)"
   ]
  },
  {
   "cell_type": "code",
   "execution_count": 11,
   "id": "ab595160",
   "metadata": {
    "scrolled": true
   },
   "outputs": [],
   "source": [
    "df_steps_july.dateTime = df_steps_july.dateTime.astype(str).str.split(' ').str[0]  #split the created_at column at the space between the date and time. The .str[0] means it will only keep the first part of the split (which is the date).\n",
    "dfout = df_steps_july.groupby(['dateTime']).sum() #The second line groups them by date and gives you the count.\n",
    "dfout.reset_index(level=0, inplace=True)\n",
    "df_steps_july = dfout[['dateTime', 'value']]\n",
    "df_steps_july.columns = ['Date', 'Daily Steps']\n",
    "df_steps_july.to_csv(r'C:\\Users\\leaba\\Documents\\MyFitbitData\\df_steps_july.csv', index = None)"
   ]
  },
  {
   "cell_type": "markdown",
   "id": "36fd474b",
   "metadata": {},
   "source": [
    "#### 08/2021"
   ]
  },
  {
   "cell_type": "code",
   "execution_count": 12,
   "id": "554d3545",
   "metadata": {},
   "outputs": [],
   "source": [
    "df_steps_august = pd.read_json(r'C:\\Users\\leaba\\Documents\\MyFitbitData\\MathildeMeyer-Baudner\\Physical Activity/steps-2021-08-06.json')\n",
    "#df_steps_august.to_csv(r'C:\\Users\\leaba\\Documents\\MyFitbitData\\df_steps_august.csv', index = None)"
   ]
  },
  {
   "cell_type": "code",
   "execution_count": 13,
   "id": "db43c2da",
   "metadata": {
    "scrolled": true
   },
   "outputs": [],
   "source": [
    "df_steps_august.dateTime = df_steps_august.dateTime.astype(str).str.split(' ').str[0]  #split the created_at column at the space between the date and time. The .str[0] means it will only keep the first part of the split (which is the date).\n",
    "dfout = df_steps_august.groupby(['dateTime']).sum() #The second line groups them by date and gives you the count.\n",
    "dfout.reset_index(level=0, inplace=True)\n",
    "df_steps_august = dfout[['dateTime', 'value']]\n",
    "df_steps_august.columns = ['Date', 'Daily Steps']\n",
    "df_steps_august.to_csv(r'C:\\Users\\leaba\\Documents\\MyFitbitData\\df_steps_august.csv', index = None)"
   ]
  },
  {
   "cell_type": "markdown",
   "id": "6fa07cdd",
   "metadata": {},
   "source": [
    "#### 09/2021"
   ]
  },
  {
   "cell_type": "code",
   "execution_count": 14,
   "id": "6d6a8a3b",
   "metadata": {},
   "outputs": [],
   "source": [
    "df_steps_september = pd.read_json(r'C:\\Users\\leaba\\Documents\\MyFitbitData\\MathildeMeyer-Baudner\\Physical Activity/steps-2021-09-05.json')\n",
    "#df_steps_september.to_csv(r'C:\\Users\\leaba\\Documents\\MyFitbitData\\df_steps_september.csv', index = None)"
   ]
  },
  {
   "cell_type": "code",
   "execution_count": 1,
   "id": "ce9e8532",
   "metadata": {
    "scrolled": true
   },
   "outputs": [
    {
     "ename": "NameError",
     "evalue": "name 'df_steps_september' is not defined",
     "output_type": "error",
     "traceback": [
      "\u001b[1;31m---------------------------------------------------------------------------\u001b[0m",
      "\u001b[1;31mNameError\u001b[0m                                 Traceback (most recent call last)",
      "\u001b[1;32m<ipython-input-1-f2ed5386c896>\u001b[0m in \u001b[0;36m<module>\u001b[1;34m\u001b[0m\n\u001b[1;32m----> 1\u001b[1;33m \u001b[0mdf_steps_september\u001b[0m\u001b[1;33m.\u001b[0m\u001b[0mdateTime\u001b[0m \u001b[1;33m=\u001b[0m \u001b[0mdf_steps_september\u001b[0m\u001b[1;33m.\u001b[0m\u001b[0mdateTime\u001b[0m\u001b[1;33m.\u001b[0m\u001b[0mastype\u001b[0m\u001b[1;33m(\u001b[0m\u001b[0mstr\u001b[0m\u001b[1;33m)\u001b[0m\u001b[1;33m.\u001b[0m\u001b[0mstr\u001b[0m\u001b[1;33m.\u001b[0m\u001b[0msplit\u001b[0m\u001b[1;33m(\u001b[0m\u001b[1;34m' '\u001b[0m\u001b[1;33m)\u001b[0m\u001b[1;33m.\u001b[0m\u001b[0mstr\u001b[0m\u001b[1;33m[\u001b[0m\u001b[1;36m0\u001b[0m\u001b[1;33m]\u001b[0m  \u001b[1;31m#split the created_at column at the space between the date and time. The .str[0] means it will only keep the first part of the split (which is the date).\u001b[0m\u001b[1;33m\u001b[0m\u001b[1;33m\u001b[0m\u001b[0m\n\u001b[0m\u001b[0;32m      2\u001b[0m \u001b[0mdfout\u001b[0m \u001b[1;33m=\u001b[0m \u001b[0mdf_steps_september\u001b[0m\u001b[1;33m.\u001b[0m\u001b[0mgroupby\u001b[0m\u001b[1;33m(\u001b[0m\u001b[1;33m[\u001b[0m\u001b[1;34m'dateTime'\u001b[0m\u001b[1;33m]\u001b[0m\u001b[1;33m)\u001b[0m\u001b[1;33m.\u001b[0m\u001b[0msum\u001b[0m\u001b[1;33m(\u001b[0m\u001b[1;33m)\u001b[0m \u001b[1;31m#The second line groups them by date and gives you the count.\u001b[0m\u001b[1;33m\u001b[0m\u001b[1;33m\u001b[0m\u001b[0m\n\u001b[0;32m      3\u001b[0m \u001b[0mdfout\u001b[0m\u001b[1;33m.\u001b[0m\u001b[0mreset_index\u001b[0m\u001b[1;33m(\u001b[0m\u001b[0mlevel\u001b[0m\u001b[1;33m=\u001b[0m\u001b[1;36m0\u001b[0m\u001b[1;33m,\u001b[0m \u001b[0minplace\u001b[0m\u001b[1;33m=\u001b[0m\u001b[1;32mTrue\u001b[0m\u001b[1;33m)\u001b[0m\u001b[1;33m\u001b[0m\u001b[1;33m\u001b[0m\u001b[0m\n\u001b[0;32m      4\u001b[0m \u001b[0mdf_steps_september\u001b[0m \u001b[1;33m=\u001b[0m \u001b[0mdfout\u001b[0m\u001b[1;33m[\u001b[0m\u001b[1;33m[\u001b[0m\u001b[1;34m'dateTime'\u001b[0m\u001b[1;33m,\u001b[0m \u001b[1;34m'value'\u001b[0m\u001b[1;33m]\u001b[0m\u001b[1;33m]\u001b[0m\u001b[1;33m\u001b[0m\u001b[1;33m\u001b[0m\u001b[0m\n\u001b[0;32m      5\u001b[0m \u001b[0mdf_steps_september\u001b[0m\u001b[1;33m.\u001b[0m\u001b[0mcolumns\u001b[0m \u001b[1;33m=\u001b[0m \u001b[1;33m[\u001b[0m\u001b[1;34m'Date'\u001b[0m\u001b[1;33m,\u001b[0m \u001b[1;34m'Daily Steps'\u001b[0m\u001b[1;33m]\u001b[0m\u001b[1;33m\u001b[0m\u001b[1;33m\u001b[0m\u001b[0m\n",
      "\u001b[1;31mNameError\u001b[0m: name 'df_steps_september' is not defined"
     ]
    }
   ],
   "source": [
    "df_steps_september.dateTime = df_steps_september.dateTime.astype(str).str.split(' ').str[0]  #split the created_at column at the space between the date and time. The .str[0] means it will only keep the first part of the split (which is the date).\n",
    "dfout = df_steps_september.groupby(['dateTime']).sum() #The second line groups them by date and gives you the count.\n",
    "dfout.reset_index(level=0, inplace=True)\n",
    "df_steps_september = dfout[['dateTime', 'value']]\n",
    "df_steps_september.columns = ['Date', 'Daily Steps']\n",
    "df_steps_september.to_csv(r'C:\\Users\\leaba\\Documents\\MyFitbitData\\df_steps_september.csv', index = None)"
   ]
  },
  {
   "cell_type": "markdown",
   "id": "22a4d7e2",
   "metadata": {},
   "source": [
    "#### 10/2021"
   ]
  },
  {
   "cell_type": "code",
   "execution_count": 16,
   "id": "99d9d91c",
   "metadata": {},
   "outputs": [],
   "source": [
    "df_steps_october = pd.read_json(r'C:\\Users\\leaba\\Documents\\MyFitbitData\\MathildeMeyer-Baudner\\Physical Activity/steps-2021-10-05.json')\n",
    "#df_steps_october.to_csv(r'C:\\Users\\leaba\\Documents\\MyFitbitData\\df_steps_october.csv', index = None)"
   ]
  },
  {
   "cell_type": "code",
   "execution_count": 17,
   "id": "0ee5349c",
   "metadata": {
    "scrolled": true
   },
   "outputs": [],
   "source": [
    "df_steps_october.dateTime = df_steps_october.dateTime.astype(str).str.split(' ').str[0]  #split the created_at column at the space between the date and time. The .str[0] means it will only keep the first part of the split (which is the date).\n",
    "dfout = df_steps_october.groupby(['dateTime']).sum() #The second line groups them by date and gives you the count.\n",
    "dfout.reset_index(level=0, inplace=True)\n",
    "df_steps_october = dfout[['dateTime', 'value']]\n",
    "df_steps_october.columns = ['Date', 'Daily Steps']\n",
    "df_steps_october.to_csv(r'C:\\Users\\leaba\\Documents\\MyFitbitData\\df_steps_october.csv', index = None)"
   ]
  },
  {
   "cell_type": "markdown",
   "id": "a5e79eb7",
   "metadata": {},
   "source": [
    "#### 11/2021"
   ]
  },
  {
   "cell_type": "code",
   "execution_count": 18,
   "id": "72d6a94e",
   "metadata": {},
   "outputs": [],
   "source": [
    "df_steps_november = pd.read_json(r'C:\\Users\\leaba\\Documents\\MyFitbitData\\MathildeMeyer-Baudner\\Physical Activity/steps-2021-11-04.json')\n",
    "#df_steps_november.to_csv(r'C:\\Users\\leaba\\Documents\\MyFitbitData\\df_steps_november.csv', index = None)"
   ]
  },
  {
   "cell_type": "code",
   "execution_count": 19,
   "id": "45c56f33",
   "metadata": {
    "scrolled": true
   },
   "outputs": [],
   "source": [
    "df_steps_november.dateTime = df_steps_november.dateTime.astype(str).str.split(' ').str[0]  #split the created_at column at the space between the date and time. The .str[0] means it will only keep the first part of the split (which is the date).\n",
    "dfout = df_steps_november.groupby(['dateTime']).sum() #The second line groups them by date and gives you the count.\n",
    "dfout.reset_index(level=0, inplace=True)\n",
    "df_steps_november = dfout[['dateTime', 'value']]\n",
    "df_steps_november.columns = ['Date', 'Daily Steps']\n",
    "df_steps_november.to_csv(r'C:\\Users\\leaba\\Documents\\MyFitbitData\\df_steps_november.csv', index = None)"
   ]
  },
  {
   "cell_type": "markdown",
   "id": "39e9fcf9",
   "metadata": {},
   "source": [
    "#### 12/2021"
   ]
  },
  {
   "cell_type": "code",
   "execution_count": 20,
   "id": "d1bcd6f7",
   "metadata": {},
   "outputs": [],
   "source": [
    "df_steps_december = pd.read_json(r'C:\\Users\\leaba\\Documents\\MyFitbitData\\MathildeMeyer-Baudner\\Physical Activity/steps-2021-12-04.json')\n",
    "#df_steps_december.to_csv(r'C:\\Users\\leaba\\Documents\\MyFitbitData\\df_steps_december.csv', index = None)"
   ]
  },
  {
   "cell_type": "code",
   "execution_count": 21,
   "id": "ed59d279",
   "metadata": {
    "scrolled": true
   },
   "outputs": [],
   "source": [
    "df_steps_december.dateTime = df_steps_december.dateTime.astype(str).str.split(' ').str[0]  #split the created_at column at the space between the date and time. The .str[0] means it will only keep the first part of the split (which is the date).\n",
    "dfout = df_steps_december.groupby(['dateTime']).sum() #The second line groups them by date and gives you the count.\n",
    "dfout.reset_index(level=0, inplace=True)\n",
    "df_steps_december = dfout[['dateTime', 'value']] \n",
    "df_steps_december.columns = ['Date', 'Daily Steps']\n",
    "df_steps_december.to_csv(r'C:\\Users\\leaba\\Documents\\MyFitbitData\\df_steps_december.csv', index = None)"
   ]
  },
  {
   "cell_type": "markdown",
   "id": "345f3905",
   "metadata": {},
   "source": [
    "### Put daily steps of each month into one dataframe"
   ]
  },
  {
   "cell_type": "code",
   "execution_count": 22,
   "id": "9c22979b",
   "metadata": {},
   "outputs": [
    {
     "data": {
      "text/html": [
       "<div>\n",
       "<style scoped>\n",
       "    .dataframe tbody tr th:only-of-type {\n",
       "        vertical-align: middle;\n",
       "    }\n",
       "\n",
       "    .dataframe tbody tr th {\n",
       "        vertical-align: top;\n",
       "    }\n",
       "\n",
       "    .dataframe thead th {\n",
       "        text-align: right;\n",
       "    }\n",
       "</style>\n",
       "<table border=\"1\" class=\"dataframe\">\n",
       "  <thead>\n",
       "    <tr style=\"text-align: right;\">\n",
       "      <th></th>\n",
       "      <th>Date</th>\n",
       "      <th>Daily Steps</th>\n",
       "    </tr>\n",
       "  </thead>\n",
       "  <tbody>\n",
       "    <tr>\n",
       "      <th>0</th>\n",
       "      <td>2021-03-10</td>\n",
       "      <td>3895</td>\n",
       "    </tr>\n",
       "    <tr>\n",
       "      <th>1</th>\n",
       "      <td>2021-03-11</td>\n",
       "      <td>4434</td>\n",
       "    </tr>\n",
       "    <tr>\n",
       "      <th>2</th>\n",
       "      <td>2021-03-12</td>\n",
       "      <td>5197</td>\n",
       "    </tr>\n",
       "    <tr>\n",
       "      <th>3</th>\n",
       "      <td>2021-03-13</td>\n",
       "      <td>2419</td>\n",
       "    </tr>\n",
       "    <tr>\n",
       "      <th>4</th>\n",
       "      <td>2021-03-14</td>\n",
       "      <td>7463</td>\n",
       "    </tr>\n",
       "  </tbody>\n",
       "</table>\n",
       "</div>"
      ],
      "text/plain": [
       "         Date  Daily Steps\n",
       "0  2021-03-10         3895\n",
       "1  2021-03-11         4434\n",
       "2  2021-03-12         5197\n",
       "3  2021-03-13         2419\n",
       "4  2021-03-14         7463"
      ]
     },
     "execution_count": 22,
     "metadata": {},
     "output_type": "execute_result"
    }
   ],
   "source": [
    "df_dailysteps = pd.concat([df_steps_march, df_steps_april, df_steps_may, df_steps_june, df_steps_july, df_steps_august, df_steps_september, df_steps_october, df_steps_november, df_steps_december],ignore_index=True)\n",
    "df_dailysteps.head()\n",
    "#df_dailysteps.to_csv(r'C:\\Users\\leaba\\Documents\\MyFitbitData\\df_dailysteps.csv', index = None)"
   ]
  },
  {
   "cell_type": "code",
   "execution_count": 23,
   "id": "e18c18bf",
   "metadata": {},
   "outputs": [],
   "source": [
    "#df_dailysteps['Date'] = pd.to_datetime(df_dailysteps['Date'])\n",
    "dfout = df_dailysteps.groupby(['Date']).sum() #The second line groups them by date and gives you the count.\n",
    "dfout.reset_index(level=0, inplace=True)\n",
    "df_dailysteps = dfout[['Date', 'Daily Steps']] \n",
    "df_dailysteps.columns = ['Date', 'Daily Steps1']\n",
    "df_dailysteps.to_csv(r'C:\\Users\\leaba\\Documents\\MyFitbitData\\df_dailysteps.csv', index = None)"
   ]
  },
  {
   "cell_type": "markdown",
   "id": "585a4f64",
   "metadata": {},
   "source": [
    "### Sleep Score"
   ]
  },
  {
   "cell_type": "code",
   "execution_count": 24,
   "id": "4a29e1a6",
   "metadata": {},
   "outputs": [],
   "source": [
    "sleep_score = pd.read_csv('sleep_score.csv')"
   ]
  },
  {
   "cell_type": "code",
   "execution_count": 25,
   "id": "2d377f94",
   "metadata": {},
   "outputs": [
    {
     "data": {
      "text/html": [
       "<div>\n",
       "<style scoped>\n",
       "    .dataframe tbody tr th:only-of-type {\n",
       "        vertical-align: middle;\n",
       "    }\n",
       "\n",
       "    .dataframe tbody tr th {\n",
       "        vertical-align: top;\n",
       "    }\n",
       "\n",
       "    .dataframe thead th {\n",
       "        text-align: right;\n",
       "    }\n",
       "</style>\n",
       "<table border=\"1\" class=\"dataframe\">\n",
       "  <thead>\n",
       "    <tr style=\"text-align: right;\">\n",
       "      <th></th>\n",
       "      <th>sleep_log_entry_id</th>\n",
       "      <th>timestamp</th>\n",
       "      <th>overall_score</th>\n",
       "      <th>composition_score</th>\n",
       "      <th>revitalization_score</th>\n",
       "      <th>duration_score</th>\n",
       "      <th>deep_sleep_in_minutes</th>\n",
       "      <th>resting_heart_rate</th>\n",
       "      <th>restlessness</th>\n",
       "    </tr>\n",
       "  </thead>\n",
       "  <tbody>\n",
       "    <tr>\n",
       "      <th>0</th>\n",
       "      <td>35122114210</td>\n",
       "      <td>2022-01-01</td>\n",
       "      <td>76</td>\n",
       "      <td>19</td>\n",
       "      <td>14</td>\n",
       "      <td>43</td>\n",
       "      <td>74</td>\n",
       "      <td>73</td>\n",
       "      <td>0.080982</td>\n",
       "    </tr>\n",
       "    <tr>\n",
       "      <th>1</th>\n",
       "      <td>35111638325</td>\n",
       "      <td>2021-12-31</td>\n",
       "      <td>88</td>\n",
       "      <td>21</td>\n",
       "      <td>21</td>\n",
       "      <td>46</td>\n",
       "      <td>54</td>\n",
       "      <td>73</td>\n",
       "      <td>0.080948</td>\n",
       "    </tr>\n",
       "    <tr>\n",
       "      <th>2</th>\n",
       "      <td>35100484418</td>\n",
       "      <td>2021-12-30</td>\n",
       "      <td>83</td>\n",
       "      <td>21</td>\n",
       "      <td>19</td>\n",
       "      <td>43</td>\n",
       "      <td>47</td>\n",
       "      <td>71</td>\n",
       "      <td>0.069393</td>\n",
       "    </tr>\n",
       "    <tr>\n",
       "      <th>3</th>\n",
       "      <td>35086704240</td>\n",
       "      <td>2021-12-29</td>\n",
       "      <td>84</td>\n",
       "      <td>22</td>\n",
       "      <td>21</td>\n",
       "      <td>41</td>\n",
       "      <td>84</td>\n",
       "      <td>71</td>\n",
       "      <td>0.084785</td>\n",
       "    </tr>\n",
       "    <tr>\n",
       "      <th>4</th>\n",
       "      <td>35073003833</td>\n",
       "      <td>2021-12-28</td>\n",
       "      <td>83</td>\n",
       "      <td>20</td>\n",
       "      <td>23</td>\n",
       "      <td>40</td>\n",
       "      <td>29</td>\n",
       "      <td>71</td>\n",
       "      <td>0.052632</td>\n",
       "    </tr>\n",
       "  </tbody>\n",
       "</table>\n",
       "</div>"
      ],
      "text/plain": [
       "   sleep_log_entry_id   timestamp  overall_score  composition_score  \\\n",
       "0         35122114210  2022-01-01             76                 19   \n",
       "1         35111638325  2021-12-31             88                 21   \n",
       "2         35100484418  2021-12-30             83                 21   \n",
       "3         35086704240  2021-12-29             84                 22   \n",
       "4         35073003833  2021-12-28             83                 20   \n",
       "\n",
       "   revitalization_score  duration_score  deep_sleep_in_minutes  \\\n",
       "0                    14              43                     74   \n",
       "1                    21              46                     54   \n",
       "2                    19              43                     47   \n",
       "3                    21              41                     84   \n",
       "4                    23              40                     29   \n",
       "\n",
       "   resting_heart_rate  restlessness  \n",
       "0                  73      0.080982  \n",
       "1                  73      0.080948  \n",
       "2                  71      0.069393  \n",
       "3                  71      0.084785  \n",
       "4                  71      0.052632  "
      ]
     },
     "execution_count": 25,
     "metadata": {},
     "output_type": "execute_result"
    }
   ],
   "source": [
    "sleep_score.timestamp = sleep_score.timestamp.astype(str).str.split('T').str[0]  #split the created_at column at the space between the date and time. The .str[0] means it will only keep the first part of the split (which is the date).\n",
    "sleep_score.head()"
   ]
  },
  {
   "cell_type": "code",
   "execution_count": 26,
   "id": "a4b67b46",
   "metadata": {},
   "outputs": [],
   "source": [
    "# sleep_score['timestamp'] = pd.to_datetime(sleep_score['timestamp'])\n",
    "# sleep_score['timestamp'] = sleep_score['timestamp'].dt.strftime('%d/%m/%Y')\n",
    "sleep_score = sleep_score.rename(columns={'timestamp':'Date'})\n",
    "# sleep_score.head()"
   ]
  },
  {
   "cell_type": "markdown",
   "id": "6ec07b81",
   "metadata": {},
   "source": [
    "### Calories burned per day\n",
    "#### March"
   ]
  },
  {
   "cell_type": "code",
   "execution_count": 29,
   "id": "5502c037",
   "metadata": {
    "scrolled": true
   },
   "outputs": [],
   "source": [
    "calories_burned_march = pd.read_json(r'C:\\Users\\leaba\\Documents\\MyFitbitData\\MathildeMeyer-Baudner\\Physical Activity/calories-2021-03-09.json')"
   ]
  },
  {
   "cell_type": "code",
   "execution_count": 30,
   "id": "228e8047",
   "metadata": {
    "scrolled": true
   },
   "outputs": [
    {
     "data": {
      "text/html": [
       "<div>\n",
       "<style scoped>\n",
       "    .dataframe tbody tr th:only-of-type {\n",
       "        vertical-align: middle;\n",
       "    }\n",
       "\n",
       "    .dataframe tbody tr th {\n",
       "        vertical-align: top;\n",
       "    }\n",
       "\n",
       "    .dataframe thead th {\n",
       "        text-align: right;\n",
       "    }\n",
       "</style>\n",
       "<table border=\"1\" class=\"dataframe\">\n",
       "  <thead>\n",
       "    <tr style=\"text-align: right;\">\n",
       "      <th></th>\n",
       "      <th>Date</th>\n",
       "      <th>Calories burned</th>\n",
       "    </tr>\n",
       "  </thead>\n",
       "  <tbody>\n",
       "    <tr>\n",
       "      <th>0</th>\n",
       "      <td>2021-03-09</td>\n",
       "      <td>1526.40</td>\n",
       "    </tr>\n",
       "    <tr>\n",
       "      <th>1</th>\n",
       "      <td>2021-03-10</td>\n",
       "      <td>2121.40</td>\n",
       "    </tr>\n",
       "    <tr>\n",
       "      <th>2</th>\n",
       "      <td>2021-03-11</td>\n",
       "      <td>2316.61</td>\n",
       "    </tr>\n",
       "    <tr>\n",
       "      <th>3</th>\n",
       "      <td>2021-03-12</td>\n",
       "      <td>2590.46</td>\n",
       "    </tr>\n",
       "    <tr>\n",
       "      <th>4</th>\n",
       "      <td>2021-03-13</td>\n",
       "      <td>1918.43</td>\n",
       "    </tr>\n",
       "  </tbody>\n",
       "</table>\n",
       "</div>"
      ],
      "text/plain": [
       "         Date  Calories burned\n",
       "0  2021-03-09          1526.40\n",
       "1  2021-03-10          2121.40\n",
       "2  2021-03-11          2316.61\n",
       "3  2021-03-12          2590.46\n",
       "4  2021-03-13          1918.43"
      ]
     },
     "execution_count": 30,
     "metadata": {},
     "output_type": "execute_result"
    }
   ],
   "source": [
    "calories_burned_march.dateTime = calories_burned_march.dateTime.astype(str).str.split(' ').str[0]  #split the created_at column at the space between the date and time. The .str[0] means it will only keep the first part of the split (which is the date).\n",
    "dfout = calories_burned_march.groupby(['dateTime']).sum() #The second line groups them by date and gives you the count.\n",
    "dfout.reset_index(level=0, inplace=True)\n",
    "calories_burned_march = dfout[['dateTime', 'value']]\n",
    "calories_burned_march.columns = ['Date', 'Calories burned']\n",
    "calories_burned_march.head()\n",
    "#calories_burned.to_csv(r'C:\\Users\\leaba\\Documents\\MyFitbitData\\df_steps_march.csv', index = None)"
   ]
  },
  {
   "cell_type": "markdown",
   "id": "44c0e1ff",
   "metadata": {},
   "source": [
    "### Calories burned per day\n",
    "#### April"
   ]
  },
  {
   "cell_type": "code",
   "execution_count": 31,
   "id": "6160b2e8",
   "metadata": {
    "scrolled": true
   },
   "outputs": [],
   "source": [
    "calories_burned_april = pd.read_json(r'C:\\Users\\leaba\\Documents\\MyFitbitData\\MathildeMeyer-Baudner\\Physical Activity/calories-2021-04-08.json')"
   ]
  },
  {
   "cell_type": "code",
   "execution_count": 32,
   "id": "b835ae53",
   "metadata": {
    "scrolled": true
   },
   "outputs": [
    {
     "data": {
      "text/html": [
       "<div>\n",
       "<style scoped>\n",
       "    .dataframe tbody tr th:only-of-type {\n",
       "        vertical-align: middle;\n",
       "    }\n",
       "\n",
       "    .dataframe tbody tr th {\n",
       "        vertical-align: top;\n",
       "    }\n",
       "\n",
       "    .dataframe thead th {\n",
       "        text-align: right;\n",
       "    }\n",
       "</style>\n",
       "<table border=\"1\" class=\"dataframe\">\n",
       "  <thead>\n",
       "    <tr style=\"text-align: right;\">\n",
       "      <th></th>\n",
       "      <th>Date</th>\n",
       "      <th>Calories burned</th>\n",
       "    </tr>\n",
       "  </thead>\n",
       "  <tbody>\n",
       "    <tr>\n",
       "      <th>0</th>\n",
       "      <td>2021-04-08</td>\n",
       "      <td>2355.77</td>\n",
       "    </tr>\n",
       "    <tr>\n",
       "      <th>1</th>\n",
       "      <td>2021-04-09</td>\n",
       "      <td>2604.83</td>\n",
       "    </tr>\n",
       "    <tr>\n",
       "      <th>2</th>\n",
       "      <td>2021-04-10</td>\n",
       "      <td>2383.30</td>\n",
       "    </tr>\n",
       "    <tr>\n",
       "      <th>3</th>\n",
       "      <td>2021-04-11</td>\n",
       "      <td>2101.95</td>\n",
       "    </tr>\n",
       "    <tr>\n",
       "      <th>4</th>\n",
       "      <td>2021-04-12</td>\n",
       "      <td>2309.13</td>\n",
       "    </tr>\n",
       "  </tbody>\n",
       "</table>\n",
       "</div>"
      ],
      "text/plain": [
       "         Date  Calories burned\n",
       "0  2021-04-08          2355.77\n",
       "1  2021-04-09          2604.83\n",
       "2  2021-04-10          2383.30\n",
       "3  2021-04-11          2101.95\n",
       "4  2021-04-12          2309.13"
      ]
     },
     "execution_count": 32,
     "metadata": {},
     "output_type": "execute_result"
    }
   ],
   "source": [
    "calories_burned_april.dateTime = calories_burned_april.dateTime.astype(str).str.split(' ').str[0]  #split the created_at column at the space between the date and time. The .str[0] means it will only keep the first part of the split (which is the date).\n",
    "dfout = calories_burned_april.groupby(['dateTime']).sum() #The second line groups them by date and gives you the count.\n",
    "dfout.reset_index(level=0, inplace=True)\n",
    "calories_burned_april = dfout[['dateTime', 'value']]\n",
    "calories_burned_april.columns = ['Date', 'Calories burned']\n",
    "calories_burned_april.head()\n",
    "#calories_burned.to_csv(r'C:\\Users\\leaba\\Documents\\MyFitbitData\\df_steps_march.csv', index = None)"
   ]
  },
  {
   "cell_type": "markdown",
   "id": "a33aa0d7",
   "metadata": {},
   "source": [
    "### Calories burned per day\n",
    "#### May"
   ]
  },
  {
   "cell_type": "code",
   "execution_count": 33,
   "id": "cf6ab968",
   "metadata": {
    "scrolled": true
   },
   "outputs": [],
   "source": [
    "calories_burned_may = pd.read_json(r'C:\\Users\\leaba\\Documents\\MyFitbitData\\MathildeMeyer-Baudner\\Physical Activity/calories-2021-05-08.json')"
   ]
  },
  {
   "cell_type": "code",
   "execution_count": 34,
   "id": "9c873cd1",
   "metadata": {
    "scrolled": true
   },
   "outputs": [
    {
     "data": {
      "text/html": [
       "<div>\n",
       "<style scoped>\n",
       "    .dataframe tbody tr th:only-of-type {\n",
       "        vertical-align: middle;\n",
       "    }\n",
       "\n",
       "    .dataframe tbody tr th {\n",
       "        vertical-align: top;\n",
       "    }\n",
       "\n",
       "    .dataframe thead th {\n",
       "        text-align: right;\n",
       "    }\n",
       "</style>\n",
       "<table border=\"1\" class=\"dataframe\">\n",
       "  <thead>\n",
       "    <tr style=\"text-align: right;\">\n",
       "      <th></th>\n",
       "      <th>Date</th>\n",
       "      <th>Calories burned</th>\n",
       "    </tr>\n",
       "  </thead>\n",
       "  <tbody>\n",
       "    <tr>\n",
       "      <th>0</th>\n",
       "      <td>2021-05-08</td>\n",
       "      <td>2468.45</td>\n",
       "    </tr>\n",
       "    <tr>\n",
       "      <th>1</th>\n",
       "      <td>2021-05-09</td>\n",
       "      <td>3036.48</td>\n",
       "    </tr>\n",
       "    <tr>\n",
       "      <th>2</th>\n",
       "      <td>2021-05-10</td>\n",
       "      <td>2046.11</td>\n",
       "    </tr>\n",
       "    <tr>\n",
       "      <th>3</th>\n",
       "      <td>2021-05-11</td>\n",
       "      <td>2121.29</td>\n",
       "    </tr>\n",
       "    <tr>\n",
       "      <th>4</th>\n",
       "      <td>2021-05-12</td>\n",
       "      <td>2588.99</td>\n",
       "    </tr>\n",
       "  </tbody>\n",
       "</table>\n",
       "</div>"
      ],
      "text/plain": [
       "         Date  Calories burned\n",
       "0  2021-05-08          2468.45\n",
       "1  2021-05-09          3036.48\n",
       "2  2021-05-10          2046.11\n",
       "3  2021-05-11          2121.29\n",
       "4  2021-05-12          2588.99"
      ]
     },
     "execution_count": 34,
     "metadata": {},
     "output_type": "execute_result"
    }
   ],
   "source": [
    "calories_burned_may.dateTime = calories_burned_may.dateTime.astype(str).str.split(' ').str[0]  #split the created_at column at the space between the date and time. The .str[0] means it will only keep the first part of the split (which is the date).\n",
    "dfout = calories_burned_may.groupby(['dateTime']).sum() #The second line groups them by date and gives you the count.\n",
    "dfout.reset_index(level=0, inplace=True)\n",
    "calories_burned_may = dfout[['dateTime', 'value']]\n",
    "calories_burned_may.columns = ['Date', 'Calories burned']\n",
    "calories_burned_may.head()\n",
    "#calories_burned.to_csv(r'C:\\Users\\leaba\\Documents\\MyFitbitData\\df_steps_march.csv', index = None)"
   ]
  },
  {
   "cell_type": "markdown",
   "id": "91fd2eaa",
   "metadata": {},
   "source": [
    "### Calories burned per day\n",
    "#### June"
   ]
  },
  {
   "cell_type": "code",
   "execution_count": 35,
   "id": "54bded7f",
   "metadata": {
    "scrolled": true
   },
   "outputs": [],
   "source": [
    "calories_burned_june = pd.read_json(r'C:\\Users\\leaba\\Documents\\MyFitbitData\\MathildeMeyer-Baudner\\Physical Activity/calories-2021-06-07.json')"
   ]
  },
  {
   "cell_type": "code",
   "execution_count": 36,
   "id": "22ba3489",
   "metadata": {
    "scrolled": true
   },
   "outputs": [
    {
     "data": {
      "text/html": [
       "<div>\n",
       "<style scoped>\n",
       "    .dataframe tbody tr th:only-of-type {\n",
       "        vertical-align: middle;\n",
       "    }\n",
       "\n",
       "    .dataframe tbody tr th {\n",
       "        vertical-align: top;\n",
       "    }\n",
       "\n",
       "    .dataframe thead th {\n",
       "        text-align: right;\n",
       "    }\n",
       "</style>\n",
       "<table border=\"1\" class=\"dataframe\">\n",
       "  <thead>\n",
       "    <tr style=\"text-align: right;\">\n",
       "      <th></th>\n",
       "      <th>Date</th>\n",
       "      <th>Calories burned</th>\n",
       "    </tr>\n",
       "  </thead>\n",
       "  <tbody>\n",
       "    <tr>\n",
       "      <th>0</th>\n",
       "      <td>2021-06-07</td>\n",
       "      <td>2784.55</td>\n",
       "    </tr>\n",
       "    <tr>\n",
       "      <th>1</th>\n",
       "      <td>2021-06-08</td>\n",
       "      <td>2449.74</td>\n",
       "    </tr>\n",
       "    <tr>\n",
       "      <th>2</th>\n",
       "      <td>2021-06-09</td>\n",
       "      <td>2882.33</td>\n",
       "    </tr>\n",
       "    <tr>\n",
       "      <th>3</th>\n",
       "      <td>2021-06-10</td>\n",
       "      <td>2821.74</td>\n",
       "    </tr>\n",
       "    <tr>\n",
       "      <th>4</th>\n",
       "      <td>2021-06-11</td>\n",
       "      <td>3200.17</td>\n",
       "    </tr>\n",
       "  </tbody>\n",
       "</table>\n",
       "</div>"
      ],
      "text/plain": [
       "         Date  Calories burned\n",
       "0  2021-06-07          2784.55\n",
       "1  2021-06-08          2449.74\n",
       "2  2021-06-09          2882.33\n",
       "3  2021-06-10          2821.74\n",
       "4  2021-06-11          3200.17"
      ]
     },
     "execution_count": 36,
     "metadata": {},
     "output_type": "execute_result"
    }
   ],
   "source": [
    "calories_burned_june.dateTime = calories_burned_june.dateTime.astype(str).str.split(' ').str[0]  #split the created_at column at the space between the date and time. The .str[0] means it will only keep the first part of the split (which is the date).\n",
    "dfout = calories_burned_june.groupby(['dateTime']).sum() #The second line groups them by date and gives you the count.\n",
    "dfout.reset_index(level=0, inplace=True)\n",
    "calories_burned_june = dfout[['dateTime', 'value']]\n",
    "calories_burned_june.columns = ['Date', 'Calories burned']\n",
    "calories_burned_june.head()\n",
    "#calories_burned.to_csv(r'C:\\Users\\leaba\\Documents\\MyFitbitData\\df_steps_march.csv', index = None)"
   ]
  },
  {
   "cell_type": "markdown",
   "id": "960f50e7",
   "metadata": {},
   "source": [
    "### Calories burned per day\n",
    "#### July"
   ]
  },
  {
   "cell_type": "code",
   "execution_count": 37,
   "id": "8f346405",
   "metadata": {
    "scrolled": true
   },
   "outputs": [],
   "source": [
    "calories_burned_july = pd.read_json(r'C:\\Users\\leaba\\Documents\\MyFitbitData\\MathildeMeyer-Baudner\\Physical Activity/calories-2021-07-07.json')"
   ]
  },
  {
   "cell_type": "code",
   "execution_count": 38,
   "id": "5ec6eb45",
   "metadata": {
    "scrolled": true
   },
   "outputs": [
    {
     "data": {
      "text/html": [
       "<div>\n",
       "<style scoped>\n",
       "    .dataframe tbody tr th:only-of-type {\n",
       "        vertical-align: middle;\n",
       "    }\n",
       "\n",
       "    .dataframe tbody tr th {\n",
       "        vertical-align: top;\n",
       "    }\n",
       "\n",
       "    .dataframe thead th {\n",
       "        text-align: right;\n",
       "    }\n",
       "</style>\n",
       "<table border=\"1\" class=\"dataframe\">\n",
       "  <thead>\n",
       "    <tr style=\"text-align: right;\">\n",
       "      <th></th>\n",
       "      <th>Date</th>\n",
       "      <th>Calories burned</th>\n",
       "    </tr>\n",
       "  </thead>\n",
       "  <tbody>\n",
       "    <tr>\n",
       "      <th>0</th>\n",
       "      <td>2021-07-07</td>\n",
       "      <td>2137.45</td>\n",
       "    </tr>\n",
       "    <tr>\n",
       "      <th>1</th>\n",
       "      <td>2021-07-08</td>\n",
       "      <td>2512.94</td>\n",
       "    </tr>\n",
       "    <tr>\n",
       "      <th>2</th>\n",
       "      <td>2021-07-09</td>\n",
       "      <td>2206.08</td>\n",
       "    </tr>\n",
       "    <tr>\n",
       "      <th>3</th>\n",
       "      <td>2021-07-10</td>\n",
       "      <td>2211.01</td>\n",
       "    </tr>\n",
       "    <tr>\n",
       "      <th>4</th>\n",
       "      <td>2021-07-11</td>\n",
       "      <td>2340.52</td>\n",
       "    </tr>\n",
       "  </tbody>\n",
       "</table>\n",
       "</div>"
      ],
      "text/plain": [
       "         Date  Calories burned\n",
       "0  2021-07-07          2137.45\n",
       "1  2021-07-08          2512.94\n",
       "2  2021-07-09          2206.08\n",
       "3  2021-07-10          2211.01\n",
       "4  2021-07-11          2340.52"
      ]
     },
     "execution_count": 38,
     "metadata": {},
     "output_type": "execute_result"
    }
   ],
   "source": [
    "calories_burned_july.dateTime = calories_burned_july.dateTime.astype(str).str.split(' ').str[0]  #split the created_at column at the space between the date and time. The .str[0] means it will only keep the first part of the split (which is the date).\n",
    "dfout = calories_burned_july.groupby(['dateTime']).sum() #The second line groups them by date and gives you the count.\n",
    "dfout.reset_index(level=0, inplace=True)\n",
    "calories_burned_july = dfout[['dateTime', 'value']]\n",
    "calories_burned_july.columns = ['Date', 'Calories burned']\n",
    "calories_burned_july.head()\n",
    "#calories_burned.to_csv(r'C:\\Users\\leaba\\Documents\\MyFitbitData\\df_steps_march.csv', index = None)"
   ]
  },
  {
   "cell_type": "markdown",
   "id": "658d4f22",
   "metadata": {},
   "source": [
    "### Calories burned per day\n",
    "#### August"
   ]
  },
  {
   "cell_type": "code",
   "execution_count": 39,
   "id": "30a8bb6c",
   "metadata": {
    "scrolled": true
   },
   "outputs": [],
   "source": [
    "calories_burned_august = pd.read_json(r'C:\\Users\\leaba\\Documents\\MyFitbitData\\MathildeMeyer-Baudner\\Physical Activity/calories-2021-08-06.json')"
   ]
  },
  {
   "cell_type": "code",
   "execution_count": 40,
   "id": "9c16a7c9",
   "metadata": {
    "scrolled": true
   },
   "outputs": [
    {
     "data": {
      "text/html": [
       "<div>\n",
       "<style scoped>\n",
       "    .dataframe tbody tr th:only-of-type {\n",
       "        vertical-align: middle;\n",
       "    }\n",
       "\n",
       "    .dataframe tbody tr th {\n",
       "        vertical-align: top;\n",
       "    }\n",
       "\n",
       "    .dataframe thead th {\n",
       "        text-align: right;\n",
       "    }\n",
       "</style>\n",
       "<table border=\"1\" class=\"dataframe\">\n",
       "  <thead>\n",
       "    <tr style=\"text-align: right;\">\n",
       "      <th></th>\n",
       "      <th>Date</th>\n",
       "      <th>Calories burned</th>\n",
       "    </tr>\n",
       "  </thead>\n",
       "  <tbody>\n",
       "    <tr>\n",
       "      <th>0</th>\n",
       "      <td>2021-08-06</td>\n",
       "      <td>2492.11</td>\n",
       "    </tr>\n",
       "    <tr>\n",
       "      <th>1</th>\n",
       "      <td>2021-08-07</td>\n",
       "      <td>2621.15</td>\n",
       "    </tr>\n",
       "    <tr>\n",
       "      <th>2</th>\n",
       "      <td>2021-08-08</td>\n",
       "      <td>2642.81</td>\n",
       "    </tr>\n",
       "    <tr>\n",
       "      <th>3</th>\n",
       "      <td>2021-08-09</td>\n",
       "      <td>2662.85</td>\n",
       "    </tr>\n",
       "    <tr>\n",
       "      <th>4</th>\n",
       "      <td>2021-08-10</td>\n",
       "      <td>2061.37</td>\n",
       "    </tr>\n",
       "  </tbody>\n",
       "</table>\n",
       "</div>"
      ],
      "text/plain": [
       "         Date  Calories burned\n",
       "0  2021-08-06          2492.11\n",
       "1  2021-08-07          2621.15\n",
       "2  2021-08-08          2642.81\n",
       "3  2021-08-09          2662.85\n",
       "4  2021-08-10          2061.37"
      ]
     },
     "execution_count": 40,
     "metadata": {},
     "output_type": "execute_result"
    }
   ],
   "source": [
    "calories_burned_august.dateTime = calories_burned_august.dateTime.astype(str).str.split(' ').str[0]  #split the created_at column at the space between the date and time. The .str[0] means it will only keep the first part of the split (which is the date).\n",
    "dfout = calories_burned_august.groupby(['dateTime']).sum() #The second line groups them by date and gives you the count.\n",
    "dfout.reset_index(level=0, inplace=True)\n",
    "calories_burned_august = dfout[['dateTime', 'value']]\n",
    "calories_burned_august.columns = ['Date', 'Calories burned']\n",
    "calories_burned_august.head()\n",
    "#calories_burned.to_csv(r'C:\\Users\\leaba\\Documents\\MyFitbitData\\df_steps_march.csv', index = None)"
   ]
  },
  {
   "cell_type": "markdown",
   "id": "9e4b5711",
   "metadata": {},
   "source": [
    "### Calories burned per day\n",
    "#### September"
   ]
  },
  {
   "cell_type": "code",
   "execution_count": 41,
   "id": "cd43d343",
   "metadata": {
    "scrolled": true
   },
   "outputs": [],
   "source": [
    "calories_burned_september = pd.read_json(r'C:\\Users\\leaba\\Documents\\MyFitbitData\\MathildeMeyer-Baudner\\Physical Activity/calories-2021-09-05.json')"
   ]
  },
  {
   "cell_type": "code",
   "execution_count": 42,
   "id": "6af21007",
   "metadata": {
    "scrolled": true
   },
   "outputs": [
    {
     "data": {
      "text/html": [
       "<div>\n",
       "<style scoped>\n",
       "    .dataframe tbody tr th:only-of-type {\n",
       "        vertical-align: middle;\n",
       "    }\n",
       "\n",
       "    .dataframe tbody tr th {\n",
       "        vertical-align: top;\n",
       "    }\n",
       "\n",
       "    .dataframe thead th {\n",
       "        text-align: right;\n",
       "    }\n",
       "</style>\n",
       "<table border=\"1\" class=\"dataframe\">\n",
       "  <thead>\n",
       "    <tr style=\"text-align: right;\">\n",
       "      <th></th>\n",
       "      <th>Date</th>\n",
       "      <th>Calories burned</th>\n",
       "    </tr>\n",
       "  </thead>\n",
       "  <tbody>\n",
       "    <tr>\n",
       "      <th>0</th>\n",
       "      <td>2021-09-05</td>\n",
       "      <td>3559.29</td>\n",
       "    </tr>\n",
       "    <tr>\n",
       "      <th>1</th>\n",
       "      <td>2021-09-06</td>\n",
       "      <td>2263.38</td>\n",
       "    </tr>\n",
       "    <tr>\n",
       "      <th>2</th>\n",
       "      <td>2021-09-07</td>\n",
       "      <td>2601.11</td>\n",
       "    </tr>\n",
       "    <tr>\n",
       "      <th>3</th>\n",
       "      <td>2021-09-08</td>\n",
       "      <td>2573.36</td>\n",
       "    </tr>\n",
       "    <tr>\n",
       "      <th>4</th>\n",
       "      <td>2021-09-09</td>\n",
       "      <td>2906.21</td>\n",
       "    </tr>\n",
       "  </tbody>\n",
       "</table>\n",
       "</div>"
      ],
      "text/plain": [
       "         Date  Calories burned\n",
       "0  2021-09-05          3559.29\n",
       "1  2021-09-06          2263.38\n",
       "2  2021-09-07          2601.11\n",
       "3  2021-09-08          2573.36\n",
       "4  2021-09-09          2906.21"
      ]
     },
     "execution_count": 42,
     "metadata": {},
     "output_type": "execute_result"
    }
   ],
   "source": [
    "calories_burned_september.dateTime = calories_burned_september.dateTime.astype(str).str.split(' ').str[0]  #split the created_at column at the space between the date and time. The .str[0] means it will only keep the first part of the split (which is the date).\n",
    "dfout = calories_burned_september.groupby(['dateTime']).sum() #The second line groups them by date and gives you the count.\n",
    "dfout.reset_index(level=0, inplace=True)\n",
    "calories_burned_september = dfout[['dateTime', 'value']]\n",
    "calories_burned_september.columns = ['Date', 'Calories burned']\n",
    "calories_burned_september.head()\n",
    "#calories_burned.to_csv(r'C:\\Users\\leaba\\Documents\\MyFitbitData\\df_steps_march.csv', index = None)"
   ]
  },
  {
   "cell_type": "markdown",
   "id": "687235b4",
   "metadata": {},
   "source": [
    "### Calories burned per day\n",
    "#### October"
   ]
  },
  {
   "cell_type": "code",
   "execution_count": 43,
   "id": "e79f7a8f",
   "metadata": {
    "scrolled": true
   },
   "outputs": [],
   "source": [
    "calories_burned_october = pd.read_json(r'C:\\Users\\leaba\\Documents\\MyFitbitData\\MathildeMeyer-Baudner\\Physical Activity/calories-2021-10-05.json')"
   ]
  },
  {
   "cell_type": "code",
   "execution_count": 44,
   "id": "cd2bed67",
   "metadata": {
    "scrolled": true
   },
   "outputs": [
    {
     "data": {
      "text/html": [
       "<div>\n",
       "<style scoped>\n",
       "    .dataframe tbody tr th:only-of-type {\n",
       "        vertical-align: middle;\n",
       "    }\n",
       "\n",
       "    .dataframe tbody tr th {\n",
       "        vertical-align: top;\n",
       "    }\n",
       "\n",
       "    .dataframe thead th {\n",
       "        text-align: right;\n",
       "    }\n",
       "</style>\n",
       "<table border=\"1\" class=\"dataframe\">\n",
       "  <thead>\n",
       "    <tr style=\"text-align: right;\">\n",
       "      <th></th>\n",
       "      <th>Date</th>\n",
       "      <th>Calories burned</th>\n",
       "    </tr>\n",
       "  </thead>\n",
       "  <tbody>\n",
       "    <tr>\n",
       "      <th>0</th>\n",
       "      <td>2021-10-05</td>\n",
       "      <td>2081.13</td>\n",
       "    </tr>\n",
       "    <tr>\n",
       "      <th>1</th>\n",
       "      <td>2021-10-06</td>\n",
       "      <td>2207.65</td>\n",
       "    </tr>\n",
       "    <tr>\n",
       "      <th>2</th>\n",
       "      <td>2021-10-07</td>\n",
       "      <td>2245.06</td>\n",
       "    </tr>\n",
       "    <tr>\n",
       "      <th>3</th>\n",
       "      <td>2021-10-08</td>\n",
       "      <td>2928.26</td>\n",
       "    </tr>\n",
       "    <tr>\n",
       "      <th>4</th>\n",
       "      <td>2021-10-09</td>\n",
       "      <td>2170.54</td>\n",
       "    </tr>\n",
       "  </tbody>\n",
       "</table>\n",
       "</div>"
      ],
      "text/plain": [
       "         Date  Calories burned\n",
       "0  2021-10-05          2081.13\n",
       "1  2021-10-06          2207.65\n",
       "2  2021-10-07          2245.06\n",
       "3  2021-10-08          2928.26\n",
       "4  2021-10-09          2170.54"
      ]
     },
     "execution_count": 44,
     "metadata": {},
     "output_type": "execute_result"
    }
   ],
   "source": [
    "calories_burned_october.dateTime = calories_burned_october.dateTime.astype(str).str.split(' ').str[0]  #split the created_at column at the space between the date and time. The .str[0] means it will only keep the first part of the split (which is the date).\n",
    "dfout = calories_burned_october.groupby(['dateTime']).sum() #The second line groups them by date and gives you the count.\n",
    "dfout.reset_index(level=0, inplace=True)\n",
    "calories_burned_october = dfout[['dateTime', 'value']]\n",
    "calories_burned_october.columns = ['Date', 'Calories burned']\n",
    "calories_burned_october.head()\n",
    "#calories_burned.to_csv(r'C:\\Users\\leaba\\Documents\\MyFitbitData\\df_steps_march.csv', index = None)"
   ]
  },
  {
   "cell_type": "markdown",
   "id": "f4da2424",
   "metadata": {},
   "source": [
    "### Calories burned per day\n",
    "#### November"
   ]
  },
  {
   "cell_type": "code",
   "execution_count": 45,
   "id": "991e628f",
   "metadata": {
    "scrolled": true
   },
   "outputs": [],
   "source": [
    "calories_burned_november = pd.read_json(r'C:\\Users\\leaba\\Documents\\MyFitbitData\\MathildeMeyer-Baudner\\Physical Activity/calories-2021-11-04.json')"
   ]
  },
  {
   "cell_type": "code",
   "execution_count": 46,
   "id": "ea7950c3",
   "metadata": {
    "scrolled": true
   },
   "outputs": [
    {
     "data": {
      "text/html": [
       "<div>\n",
       "<style scoped>\n",
       "    .dataframe tbody tr th:only-of-type {\n",
       "        vertical-align: middle;\n",
       "    }\n",
       "\n",
       "    .dataframe tbody tr th {\n",
       "        vertical-align: top;\n",
       "    }\n",
       "\n",
       "    .dataframe thead th {\n",
       "        text-align: right;\n",
       "    }\n",
       "</style>\n",
       "<table border=\"1\" class=\"dataframe\">\n",
       "  <thead>\n",
       "    <tr style=\"text-align: right;\">\n",
       "      <th></th>\n",
       "      <th>Date</th>\n",
       "      <th>Calories burned</th>\n",
       "    </tr>\n",
       "  </thead>\n",
       "  <tbody>\n",
       "    <tr>\n",
       "      <th>0</th>\n",
       "      <td>2021-11-04</td>\n",
       "      <td>2001.79</td>\n",
       "    </tr>\n",
       "    <tr>\n",
       "      <th>1</th>\n",
       "      <td>2021-11-05</td>\n",
       "      <td>2155.95</td>\n",
       "    </tr>\n",
       "    <tr>\n",
       "      <th>2</th>\n",
       "      <td>2021-11-06</td>\n",
       "      <td>2005.44</td>\n",
       "    </tr>\n",
       "    <tr>\n",
       "      <th>3</th>\n",
       "      <td>2021-11-07</td>\n",
       "      <td>1998.34</td>\n",
       "    </tr>\n",
       "    <tr>\n",
       "      <th>4</th>\n",
       "      <td>2021-11-08</td>\n",
       "      <td>2434.43</td>\n",
       "    </tr>\n",
       "  </tbody>\n",
       "</table>\n",
       "</div>"
      ],
      "text/plain": [
       "         Date  Calories burned\n",
       "0  2021-11-04          2001.79\n",
       "1  2021-11-05          2155.95\n",
       "2  2021-11-06          2005.44\n",
       "3  2021-11-07          1998.34\n",
       "4  2021-11-08          2434.43"
      ]
     },
     "execution_count": 46,
     "metadata": {},
     "output_type": "execute_result"
    }
   ],
   "source": [
    "calories_burned_november.dateTime = calories_burned_november.dateTime.astype(str).str.split(' ').str[0]  #split the created_at column at the space between the date and time. The .str[0] means it will only keep the first part of the split (which is the date).\n",
    "dfout = calories_burned_november.groupby(['dateTime']).sum() #The second line groups them by date and gives you the count.\n",
    "dfout.reset_index(level=0, inplace=True)\n",
    "calories_burned_november = dfout[['dateTime', 'value']]\n",
    "calories_burned_november.columns = ['Date', 'Calories burned']\n",
    "calories_burned_november.head()\n",
    "#calories_burned.to_csv(r'C:\\Users\\leaba\\Documents\\MyFitbitData\\df_steps_march.csv', index = None)"
   ]
  },
  {
   "cell_type": "markdown",
   "id": "8d31e2c9",
   "metadata": {},
   "source": [
    "### Calories burned per day\n",
    "#### December"
   ]
  },
  {
   "cell_type": "code",
   "execution_count": 47,
   "id": "fcc8a86b",
   "metadata": {
    "scrolled": true
   },
   "outputs": [],
   "source": [
    "calories_burned_december = pd.read_json(r'C:\\Users\\leaba\\Documents\\MyFitbitData\\MathildeMeyer-Baudner\\Physical Activity/calories-2021-12-04.json')"
   ]
  },
  {
   "cell_type": "code",
   "execution_count": 48,
   "id": "ed0a8bd3",
   "metadata": {
    "scrolled": true
   },
   "outputs": [
    {
     "data": {
      "text/html": [
       "<div>\n",
       "<style scoped>\n",
       "    .dataframe tbody tr th:only-of-type {\n",
       "        vertical-align: middle;\n",
       "    }\n",
       "\n",
       "    .dataframe tbody tr th {\n",
       "        vertical-align: top;\n",
       "    }\n",
       "\n",
       "    .dataframe thead th {\n",
       "        text-align: right;\n",
       "    }\n",
       "</style>\n",
       "<table border=\"1\" class=\"dataframe\">\n",
       "  <thead>\n",
       "    <tr style=\"text-align: right;\">\n",
       "      <th></th>\n",
       "      <th>Date</th>\n",
       "      <th>Calories burned</th>\n",
       "    </tr>\n",
       "  </thead>\n",
       "  <tbody>\n",
       "    <tr>\n",
       "      <th>0</th>\n",
       "      <td>2021-12-04</td>\n",
       "      <td>2126.47</td>\n",
       "    </tr>\n",
       "    <tr>\n",
       "      <th>1</th>\n",
       "      <td>2021-12-05</td>\n",
       "      <td>2200.46</td>\n",
       "    </tr>\n",
       "    <tr>\n",
       "      <th>2</th>\n",
       "      <td>2021-12-06</td>\n",
       "      <td>3244.34</td>\n",
       "    </tr>\n",
       "    <tr>\n",
       "      <th>3</th>\n",
       "      <td>2021-12-07</td>\n",
       "      <td>2178.85</td>\n",
       "    </tr>\n",
       "    <tr>\n",
       "      <th>4</th>\n",
       "      <td>2021-12-08</td>\n",
       "      <td>2045.16</td>\n",
       "    </tr>\n",
       "  </tbody>\n",
       "</table>\n",
       "</div>"
      ],
      "text/plain": [
       "         Date  Calories burned\n",
       "0  2021-12-04          2126.47\n",
       "1  2021-12-05          2200.46\n",
       "2  2021-12-06          3244.34\n",
       "3  2021-12-07          2178.85\n",
       "4  2021-12-08          2045.16"
      ]
     },
     "execution_count": 48,
     "metadata": {},
     "output_type": "execute_result"
    }
   ],
   "source": [
    "calories_burned_december.dateTime = calories_burned_december.dateTime.astype(str).str.split(' ').str[0]  #split the created_at column at the space between the date and time. The .str[0] means it will only keep the first part of the split (which is the date).\n",
    "dfout = calories_burned_december.groupby(['dateTime']).sum() #The second line groups them by date and gives you the count.\n",
    "dfout.reset_index(level=0, inplace=True)\n",
    "calories_burned_december = dfout[['dateTime', 'value']]\n",
    "calories_burned_december.columns = ['Date', 'Calories burned']\n",
    "calories_burned_december.head()\n",
    "#calories_burned.to_csv(r'C:\\Users\\leaba\\Documents\\MyFitbitData\\df_steps_march.csv', index = None)"
   ]
  },
  {
   "cell_type": "code",
   "execution_count": 49,
   "id": "afdc3857",
   "metadata": {},
   "outputs": [],
   "source": [
    "df_caloriesburned = pd.concat([calories_burned_march, calories_burned_april, calories_burned_may, calories_burned_june, calories_burned_july, calories_burned_august, calories_burned_september, calories_burned_october, calories_burned_november, calories_burned_december],ignore_index=True)\n",
    "#df_caloriesburned.head()\n",
    "df_caloriesburned.to_csv(r'C:\\Users\\leaba\\Documents\\MyFitbitData\\df_caloriesburned.csv', index = None)"
   ]
  },
  {
   "cell_type": "markdown",
   "id": "cd83d236",
   "metadata": {},
   "source": [
    "### Putting different dataframes together (sleep_score, daily steps together & calories) on the date."
   ]
  },
  {
   "cell_type": "code",
   "execution_count": 50,
   "id": "9b69247c",
   "metadata": {
    "scrolled": true
   },
   "outputs": [],
   "source": [
    "final = pd.merge(df_dailysteps, sleep_score, on = 'Date', how='left').fillna(0) #column of Date is the common identifier\n",
    "finaldf = pd.merge(final, frame, on = 'Date', how='left').fillna(0) #column of Date is the common identifier\n",
    "#finaldff = pd.merge(finaldf, calories_burned, on = 'Date', how='left').fillna(0) #column of Date is the common identifier\n",
    "finaldfff = pd.merge(finaldf, df_caloriesburned, on = 'Date', how='left').fillna(0) \n",
    "#finaldfff.head()"
   ]
  },
  {
   "cell_type": "code",
   "execution_count": 51,
   "id": "5afc65cc",
   "metadata": {},
   "outputs": [
    {
     "name": "stdout",
     "output_type": "stream",
     "text": [
      "<class 'pandas.core.frame.DataFrame'>\n",
      "RangeIndex: 269 entries, 0 to 268\n",
      "Data columns (total 22 columns):\n",
      " #   Column                                    Non-Null Count  Dtype  \n",
      "---  ------                                    --------------  -----  \n",
      " 0   Date                                      269 non-null    object \n",
      " 1   startTime                                 269 non-null    object \n",
      " 2   endTime                                   269 non-null    object \n",
      " 3   duration                                  269 non-null    int64  \n",
      " 4   minutesToFallAsleep                       269 non-null    int64  \n",
      " 5   minutesAsleep                             269 non-null    int64  \n",
      " 6   minutesAwake                              269 non-null    int64  \n",
      " 7   minutesAfterWakeup                        269 non-null    int64  \n",
      " 8   timeInBed                                 269 non-null    int64  \n",
      " 9   efficiency                                269 non-null    int64  \n",
      " 10  levels.summary.deep.count                 259 non-null    float64\n",
      " 11  levels.summary.deep.minutes               259 non-null    float64\n",
      " 12  levels.summary.deep.thirtyDayAvgMinutes   259 non-null    float64\n",
      " 13  levels.summary.wake.count                 259 non-null    float64\n",
      " 14  levels.summary.wake.minutes               259 non-null    float64\n",
      " 15  levels.summary.wake.thirtyDayAvgMinutes   259 non-null    float64\n",
      " 16  levels.summary.light.count                259 non-null    float64\n",
      " 17  levels.summary.light.minutes              259 non-null    float64\n",
      " 18  levels.summary.light.thirtyDayAvgMinutes  259 non-null    float64\n",
      " 19  levels.summary.rem.count                  259 non-null    float64\n",
      " 20  levels.summary.rem.minutes                259 non-null    float64\n",
      " 21  levels.summary.rem.thirtyDayAvgMinutes    259 non-null    float64\n",
      "dtypes: float64(12), int64(7), object(3)\n",
      "memory usage: 46.4+ KB\n"
     ]
    }
   ],
   "source": [
    "df_sleep = pd.read_csv(r'C:\\Users\\leaba\\Documents\\MyFitbitData/df_sleep.csv')\n",
    "df_sleep.info()\n",
    "finaldffff = pd.merge(finaldfff, df_sleep, on = 'Date', how='left').fillna(0) "
   ]
  },
  {
   "cell_type": "code",
   "execution_count": 52,
   "id": "f5dcb615",
   "metadata": {},
   "outputs": [],
   "source": [
    "analysis = finaldffff.rename(columns={'Daily Steps1':'Daily Steps'})\n",
    "#analysis = analysis.replace(0, np.nan, inplace=True)\n",
    "#analysis = analysis.replace({0:pd.NA})"
   ]
  },
  {
   "cell_type": "code",
   "execution_count": 53,
   "id": "9d9b17f5",
   "metadata": {},
   "outputs": [],
   "source": [
    "analysis = analysis.drop('sleep_log_entry_id', 1) #where 1 is the axis number (0 for rows and 1 for columns.)\n",
    "\n",
    "#analysis.to_csv(r'C:\\Users\\leaba\\Documents\\MyFitbitData\\analysis.csv', index = None)"
   ]
  },
  {
   "cell_type": "code",
   "execution_count": 54,
   "id": "02cf7e55",
   "metadata": {},
   "outputs": [
    {
     "name": "stdout",
     "output_type": "stream",
     "text": [
      "<class 'pandas.core.frame.DataFrame'>\n",
      "Int64Index: 322 entries, 0 to 321\n",
      "Data columns (total 34 columns):\n",
      " #   Column                                    Non-Null Count  Dtype  \n",
      "---  ------                                    --------------  -----  \n",
      " 0   Date                                      322 non-null    object \n",
      " 1   Daily Steps                               322 non-null    int64  \n",
      " 2   overall_score                             322 non-null    float64\n",
      " 3   composition_score                         322 non-null    float64\n",
      " 4   revitalization_score                      322 non-null    float64\n",
      " 5   duration_score                            322 non-null    float64\n",
      " 6   deep_sleep_in_minutes                     322 non-null    float64\n",
      " 7   resting_heart_rate                        322 non-null    float64\n",
      " 8   restlessness                              322 non-null    float64\n",
      " 9   rmssd                                     322 non-null    float64\n",
      " 10  nremhr                                    322 non-null    float64\n",
      " 11  entropy                                   322 non-null    float64\n",
      " 12  Calories burned                           322 non-null    float64\n",
      " 13  startTime                                 322 non-null    object \n",
      " 14  endTime                                   322 non-null    object \n",
      " 15  duration                                  322 non-null    float64\n",
      " 16  minutesToFallAsleep                       322 non-null    float64\n",
      " 17  minutesAsleep                             322 non-null    float64\n",
      " 18  minutesAwake                              322 non-null    float64\n",
      " 19  minutesAfterWakeup                        322 non-null    float64\n",
      " 20  timeInBed                                 322 non-null    float64\n",
      " 21  efficiency                                322 non-null    float64\n",
      " 22  levels.summary.deep.count                 322 non-null    float64\n",
      " 23  levels.summary.deep.minutes               322 non-null    float64\n",
      " 24  levels.summary.deep.thirtyDayAvgMinutes   322 non-null    float64\n",
      " 25  levels.summary.wake.count                 322 non-null    float64\n",
      " 26  levels.summary.wake.minutes               322 non-null    float64\n",
      " 27  levels.summary.wake.thirtyDayAvgMinutes   322 non-null    float64\n",
      " 28  levels.summary.light.count                322 non-null    float64\n",
      " 29  levels.summary.light.minutes              322 non-null    float64\n",
      " 30  levels.summary.light.thirtyDayAvgMinutes  322 non-null    float64\n",
      " 31  levels.summary.rem.count                  322 non-null    float64\n",
      " 32  levels.summary.rem.minutes                322 non-null    float64\n",
      " 33  levels.summary.rem.thirtyDayAvgMinutes    322 non-null    float64\n",
      "dtypes: float64(30), int64(1), object(3)\n",
      "memory usage: 88.0+ KB\n"
     ]
    }
   ],
   "source": [
    "analysis.info()"
   ]
  },
  {
   "cell_type": "markdown",
   "id": "52b84e60",
   "metadata": {},
   "source": [
    "In the beginning, the user did not wear the FitBit watch regularly - meaning that no data has been collected. Since these \"missed\" days only sum up to roughly 30 days, I decided to fill the missing data with the mean of the corresponding column. "
   ]
  },
  {
   "cell_type": "code",
   "execution_count": 55,
   "id": "867b1b43",
   "metadata": {},
   "outputs": [],
   "source": [
    "analysis['overall_score'] = analysis['overall_score'].replace(0,analysis['overall_score'].mean())\n",
    "analysis['composition_score'] = analysis['composition_score'].replace(0,analysis['composition_score'].mean())\n",
    "analysis['revitalization_score'] = analysis['revitalization_score'].replace(0,analysis['revitalization_score'].mean())\n",
    "analysis['duration_score'] = analysis['duration_score'].replace(0,analysis['duration_score'].mean())\n",
    "analysis['deep_sleep_in_minutes'] = analysis['deep_sleep_in_minutes'].replace(0,analysis['deep_sleep_in_minutes'].mean())\n",
    "analysis['resting_heart_rate'] = analysis['resting_heart_rate'].replace(0,analysis['resting_heart_rate'].mean())\n",
    "analysis['duration'] = analysis['duration'].replace(0,analysis['duration'].mean())\n",
    "analysis['minutesAsleep'] = analysis['minutesAsleep'].replace(0,analysis['minutesAsleep'].mean())\n",
    "analysis['minutesAwake'] = analysis['minutesAwake'].replace(0,analysis['minutesAwake'].mean())\n",
    "analysis['timeInBed'] = analysis['timeInBed'].replace(0,analysis['timeInBed'].mean())\n",
    "analysis['efficiency'] = analysis['efficiency'].replace(0,analysis['efficiency'].mean())\n",
    "analysis['levels.summary.deep.count'] = analysis['levels.summary.deep.count'].replace(0,analysis['levels.summary.deep.count'].mean())\n",
    "analysis['levels.summary.deep.minutes'] = analysis['levels.summary.deep.minutes'].replace(0,analysis['levels.summary.deep.minutes'].mean())\n",
    "analysis['levels.summary.wake.count'] = analysis['levels.summary.wake.count'].replace(0,analysis['levels.summary.wake.count'].mean())\n",
    "analysis['levels.summary.wake.minutes'] = analysis['levels.summary.wake.minutes'].replace(0,analysis['levels.summary.wake.minutes'].mean())\n",
    "analysis['levels.summary.light.count'] = analysis['levels.summary.light.count'].replace(0,analysis['levels.summary.light.count'].mean())\n",
    "analysis['levels.summary.light.minutes'] = analysis['levels.summary.light.minutes'].replace(0,analysis['levels.summary.light.minutes'].mean())\n",
    "analysis['levels.summary.rem.count'] = analysis['levels.summary.rem.count'].replace(0,analysis['levels.summary.rem.count'].mean())\n",
    "analysis['levels.summary.rem.minutes'] = analysis['levels.summary.rem.minutes'].replace(0,analysis['levels.summary.rem.minutes'].mean())"
   ]
  },
  {
   "cell_type": "code",
   "execution_count": 58,
   "id": "377f6381",
   "metadata": {},
   "outputs": [],
   "source": [
    "# drop all unnecessary columns\n",
    "analysis.drop(analysis.columns[[1,3,4,5,6,8,9,10,11,12,14,16,19,22,24,25,27,28,30,31,33]], axis = 1, inplace = True)"
   ]
  },
  {
   "cell_type": "code",
   "execution_count": 59,
   "id": "e3242507",
   "metadata": {},
   "outputs": [
    {
     "data": {
      "text/html": [
       "<div>\n",
       "<style scoped>\n",
       "    .dataframe tbody tr th:only-of-type {\n",
       "        vertical-align: middle;\n",
       "    }\n",
       "\n",
       "    .dataframe tbody tr th {\n",
       "        vertical-align: top;\n",
       "    }\n",
       "\n",
       "    .dataframe thead th {\n",
       "        text-align: right;\n",
       "    }\n",
       "</style>\n",
       "<table border=\"1\" class=\"dataframe\">\n",
       "  <thead>\n",
       "    <tr style=\"text-align: right;\">\n",
       "      <th></th>\n",
       "      <th>Date</th>\n",
       "      <th>overall_score</th>\n",
       "      <th>resting_heart_rate</th>\n",
       "      <th>startTime</th>\n",
       "      <th>duration</th>\n",
       "      <th>minutesAsleep</th>\n",
       "      <th>minutesAwake</th>\n",
       "      <th>timeInBed</th>\n",
       "      <th>efficiency</th>\n",
       "      <th>levels.summary.deep.minutes</th>\n",
       "      <th>levels.summary.wake.minutes</th>\n",
       "      <th>levels.summary.light.minutes</th>\n",
       "      <th>levels.summary.rem.minutes</th>\n",
       "    </tr>\n",
       "  </thead>\n",
       "  <tbody>\n",
       "    <tr>\n",
       "      <th>0</th>\n",
       "      <td>2021-03-10</td>\n",
       "      <td>70.5</td>\n",
       "      <td>58.310559</td>\n",
       "      <td>0</td>\n",
       "      <td>2.238950e+07</td>\n",
       "      <td>330.242236</td>\n",
       "      <td>42.891304</td>\n",
       "      <td>373.158385</td>\n",
       "      <td>79.273292</td>\n",
       "      <td>51.770186</td>\n",
       "      <td>42.732919</td>\n",
       "      <td>203.596273</td>\n",
       "      <td>71.798137</td>\n",
       "    </tr>\n",
       "    <tr>\n",
       "      <th>1</th>\n",
       "      <td>2021-03-11</td>\n",
       "      <td>70.5</td>\n",
       "      <td>58.310559</td>\n",
       "      <td>0</td>\n",
       "      <td>2.238950e+07</td>\n",
       "      <td>330.242236</td>\n",
       "      <td>42.891304</td>\n",
       "      <td>373.158385</td>\n",
       "      <td>79.273292</td>\n",
       "      <td>51.770186</td>\n",
       "      <td>42.732919</td>\n",
       "      <td>203.596273</td>\n",
       "      <td>71.798137</td>\n",
       "    </tr>\n",
       "    <tr>\n",
       "      <th>2</th>\n",
       "      <td>2021-03-12</td>\n",
       "      <td>70.5</td>\n",
       "      <td>58.310559</td>\n",
       "      <td>0</td>\n",
       "      <td>2.238950e+07</td>\n",
       "      <td>330.242236</td>\n",
       "      <td>42.891304</td>\n",
       "      <td>373.158385</td>\n",
       "      <td>79.273292</td>\n",
       "      <td>51.770186</td>\n",
       "      <td>42.732919</td>\n",
       "      <td>203.596273</td>\n",
       "      <td>71.798137</td>\n",
       "    </tr>\n",
       "    <tr>\n",
       "      <th>3</th>\n",
       "      <td>2021-03-13</td>\n",
       "      <td>70.5</td>\n",
       "      <td>58.310559</td>\n",
       "      <td>0</td>\n",
       "      <td>2.238950e+07</td>\n",
       "      <td>330.242236</td>\n",
       "      <td>42.891304</td>\n",
       "      <td>373.158385</td>\n",
       "      <td>79.273292</td>\n",
       "      <td>51.770186</td>\n",
       "      <td>42.732919</td>\n",
       "      <td>203.596273</td>\n",
       "      <td>71.798137</td>\n",
       "    </tr>\n",
       "    <tr>\n",
       "      <th>4</th>\n",
       "      <td>2021-03-14</td>\n",
       "      <td>70.5</td>\n",
       "      <td>58.310559</td>\n",
       "      <td>0</td>\n",
       "      <td>2.238950e+07</td>\n",
       "      <td>330.242236</td>\n",
       "      <td>42.891304</td>\n",
       "      <td>373.158385</td>\n",
       "      <td>79.273292</td>\n",
       "      <td>51.770186</td>\n",
       "      <td>42.732919</td>\n",
       "      <td>203.596273</td>\n",
       "      <td>71.798137</td>\n",
       "    </tr>\n",
       "  </tbody>\n",
       "</table>\n",
       "</div>"
      ],
      "text/plain": [
       "         Date  overall_score  resting_heart_rate startTime      duration  \\\n",
       "0  2021-03-10           70.5           58.310559         0  2.238950e+07   \n",
       "1  2021-03-11           70.5           58.310559         0  2.238950e+07   \n",
       "2  2021-03-12           70.5           58.310559         0  2.238950e+07   \n",
       "3  2021-03-13           70.5           58.310559         0  2.238950e+07   \n",
       "4  2021-03-14           70.5           58.310559         0  2.238950e+07   \n",
       "\n",
       "   minutesAsleep  minutesAwake   timeInBed  efficiency  \\\n",
       "0     330.242236     42.891304  373.158385   79.273292   \n",
       "1     330.242236     42.891304  373.158385   79.273292   \n",
       "2     330.242236     42.891304  373.158385   79.273292   \n",
       "3     330.242236     42.891304  373.158385   79.273292   \n",
       "4     330.242236     42.891304  373.158385   79.273292   \n",
       "\n",
       "   levels.summary.deep.minutes  levels.summary.wake.minutes  \\\n",
       "0                    51.770186                    42.732919   \n",
       "1                    51.770186                    42.732919   \n",
       "2                    51.770186                    42.732919   \n",
       "3                    51.770186                    42.732919   \n",
       "4                    51.770186                    42.732919   \n",
       "\n",
       "   levels.summary.light.minutes  levels.summary.rem.minutes  \n",
       "0                    203.596273                   71.798137  \n",
       "1                    203.596273                   71.798137  \n",
       "2                    203.596273                   71.798137  \n",
       "3                    203.596273                   71.798137  \n",
       "4                    203.596273                   71.798137  "
      ]
     },
     "execution_count": 59,
     "metadata": {},
     "output_type": "execute_result"
    }
   ],
   "source": [
    "analysis.head()"
   ]
  },
  {
   "cell_type": "code",
   "execution_count": 60,
   "id": "5aa7ccf3",
   "metadata": {},
   "outputs": [],
   "source": [
    "analysis.to_csv(r'C:\\Users\\leaba\\Documents\\MyFitbitData\\analysis.csv', index = None)"
   ]
  }
 ],
 "metadata": {
  "kernelspec": {
   "display_name": "Python 3",
   "language": "python",
   "name": "python3"
  },
  "language_info": {
   "codemirror_mode": {
    "name": "ipython",
    "version": 3
   },
   "file_extension": ".py",
   "mimetype": "text/x-python",
   "name": "python",
   "nbconvert_exporter": "python",
   "pygments_lexer": "ipython3",
   "version": "3.8.8"
  }
 },
 "nbformat": 4,
 "nbformat_minor": 5
}
