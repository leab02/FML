{
 "cells": [
  {
   "cell_type": "markdown",
   "id": "fee7b7ee",
   "metadata": {},
   "source": [
    "# Introduction\n",
    "#### describe which dataset and variables you selected and why\n",
    "\n",
    "For this assignment, the dataset \"IBM HR Analytics Employee Attrition & Performance\" has been used. "
   ]
  },
  {
   "cell_type": "code",
   "execution_count": 22,
   "id": "31b0d5b7",
   "metadata": {},
   "outputs": [
    {
     "ename": "ImportError",
     "evalue": "cannot import name 'export' from 'sklearn.tree' (C:\\Users\\leaba\\anaconda3\\lib\\site-packages\\sklearn\\tree\\__init__.py)",
     "output_type": "error",
     "traceback": [
      "\u001b[1;31m---------------------------------------------------------------------------\u001b[0m",
      "\u001b[1;31mImportError\u001b[0m                               Traceback (most recent call last)",
      "\u001b[1;32m<ipython-input-22-d0b1e6a4f71b>\u001b[0m in \u001b[0;36m<module>\u001b[1;34m\u001b[0m\n\u001b[0;32m      9\u001b[0m \u001b[1;32mfrom\u001b[0m \u001b[0msklearn\u001b[0m\u001b[1;33m.\u001b[0m\u001b[0mmetrics\u001b[0m \u001b[1;32mimport\u001b[0m \u001b[0mr2_score\u001b[0m\u001b[1;33m\u001b[0m\u001b[1;33m\u001b[0m\u001b[0m\n\u001b[0;32m     10\u001b[0m \u001b[1;32mfrom\u001b[0m \u001b[0msklearn\u001b[0m\u001b[1;33m.\u001b[0m\u001b[0mmodel_selection\u001b[0m \u001b[1;32mimport\u001b[0m \u001b[0mtrain_test_split\u001b[0m\u001b[1;33m\u001b[0m\u001b[1;33m\u001b[0m\u001b[0m\n\u001b[1;32m---> 11\u001b[1;33m \u001b[1;32mfrom\u001b[0m \u001b[0msklearn\u001b[0m\u001b[1;33m.\u001b[0m\u001b[0mtree\u001b[0m \u001b[1;32mimport\u001b[0m \u001b[0mDecisionTreeClassifier\u001b[0m\u001b[1;33m,\u001b[0m \u001b[0mDecisionTreeRegressor\u001b[0m\u001b[1;33m,\u001b[0m \u001b[0mexport_graphviz\u001b[0m\u001b[1;33m,\u001b[0m \u001b[0mexport\u001b[0m\u001b[1;33m\u001b[0m\u001b[1;33m\u001b[0m\u001b[0m\n\u001b[0m\u001b[0;32m     12\u001b[0m \u001b[1;32mfrom\u001b[0m \u001b[0msklearn\u001b[0m\u001b[1;33m.\u001b[0m\u001b[0mmetrics\u001b[0m \u001b[1;32mimport\u001b[0m \u001b[0mconfusion_matrix\u001b[0m\u001b[1;33m\u001b[0m\u001b[1;33m\u001b[0m\u001b[0m\n\u001b[0;32m     13\u001b[0m \u001b[1;32mfrom\u001b[0m \u001b[0msklearn\u001b[0m\u001b[1;33m.\u001b[0m\u001b[0mneighbors\u001b[0m \u001b[1;32mimport\u001b[0m \u001b[0mKNeighborsClassifier\u001b[0m\u001b[1;33m\u001b[0m\u001b[1;33m\u001b[0m\u001b[0m\n",
      "\u001b[1;31mImportError\u001b[0m: cannot import name 'export' from 'sklearn.tree' (C:\\Users\\leaba\\anaconda3\\lib\\site-packages\\sklearn\\tree\\__init__.py)"
     ]
    }
   ],
   "source": [
    "import pandas as pd\n",
    "import seaborn as sns\n",
    "import numpy as np\n",
    "import matplotlib.pyplot as plt\n",
    "import matplotlib\n",
    "import math\n",
    "from sklearn.linear_model import LinearRegression #This is the linear regression model from sk-learn\n",
    "from sklearn.metrics import mean_squared_error\n",
    "from sklearn.metrics import r2_score\n",
    "from sklearn.model_selection import train_test_split\n",
    "from sklearn.tree import DecisionTreeClassifier, DecisionTreeRegressor, export_graphviz, export\n",
    "from sklearn.metrics import confusion_matrix\n",
    "from sklearn.neighbors import KNeighborsClassifier\n",
    "\n",
    "df = pd.read_csv('WA_Fn-UseC_-HR-Employee-Attrition.csv')\n",
    "df = df[['Attrition', 'DistanceFromHome', 'Gender', 'JobSatisfaction', 'MonthlyIncome', 'PercentSalaryHike', 'WorkLifeBalance', 'YearsAtCompany']]\n",
    "df.head()"
   ]
  },
  {
   "cell_type": "markdown",
   "id": "4b4f1126",
   "metadata": {},
   "source": [
    "In regards to possible correlations, those variables were chosen based on the following:\n",
    "- Attrition: important to know whether or not the employee quit the job\n",
    "- Distance from Home: According to a study, geographical distance increases quit propensity (https://bpspsychub.onlinelibrary.wiley.com/doi/full/10.1111/joop.12047?casa_token=OSw1MgXlNqMAAAAA%3A3Eico-i9_S-f6elL2paFqGs3Z5q9i2spnY-q7ldXy30KI9a7RuplYTi3Rcj1AvRHio1xEk530YZP-yk)\n",
    "- Gender, Job Satisfaction, & Work Life Balance: According to a study, gender and department climate on job Satisfaction play a role in quitting the job for Faculty in Science and Engineering Fields https://link.springer.com/article/10.1007/s10961-006-7208-y\n",
    "- Monthly Income:\n",
    "- Percent Salary Hike:\n",
    "- Years at Company: The hypothesis is that the longer you already worked at a company, the less keen you are on quitting your job due to multiple reason, e.g. \"emotional attachment\""
   ]
  },
  {
   "cell_type": "markdown",
   "id": "de756c43",
   "metadata": {},
   "source": [
    "# Data Cleaning\n",
    "#### describe any data cleaning steps"
   ]
  },
  {
   "cell_type": "code",
   "execution_count": 2,
   "id": "ddd2c8f6",
   "metadata": {},
   "outputs": [],
   "source": [
    "df_numeric = df[['DistanceFromHome', 'JobSatisfaction', 'MonthlyIncome', 'PercentSalaryHike', 'WorkLifeBalance', 'YearsAtCompany']]"
   ]
  },
  {
   "cell_type": "code",
   "execution_count": 3,
   "id": "41e0c16d",
   "metadata": {},
   "outputs": [],
   "source": [
    "from sklearn.preprocessing import OneHotEncoder\n",
    "import numpy as np\n",
    "\n",
    "gender_encoder = OneHotEncoder()\n",
    "gender_reshaped = np.array(df['Gender']).reshape(-1, 1)\n",
    "gender_values = gender_encoder.fit_transform(gender_reshaped)\n",
    "\n",
    "attrition_encoder = OneHotEncoder()\n",
    "attrition_reshaped = np.array(df['Attrition']).reshape(-1, 1)\n",
    "attrition_values = attrition_encoder.fit_transform(attrition_reshaped)"
   ]
  },
  {
   "cell_type": "code",
   "execution_count": 4,
   "id": "a930e29b",
   "metadata": {},
   "outputs": [
    {
     "name": "stdout",
     "output_type": "stream",
     "text": [
      "(1470, 4)\n"
     ]
    },
    {
     "data": {
      "text/html": [
       "<div>\n",
       "<style scoped>\n",
       "    .dataframe tbody tr th:only-of-type {\n",
       "        vertical-align: middle;\n",
       "    }\n",
       "\n",
       "    .dataframe tbody tr th {\n",
       "        vertical-align: top;\n",
       "    }\n",
       "\n",
       "    .dataframe thead th {\n",
       "        text-align: right;\n",
       "    }\n",
       "</style>\n",
       "<table border=\"1\" class=\"dataframe\">\n",
       "  <thead>\n",
       "    <tr style=\"text-align: right;\">\n",
       "      <th></th>\n",
       "      <th>Female</th>\n",
       "      <th>Male</th>\n",
       "      <th>Yes</th>\n",
       "      <th>No</th>\n",
       "    </tr>\n",
       "  </thead>\n",
       "  <tbody>\n",
       "    <tr>\n",
       "      <th>0</th>\n",
       "      <td>1.0</td>\n",
       "      <td>0.0</td>\n",
       "      <td>0.0</td>\n",
       "      <td>1.0</td>\n",
       "    </tr>\n",
       "    <tr>\n",
       "      <th>1</th>\n",
       "      <td>0.0</td>\n",
       "      <td>1.0</td>\n",
       "      <td>1.0</td>\n",
       "      <td>0.0</td>\n",
       "    </tr>\n",
       "    <tr>\n",
       "      <th>2</th>\n",
       "      <td>0.0</td>\n",
       "      <td>1.0</td>\n",
       "      <td>0.0</td>\n",
       "      <td>1.0</td>\n",
       "    </tr>\n",
       "    <tr>\n",
       "      <th>3</th>\n",
       "      <td>1.0</td>\n",
       "      <td>0.0</td>\n",
       "      <td>1.0</td>\n",
       "      <td>0.0</td>\n",
       "    </tr>\n",
       "    <tr>\n",
       "      <th>4</th>\n",
       "      <td>0.0</td>\n",
       "      <td>1.0</td>\n",
       "      <td>1.0</td>\n",
       "      <td>0.0</td>\n",
       "    </tr>\n",
       "  </tbody>\n",
       "</table>\n",
       "</div>"
      ],
      "text/plain": [
       "   Female  Male  Yes   No\n",
       "0     1.0   0.0  0.0  1.0\n",
       "1     0.0   1.0  1.0  0.0\n",
       "2     0.0   1.0  0.0  1.0\n",
       "3     1.0   0.0  1.0  0.0\n",
       "4     0.0   1.0  1.0  0.0"
      ]
     },
     "execution_count": 4,
     "metadata": {},
     "output_type": "execute_result"
    }
   ],
   "source": [
    "gender = pd.DataFrame(gender_values.toarray(), columns=['Female', 'Male'])\n",
    "attrition = pd.DataFrame(attrition_values.toarray(), columns=['Yes', 'No'])\n",
    "\n",
    "# Combine all categorical columns as one dataframe\n",
    "df_categorical_encoded = pd.concat([gender, attrition], axis=1)\n",
    "print(df_categorical_encoded.shape)\n",
    "df_categorical_encoded.head()"
   ]
  },
  {
   "cell_type": "code",
   "execution_count": 5,
   "id": "85533e69",
   "metadata": {},
   "outputs": [
    {
     "data": {
      "text/html": [
       "<div>\n",
       "<style scoped>\n",
       "    .dataframe tbody tr th:only-of-type {\n",
       "        vertical-align: middle;\n",
       "    }\n",
       "\n",
       "    .dataframe tbody tr th {\n",
       "        vertical-align: top;\n",
       "    }\n",
       "\n",
       "    .dataframe thead th {\n",
       "        text-align: right;\n",
       "    }\n",
       "</style>\n",
       "<table border=\"1\" class=\"dataframe\">\n",
       "  <thead>\n",
       "    <tr style=\"text-align: right;\">\n",
       "      <th></th>\n",
       "      <th>DistanceFromHome</th>\n",
       "      <th>JobSatisfaction</th>\n",
       "      <th>MonthlyIncome</th>\n",
       "      <th>PercentSalaryHike</th>\n",
       "      <th>WorkLifeBalance</th>\n",
       "      <th>YearsAtCompany</th>\n",
       "      <th>Female</th>\n",
       "      <th>Male</th>\n",
       "      <th>Yes</th>\n",
       "      <th>No</th>\n",
       "    </tr>\n",
       "  </thead>\n",
       "  <tbody>\n",
       "    <tr>\n",
       "      <th>0</th>\n",
       "      <td>1</td>\n",
       "      <td>4</td>\n",
       "      <td>5993</td>\n",
       "      <td>11</td>\n",
       "      <td>1</td>\n",
       "      <td>6</td>\n",
       "      <td>1.0</td>\n",
       "      <td>0.0</td>\n",
       "      <td>0.0</td>\n",
       "      <td>1.0</td>\n",
       "    </tr>\n",
       "    <tr>\n",
       "      <th>1</th>\n",
       "      <td>8</td>\n",
       "      <td>2</td>\n",
       "      <td>5130</td>\n",
       "      <td>23</td>\n",
       "      <td>3</td>\n",
       "      <td>10</td>\n",
       "      <td>0.0</td>\n",
       "      <td>1.0</td>\n",
       "      <td>1.0</td>\n",
       "      <td>0.0</td>\n",
       "    </tr>\n",
       "    <tr>\n",
       "      <th>2</th>\n",
       "      <td>2</td>\n",
       "      <td>3</td>\n",
       "      <td>2090</td>\n",
       "      <td>15</td>\n",
       "      <td>3</td>\n",
       "      <td>0</td>\n",
       "      <td>0.0</td>\n",
       "      <td>1.0</td>\n",
       "      <td>0.0</td>\n",
       "      <td>1.0</td>\n",
       "    </tr>\n",
       "    <tr>\n",
       "      <th>3</th>\n",
       "      <td>3</td>\n",
       "      <td>3</td>\n",
       "      <td>2909</td>\n",
       "      <td>11</td>\n",
       "      <td>3</td>\n",
       "      <td>8</td>\n",
       "      <td>1.0</td>\n",
       "      <td>0.0</td>\n",
       "      <td>1.0</td>\n",
       "      <td>0.0</td>\n",
       "    </tr>\n",
       "    <tr>\n",
       "      <th>4</th>\n",
       "      <td>2</td>\n",
       "      <td>2</td>\n",
       "      <td>3468</td>\n",
       "      <td>12</td>\n",
       "      <td>3</td>\n",
       "      <td>2</td>\n",
       "      <td>0.0</td>\n",
       "      <td>1.0</td>\n",
       "      <td>1.0</td>\n",
       "      <td>0.0</td>\n",
       "    </tr>\n",
       "  </tbody>\n",
       "</table>\n",
       "</div>"
      ],
      "text/plain": [
       "   DistanceFromHome  JobSatisfaction  MonthlyIncome  PercentSalaryHike  \\\n",
       "0                 1                4           5993                 11   \n",
       "1                 8                2           5130                 23   \n",
       "2                 2                3           2090                 15   \n",
       "3                 3                3           2909                 11   \n",
       "4                 2                2           3468                 12   \n",
       "\n",
       "   WorkLifeBalance  YearsAtCompany  Female  Male  Yes   No  \n",
       "0                1               6     1.0   0.0  0.0  1.0  \n",
       "1                3              10     0.0   1.0  1.0  0.0  \n",
       "2                3               0     0.0   1.0  0.0  1.0  \n",
       "3                3               8     1.0   0.0  1.0  0.0  \n",
       "4                3               2     0.0   1.0  1.0  0.0  "
      ]
     },
     "execution_count": 5,
     "metadata": {},
     "output_type": "execute_result"
    }
   ],
   "source": [
    "df1 = pd.concat([df_numeric, df_categorical_encoded], axis=1)\n",
    "df1.head()"
   ]
  },
  {
   "cell_type": "markdown",
   "id": "8df0c4a2",
   "metadata": {},
   "source": [
    "# Exploratory data analysis\n",
    "#### present relevant grahs and tables with respect to your problem"
   ]
  },
  {
   "cell_type": "code",
   "execution_count": 14,
   "id": "4c60f4e8",
   "metadata": {},
   "outputs": [
    {
     "data": {
      "text/html": [
       "<div>\n",
       "<style scoped>\n",
       "    .dataframe tbody tr th:only-of-type {\n",
       "        vertical-align: middle;\n",
       "    }\n",
       "\n",
       "    .dataframe tbody tr th {\n",
       "        vertical-align: top;\n",
       "    }\n",
       "\n",
       "    .dataframe thead th {\n",
       "        text-align: right;\n",
       "    }\n",
       "</style>\n",
       "<table border=\"1\" class=\"dataframe\">\n",
       "  <thead>\n",
       "    <tr style=\"text-align: right;\">\n",
       "      <th></th>\n",
       "      <th>DistanceFromHome</th>\n",
       "      <th>JobSatisfaction</th>\n",
       "      <th>MonthlyIncome</th>\n",
       "      <th>PercentSalaryHike</th>\n",
       "      <th>WorkLifeBalance</th>\n",
       "      <th>YearsAtCompany</th>\n",
       "      <th>Female</th>\n",
       "      <th>Male</th>\n",
       "      <th>Dismissed</th>\n",
       "      <th>Employed</th>\n",
       "    </tr>\n",
       "  </thead>\n",
       "  <tbody>\n",
       "    <tr>\n",
       "      <th>0</th>\n",
       "      <td>1</td>\n",
       "      <td>4</td>\n",
       "      <td>5993</td>\n",
       "      <td>11</td>\n",
       "      <td>1</td>\n",
       "      <td>6</td>\n",
       "      <td>1.0</td>\n",
       "      <td>0.0</td>\n",
       "      <td>0.0</td>\n",
       "      <td>1.0</td>\n",
       "    </tr>\n",
       "    <tr>\n",
       "      <th>1</th>\n",
       "      <td>8</td>\n",
       "      <td>2</td>\n",
       "      <td>5130</td>\n",
       "      <td>23</td>\n",
       "      <td>3</td>\n",
       "      <td>10</td>\n",
       "      <td>0.0</td>\n",
       "      <td>1.0</td>\n",
       "      <td>1.0</td>\n",
       "      <td>0.0</td>\n",
       "    </tr>\n",
       "    <tr>\n",
       "      <th>2</th>\n",
       "      <td>2</td>\n",
       "      <td>3</td>\n",
       "      <td>2090</td>\n",
       "      <td>15</td>\n",
       "      <td>3</td>\n",
       "      <td>0</td>\n",
       "      <td>0.0</td>\n",
       "      <td>1.0</td>\n",
       "      <td>0.0</td>\n",
       "      <td>1.0</td>\n",
       "    </tr>\n",
       "    <tr>\n",
       "      <th>3</th>\n",
       "      <td>3</td>\n",
       "      <td>3</td>\n",
       "      <td>2909</td>\n",
       "      <td>11</td>\n",
       "      <td>3</td>\n",
       "      <td>8</td>\n",
       "      <td>1.0</td>\n",
       "      <td>0.0</td>\n",
       "      <td>1.0</td>\n",
       "      <td>0.0</td>\n",
       "    </tr>\n",
       "    <tr>\n",
       "      <th>4</th>\n",
       "      <td>2</td>\n",
       "      <td>2</td>\n",
       "      <td>3468</td>\n",
       "      <td>12</td>\n",
       "      <td>3</td>\n",
       "      <td>2</td>\n",
       "      <td>0.0</td>\n",
       "      <td>1.0</td>\n",
       "      <td>1.0</td>\n",
       "      <td>0.0</td>\n",
       "    </tr>\n",
       "  </tbody>\n",
       "</table>\n",
       "</div>"
      ],
      "text/plain": [
       "   DistanceFromHome  JobSatisfaction  MonthlyIncome  PercentSalaryHike  \\\n",
       "0                 1                4           5993                 11   \n",
       "1                 8                2           5130                 23   \n",
       "2                 2                3           2090                 15   \n",
       "3                 3                3           2909                 11   \n",
       "4                 2                2           3468                 12   \n",
       "\n",
       "   WorkLifeBalance  YearsAtCompany  Female  Male  Dismissed  Employed  \n",
       "0                1               6     1.0   0.0        0.0       1.0  \n",
       "1                3              10     0.0   1.0        1.0       0.0  \n",
       "2                3               0     0.0   1.0        0.0       1.0  \n",
       "3                3               8     1.0   0.0        1.0       0.0  \n",
       "4                3               2     0.0   1.0        1.0       0.0  "
      ]
     },
     "execution_count": 14,
     "metadata": {},
     "output_type": "execute_result"
    }
   ],
   "source": [
    "df1.rename(columns={'Yes': 'Dismissed', 'No': 'Employed'}, inplace=True)"
   ]
  },
  {
   "cell_type": "code",
   "execution_count": 6,
   "id": "57ae39d9",
   "metadata": {},
   "outputs": [
    {
     "name": "stdout",
     "output_type": "stream",
     "text": [
      "                   DistanceFromHome  JobSatisfaction  MonthlyIncome  \\\n",
      "DistanceFromHome           1.000000        -0.003669      -0.017014   \n",
      "JobSatisfaction           -0.003669         1.000000      -0.007157   \n",
      "MonthlyIncome             -0.017014        -0.007157       1.000000   \n",
      "PercentSalaryHike          0.040235         0.020002      -0.027269   \n",
      "WorkLifeBalance           -0.026556        -0.019459       0.030683   \n",
      "YearsAtCompany             0.009508        -0.003803       0.514285   \n",
      "Female                     0.001851        -0.033252       0.031858   \n",
      "Male                      -0.001851         0.033252      -0.031858   \n",
      "Yes                       -0.077924         0.103481       0.159840   \n",
      "No                         0.077924        -0.103481      -0.159840   \n",
      "\n",
      "                   PercentSalaryHike  WorkLifeBalance  YearsAtCompany  \\\n",
      "DistanceFromHome            0.040235        -0.026556        0.009508   \n",
      "JobSatisfaction             0.020002        -0.019459       -0.003803   \n",
      "MonthlyIncome              -0.027269         0.030683        0.514285   \n",
      "PercentSalaryHike           1.000000        -0.003280       -0.035991   \n",
      "WorkLifeBalance            -0.003280         1.000000        0.012089   \n",
      "YearsAtCompany             -0.035991         0.012089        1.000000   \n",
      "Female                     -0.002733         0.002753        0.029747   \n",
      "Male                        0.002733        -0.002753       -0.029747   \n",
      "Yes                         0.013478         0.063939        0.134392   \n",
      "No                         -0.013478        -0.063939       -0.134392   \n",
      "\n",
      "                     Female      Male       Yes        No  \n",
      "DistanceFromHome   0.001851 -0.001851 -0.077924  0.077924  \n",
      "JobSatisfaction   -0.033252  0.033252  0.103481 -0.103481  \n",
      "MonthlyIncome      0.031858 -0.031858  0.159840 -0.159840  \n",
      "PercentSalaryHike -0.002733  0.002733  0.013478 -0.013478  \n",
      "WorkLifeBalance    0.002753 -0.002753  0.063939 -0.063939  \n",
      "YearsAtCompany     0.029747 -0.029747  0.134392 -0.134392  \n",
      "Female             1.000000 -1.000000  0.029453 -0.029453  \n",
      "Male              -1.000000  1.000000 -0.029453  0.029453  \n",
      "Yes                0.029453 -0.029453  1.000000 -1.000000  \n",
      "No                -0.029453  0.029453 -1.000000  1.000000  \n"
     ]
    }
   ],
   "source": [
    "corr = df1[['DistanceFromHome', 'JobSatisfaction', 'MonthlyIncome', 'PercentSalaryHike', 'WorkLifeBalance', 'YearsAtCompany', 'Female', 'Male', 'Dismissed', 'Employed']].corr()\n",
    "print(corr)"
   ]
  },
  {
   "cell_type": "code",
   "execution_count": 7,
   "id": "cc0cc4e6",
   "metadata": {},
   "outputs": [
    {
     "data": {
      "image/png": "[encoded data removed]",
      "text/plain": [
       "<Figure size 432x288 with 2 Axes>"
      ]
     },
     "metadata": {
      "needs_background": "light"
     },
     "output_type": "display_data"
    }
   ],
   "source": [
    "sns.heatmap(corr, xticklabels=corr.columns, yticklabels=corr.columns) #the last two arguments set the column names\n",
    "plt.show()"
   ]
  },
  {
   "cell_type": "markdown",
   "id": "b599f130",
   "metadata": {},
   "source": [
    "The only strong correlation can be found between \"Years at Company\" & \"Monthly Income\"."
   ]
  },
  {
   "cell_type": "code",
   "execution_count": 8,
   "id": "d0102e68",
   "metadata": {},
   "outputs": [
    {
     "data": {
      "image/png": "[encoded data removed]",
      "text/plain": [
       "<Figure size 432x288 with 1 Axes>"
      ]
     },
     "metadata": {
      "needs_background": "light"
     },
     "output_type": "display_data"
    }
   ],
   "source": [
    "sns.scatterplot(x='YearsAtCompany',y='MonthlyIncome',data=df1)\n",
    "plt.xlabel('Years At Company')\n",
    "plt.ylabel('Monthly Income')\n",
    "plt.show()"
   ]
  },
  {
   "cell_type": "code",
   "execution_count": 9,
   "id": "97c866b6",
   "metadata": {},
   "outputs": [
    {
     "data": {
      "image/png": "[encoded data removed]",
      "text/plain": [
       "<Figure size 360x360 with 1 Axes>"
      ]
     },
     "metadata": {
      "needs_background": "light"
     },
     "output_type": "display_data"
    }
   ],
   "source": [
    "sns.displot(df1['MonthlyIncome'].dropna(), kde=False) #Selecting the rating column. I need to drop the NA's for the plot\n",
    "plt.title('Monthly Income')\n",
    "plt.xlabel('Monthly Income in Euros')\n",
    "plt.ylabel('Count')\n",
    "plt.show()"
   ]
  },
  {
   "cell_type": "code",
   "execution_count": 12,
   "id": "93ec3822",
   "metadata": {},
   "outputs": [
    {
     "name": "stderr",
     "output_type": "stream",
     "text": [
      "C:\\Users\\leaba\\anaconda3\\lib\\site-packages\\seaborn\\_decorators.py:36: FutureWarning: Pass the following variable as a keyword arg: x. From version 0.12, the only valid positional argument will be `data`, and passing other arguments without an explicit keyword will result in an error or misinterpretation.\n",
      "  warnings.warn(\n"
     ]
    },
    {
     "data": {
      "image/png": "[encoded data removed]",
      "text/plain": [
       "<Figure size 432x288 with 1 Axes>"
      ]
     },
     "metadata": {
      "needs_background": "light"
     },
     "output_type": "display_data"
    }
   ],
   "source": [
    "sns.boxplot(df1['MonthlyIncome'])\n",
    "plt.title('Monthly Income in Euros')\n",
    "plt.xlabel('Monthly Income in Euros')\n",
    "plt.show()"
   ]
  },
  {
   "cell_type": "code",
   "execution_count": 11,
   "id": "3904cda4",
   "metadata": {},
   "outputs": [
    {
     "name": "stdout",
     "output_type": "stream",
     "text": [
      "(0.5142848257331969, 4.819313789730835e-100)\n"
     ]
    }
   ],
   "source": [
    "from scipy.stats.stats import pearsonr #We will need the correlation function from the scientific package scipy\n",
    "print(pearsonr(df1['YearsAtCompany'],df1['MonthlyIncome']))"
   ]
  },
  {
   "cell_type": "markdown",
   "id": "d880fd3f",
   "metadata": {},
   "source": [
    "The output gives us two numbers: r = 0.51, and p = 4.81. "
   ]
  },
  {
   "cell_type": "markdown",
   "id": "d8fd798c",
   "metadata": {},
   "source": [
    "# Predictive model\n",
    "- Choose one of the following: k-nearest neighbor or random forest\n",
    "- Explain briefly in your own words how the algorithm works\n",
    "- Split the data set into a training and test set\n",
    "- Train the model"
   ]
  },
  {
   "cell_type": "code",
   "execution_count": 20,
   "id": "4a008903",
   "metadata": {},
   "outputs": [
    {
     "data": {
      "text/html": [
       "<div>\n",
       "<style scoped>\n",
       "    .dataframe tbody tr th:only-of-type {\n",
       "        vertical-align: middle;\n",
       "    }\n",
       "\n",
       "    .dataframe tbody tr th {\n",
       "        vertical-align: top;\n",
       "    }\n",
       "\n",
       "    .dataframe thead th {\n",
       "        text-align: right;\n",
       "    }\n",
       "</style>\n",
       "<table border=\"1\" class=\"dataframe\">\n",
       "  <thead>\n",
       "    <tr style=\"text-align: right;\">\n",
       "      <th></th>\n",
       "      <th>DistanceFromHome</th>\n",
       "      <th>JobSatisfaction</th>\n",
       "      <th>MonthlyIncome</th>\n",
       "      <th>PercentSalaryHike</th>\n",
       "      <th>WorkLifeBalance</th>\n",
       "      <th>YearsAtCompany</th>\n",
       "      <th>Female</th>\n",
       "      <th>Male</th>\n",
       "    </tr>\n",
       "  </thead>\n",
       "  <tbody>\n",
       "    <tr>\n",
       "      <th>99</th>\n",
       "      <td>23</td>\n",
       "      <td>2</td>\n",
       "      <td>2042</td>\n",
       "      <td>12</td>\n",
       "      <td>4</td>\n",
       "      <td>3</td>\n",
       "      <td>0.0</td>\n",
       "      <td>1.0</td>\n",
       "    </tr>\n",
       "    <tr>\n",
       "      <th>785</th>\n",
       "      <td>20</td>\n",
       "      <td>4</td>\n",
       "      <td>10322</td>\n",
       "      <td>20</td>\n",
       "      <td>3</td>\n",
       "      <td>11</td>\n",
       "      <td>0.0</td>\n",
       "      <td>1.0</td>\n",
       "    </tr>\n",
       "    <tr>\n",
       "      <th>918</th>\n",
       "      <td>9</td>\n",
       "      <td>2</td>\n",
       "      <td>19847</td>\n",
       "      <td>24</td>\n",
       "      <td>2</td>\n",
       "      <td>29</td>\n",
       "      <td>0.0</td>\n",
       "      <td>1.0</td>\n",
       "    </tr>\n",
       "    <tr>\n",
       "      <th>1335</th>\n",
       "      <td>19</td>\n",
       "      <td>4</td>\n",
       "      <td>3902</td>\n",
       "      <td>14</td>\n",
       "      <td>3</td>\n",
       "      <td>2</td>\n",
       "      <td>0.0</td>\n",
       "      <td>1.0</td>\n",
       "    </tr>\n",
       "    <tr>\n",
       "      <th>1182</th>\n",
       "      <td>1</td>\n",
       "      <td>3</td>\n",
       "      <td>4374</td>\n",
       "      <td>15</td>\n",
       "      <td>3</td>\n",
       "      <td>3</td>\n",
       "      <td>1.0</td>\n",
       "      <td>0.0</td>\n",
       "    </tr>\n",
       "  </tbody>\n",
       "</table>\n",
       "</div>"
      ],
      "text/plain": [
       "      DistanceFromHome  JobSatisfaction  MonthlyIncome  PercentSalaryHike  \\\n",
       "99                  23                2           2042                 12   \n",
       "785                 20                4          10322                 20   \n",
       "918                  9                2          19847                 24   \n",
       "1335                19                4           3902                 14   \n",
       "1182                 1                3           4374                 15   \n",
       "\n",
       "      WorkLifeBalance  YearsAtCompany  Female  Male  \n",
       "99                  4               3     0.0   1.0  \n",
       "785                 3              11     0.0   1.0  \n",
       "918                 2              29     0.0   1.0  \n",
       "1335                3               2     0.0   1.0  \n",
       "1182                3               3     1.0   0.0  "
      ]
     },
     "execution_count": 20,
     "metadata": {},
     "output_type": "execute_result"
    }
   ],
   "source": [
    "X = df1[['DistanceFromHome', 'JobSatisfaction', 'MonthlyIncome', 'PercentSalaryHike', 'WorkLifeBalance', 'YearsAtCompany', 'Female', 'Male']] #create the X matrix\n",
    "\n",
    "y = df1['Dismissed'] #create the y-variable (dependent variable)\n",
    "X_train, X_test, y_train, y_test = train_test_split(X, y, test_size=0.3, random_state=1) #split the data, store it into different variables\n",
    "\n",
    "lm = LinearRegression() #create the model\n",
    "model = lm.fit(X_train, y_train) #train the model\n",
    "y_test_p = lm.predict(X_test) #Generate predictions for the test data. So we use X.test, not X.train\n",
    "X_train.head() #The train data"
   ]
  },
  {
   "cell_type": "markdown",
   "id": "da4dccf8",
   "metadata": {},
   "source": [
    "### k-nearest Neighbor\n",
    "The algorithm knN classifies a sample based on the category of its nearest neighbour. Meaning that you identify one object in a \"room\" and then take a specific amount (k) that are closest to that object as your sample. However, this can be biased as it might only be a coincidence that those objects are very similiar even though the other 95% of objects in that room are not the same as the specific original object.\n",
    "In Market Research, knN is similiar to Convenience Sampling."
   ]
  },
  {
   "cell_type": "code",
   "execution_count": 24,
   "id": "05a7c52f",
   "metadata": {},
   "outputs": [],
   "source": [
    "import numpy as np\n",
    "from sklearn.metrics import confusion_matrix\n",
    "from sklearn.neighbors import KNeighborsClassifier\n",
    "sns.set()"
   ]
  },
  {
   "cell_type": "code",
   "execution_count": 25,
   "id": "615b368f",
   "metadata": {},
   "outputs": [
    {
     "data": {
      "text/plain": [
       "KNeighborsClassifier()"
      ]
     },
     "execution_count": 25,
     "metadata": {},
     "output_type": "execute_result"
    }
   ],
   "source": [
    "knn = KNeighborsClassifier(n_neighbors=5)\n",
    "knn.fit(X_train, y_train)"
   ]
  },
  {
   "cell_type": "code",
   "execution_count": 26,
   "id": "42b5abde",
   "metadata": {},
   "outputs": [
    {
     "data": {
      "text/plain": [
       "0.7959183673469388"
      ]
     },
     "execution_count": 26,
     "metadata": {},
     "output_type": "execute_result"
    }
   ],
   "source": [
    "knn.score(X_test, y_test) #calculate the fit on the test data"
   ]
  },
  {
   "cell_type": "code",
   "execution_count": 27,
   "id": "a6c11d5b",
   "metadata": {},
   "outputs": [
    {
     "name": "stdout",
     "output_type": "stream",
     "text": [
      "With 1 neighbors the result is:\n",
      "              precision    recall  f1-score   support\n",
      "\n",
      "         0.0       0.23      0.23      0.23        77\n",
      "         1.0       0.84      0.84      0.84       364\n",
      "\n",
      "    accuracy                           0.73       441\n",
      "   macro avg       0.54      0.54      0.54       441\n",
      "weighted avg       0.73      0.73      0.73       441\n",
      "\n",
      "With 2 neighbors the result is:\n",
      "              precision    recall  f1-score   support\n",
      "\n",
      "         0.0       0.24      0.43      0.31        77\n",
      "         1.0       0.86      0.72      0.78       364\n",
      "\n",
      "    accuracy                           0.67       441\n",
      "   macro avg       0.55      0.57      0.55       441\n",
      "weighted avg       0.75      0.67      0.70       441\n",
      "\n",
      "With 3 neighbors the result is:\n",
      "              precision    recall  f1-score   support\n",
      "\n",
      "         0.0       0.31      0.16      0.21        77\n",
      "         1.0       0.84      0.93      0.88       364\n",
      "\n",
      "    accuracy                           0.79       441\n",
      "   macro avg       0.57      0.54      0.54       441\n",
      "weighted avg       0.75      0.79      0.76       441\n",
      "\n",
      "With 4 neighbors the result is:\n",
      "              precision    recall  f1-score   support\n",
      "\n",
      "         0.0       0.27      0.22      0.24        77\n",
      "         1.0       0.84      0.87      0.86       364\n",
      "\n",
      "    accuracy                           0.76       441\n",
      "   macro avg       0.56      0.55      0.55       441\n",
      "weighted avg       0.74      0.76      0.75       441\n",
      "\n",
      "With 5 neighbors the result is:\n",
      "              precision    recall  f1-score   support\n",
      "\n",
      "         0.0       0.19      0.05      0.08        77\n",
      "         1.0       0.83      0.95      0.89       364\n",
      "\n",
      "    accuracy                           0.80       441\n",
      "   macro avg       0.51      0.50      0.48       441\n",
      "weighted avg       0.72      0.80      0.74       441\n",
      "\n",
      "With 6 neighbors the result is:\n",
      "              precision    recall  f1-score   support\n",
      "\n",
      "         0.0       0.25      0.10      0.15        77\n",
      "         1.0       0.83      0.93      0.88       364\n",
      "\n",
      "    accuracy                           0.79       441\n",
      "   macro avg       0.54      0.52      0.51       441\n",
      "weighted avg       0.73      0.79      0.75       441\n",
      "\n",
      "With 7 neighbors the result is:\n",
      "              precision    recall  f1-score   support\n",
      "\n",
      "         0.0       0.12      0.01      0.02        77\n",
      "         1.0       0.82      0.98      0.90       364\n",
      "\n",
      "    accuracy                           0.81       441\n",
      "   macro avg       0.47      0.50      0.46       441\n",
      "weighted avg       0.70      0.81      0.74       441\n",
      "\n",
      "With 8 neighbors the result is:\n",
      "              precision    recall  f1-score   support\n",
      "\n",
      "         0.0       0.29      0.05      0.09        77\n",
      "         1.0       0.83      0.97      0.90       364\n",
      "\n",
      "    accuracy                           0.81       441\n",
      "   macro avg       0.56      0.51      0.49       441\n",
      "weighted avg       0.73      0.81      0.75       441\n",
      "\n",
      "With 9 neighbors the result is:\n",
      "              precision    recall  f1-score   support\n",
      "\n",
      "         0.0       0.25      0.01      0.02        77\n",
      "         1.0       0.83      0.99      0.90       364\n",
      "\n",
      "    accuracy                           0.82       441\n",
      "   macro avg       0.54      0.50      0.46       441\n",
      "weighted avg       0.73      0.82      0.75       441\n",
      "\n",
      "With 10 neighbors the result is:\n",
      "              precision    recall  f1-score   support\n",
      "\n",
      "         0.0       0.33      0.04      0.07        77\n",
      "         1.0       0.83      0.98      0.90       364\n",
      "\n",
      "    accuracy                           0.82       441\n",
      "   macro avg       0.58      0.51      0.48       441\n",
      "weighted avg       0.74      0.82      0.75       441\n",
      "\n"
     ]
    }
   ],
   "source": [
    "from sklearn.metrics import classification_report\n",
    "\n",
    "for i in range(1,11): # 1,11 means to display the different scores with 1 to 11 neighbor(s)\n",
    "    knn_new = KNeighborsClassifier(n_neighbors = i) #make a new kNN model with i (1-10) neighbors\n",
    "    knn_new = knn_new.fit(X_train, y_train) #fit new model on train data\n",
    "    y_test_pred_new = knn_new.predict(X_test) #predict using new model, with test data\n",
    "    print(f\"With {i} neighbors the result is:\")\n",
    "    print(classification_report(y_test, y_test_pred_new))"
   ]
  },
  {
   "cell_type": "markdown",
   "id": "65e2c97d",
   "metadata": {},
   "source": [
    "Based on the Accuracy Score, it seems that 9 or 10 neighbors give the best result (0.82)."
   ]
  },
  {
   "cell_type": "markdown",
   "id": "047d6b54",
   "metadata": {},
   "source": [
    "#### Random Forest\n",
    "The random forest is a classification algorithm consisting of many decisions trees. It uses randomness when building each individual tree to try to create an uncorrelated forest of trees whose prediction by committee is more accurate than that of any individual tree. \n",
    "In Market Research, Random Forest is similiar to Simple Random Sampling."
   ]
  },
  {
   "cell_type": "code",
   "execution_count": 28,
   "id": "ebcdf670",
   "metadata": {},
   "outputs": [],
   "source": [
    "from sklearn.ensemble import RandomForestClassifier\n",
    "rf = RandomForestClassifier(random_state=1, n_estimators=100) #RF is a random algorithm, so to get the same results we need to use random_state\n",
    "rf = rf.fit(X_train, y_train)"
   ]
  },
  {
   "cell_type": "code",
   "execution_count": 29,
   "id": "62081d94",
   "metadata": {},
   "outputs": [
    {
     "data": {
      "text/plain": [
       "0.8344671201814059"
      ]
     },
     "execution_count": 29,
     "metadata": {},
     "output_type": "execute_result"
    }
   ],
   "source": [
    "rf.score(X_test,y_test)"
   ]
  },
  {
   "cell_type": "code",
   "execution_count": 30,
   "id": "0cdfe7d6",
   "metadata": {},
   "outputs": [
    {
     "data": {
      "text/html": [
       "<div>\n",
       "<style scoped>\n",
       "    .dataframe tbody tr th:only-of-type {\n",
       "        vertical-align: middle;\n",
       "    }\n",
       "\n",
       "    .dataframe tbody tr th {\n",
       "        vertical-align: top;\n",
       "    }\n",
       "\n",
       "    .dataframe thead th {\n",
       "        text-align: right;\n",
       "    }\n",
       "</style>\n",
       "<table border=\"1\" class=\"dataframe\">\n",
       "  <thead>\n",
       "    <tr style=\"text-align: right;\">\n",
       "      <th></th>\n",
       "      <th>Employed (pred)</th>\n",
       "      <th>Dismissed (pred)</th>\n",
       "    </tr>\n",
       "  </thead>\n",
       "  <tbody>\n",
       "    <tr>\n",
       "      <th>Employed (actual)</th>\n",
       "      <td>11</td>\n",
       "      <td>66</td>\n",
       "    </tr>\n",
       "    <tr>\n",
       "      <th>Dismissed (actual)</th>\n",
       "      <td>7</td>\n",
       "      <td>357</td>\n",
       "    </tr>\n",
       "  </tbody>\n",
       "</table>\n",
       "</div>"
      ],
      "text/plain": [
       "                    Employed (pred)  Dismissed (pred)\n",
       "Employed (actual)                11                66\n",
       "Dismissed (actual)                7               357"
      ]
     },
     "execution_count": 30,
     "metadata": {},
     "output_type": "execute_result"
    }
   ],
   "source": [
    "y_pred = rf.predict(X_test) #the predicted values\n",
    "cm = confusion_matrix(y_test, y_pred) #creates a \"confusion matrix\"\n",
    "cm = pd.DataFrame(cm, index=['Employed (actual)', 'Dismissed (actual)'], columns = ['Employed (pred)', 'Dismissed (pred)']) #label and make df\n",
    "cm"
   ]
  },
  {
   "cell_type": "code",
   "execution_count": 31,
   "id": "4c567f04",
   "metadata": {},
   "outputs": [
    {
     "name": "stdout",
     "output_type": "stream",
     "text": [
      "              precision    recall  f1-score   support\n",
      "\n",
      "         0.0       0.61      0.14      0.23        77\n",
      "         1.0       0.84      0.98      0.91       364\n",
      "\n",
      "    accuracy                           0.83       441\n",
      "   macro avg       0.73      0.56      0.57       441\n",
      "weighted avg       0.80      0.83      0.79       441\n",
      "\n"
     ]
    }
   ],
   "source": [
    "from sklearn.metrics import classification_report\n",
    "print(classification_report(y_test, y_pred))"
   ]
  },
  {
   "cell_type": "markdown",
   "id": "b90b1682",
   "metadata": {},
   "source": [
    "The precision for dismissed (1.0) is good (0.84): about 16% of the suspected dismissed cases turn out not to be dismissed - hence, 16% of the employees were not actually dismissed and were still kept employed.\n",
    "\n",
    "The recall is very good - only 2% of the dismissed cases are missed."
   ]
  },
  {
   "cell_type": "markdown",
   "id": "6281123c",
   "metadata": {},
   "source": [
    "# Conclusion\n",
    "Comparing knN to Random Forest, the accuracy is better with Random Forest (0.83) - even though it is not still an acceptable score to predict a certain outcome. Hence, the model needs to be trained better. "
   ]
  },
  {
   "cell_type": "code",
   "execution_count": null,
   "id": "4bc76591",
   "metadata": {},
   "outputs": [],
   "source": []
  }
 ],
 "metadata": {
  "kernelspec": {
   "display_name": "Python 3",
   "language": "python",
   "name": "python3"
  },
  "language_info": {
   "codemirror_mode": {
    "name": "ipython",
    "version": 3
   },
   "file_extension": ".py",
   "mimetype": "text/x-python",
   "name": "python",
   "nbconvert_exporter": "python",
   "pygments_lexer": "ipython3",
   "version": "3.8.8"
  }
 },
 "nbformat": 4,
 "nbformat_minor": 5
}
