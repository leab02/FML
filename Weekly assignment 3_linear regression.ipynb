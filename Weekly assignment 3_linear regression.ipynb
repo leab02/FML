{
 "cells": [
  {
   "cell_type": "markdown",
   "id": "cd2ccbc9",
   "metadata": {},
   "source": [
    "# Introduction\n"
   ]
  },
  {
   "cell_type": "markdown",
   "id": "56a127c5",
   "metadata": {},
   "source": [
    "# Data Cleaning"
   ]
  },
  {
   "cell_type": "code",
   "execution_count": 1,
   "id": "cc2a85ba",
   "metadata": {},
   "outputs": [],
   "source": [
    "import seaborn as sns #this is the plotting library I'll be using \n",
    "import pandas as pd #\"as pd\" means that we can use the abbreviation in commands\n",
    "import matplotlib.pyplot as plt #we need Matplotlib for setting the labels in the Seaborn graphs\n",
    "from statistics import variance\n",
    "import math\n",
    "from sklearn.linear_model import LinearRegression #remember, this is linear regression model from sk-learn\n",
    "from sklearn.metrics import mean_squared_error\n",
    "from sklearn.metrics import r2_score\n",
    "\n",
    "df1 = pd.read_csv('steps.csv', sep = ';')\n",
    "#df1.head()\n",
    "#only dates\n",
    "\n",
    "df2 = pd.read_csv('survey.csv')\n",
    "#df2.head()\n",
    "#different columns with ID, city, gender, age, etc."
   ]
  },
  {
   "cell_type": "code",
   "execution_count": 2,
   "id": "6e057078",
   "metadata": {},
   "outputs": [],
   "source": [
    "df = pd.merge(df1, df2, on = 'id') #column of id is the common identifier\n",
    "#df.head()"
   ]
  },
  {
   "cell_type": "code",
   "execution_count": 3,
   "id": "3d013bbf",
   "metadata": {},
   "outputs": [
    {
     "data": {
      "image/png": "[encoded data removed]",
      "text/plain": [
       "<Figure size 360x360 with 1 Axes>"
      ]
     },
     "metadata": {
      "needs_background": "light"
     },
     "output_type": "display_data"
    }
   ],
   "source": [
    "sns.displot(df['weight'].dropna(), kde=False) #Selecting the weight column.\n",
    "plt.title('Weight of Fitbit Users')\n",
    "plt.xlabel('Weight in kg')\n",
    "plt.ylabel('Count')\n",
    "plt.show()"
   ]
  },
  {
   "cell_type": "code",
   "execution_count": 4,
   "id": "fb2922a3",
   "metadata": {},
   "outputs": [],
   "source": [
    "def above_200(x): #anything above 200kg in the column \"weight\"\n",
    "    if(x > 200): \n",
    "        return float('NaN')\n",
    "    else: \n",
    "        return x\n",
    "df['weight'] = df['weight'].apply(above_200) #apply it to the entire column \"weight\""
   ]
  },
  {
   "cell_type": "code",
   "execution_count": 5,
   "id": "665a10ec",
   "metadata": {},
   "outputs": [],
   "source": [
    "def below_40(x): #anything above 200kg in the column \"weight\"\n",
    "    if(x < 40): \n",
    "        return float('NaN')\n",
    "    else: \n",
    "        return x\n",
    "df['weight'] = df['weight'].apply(below_40) #apply it to the entire column \"weight\""
   ]
  },
  {
   "cell_type": "code",
   "execution_count": 6,
   "id": "e66f2d56",
   "metadata": {},
   "outputs": [
    {
     "data": {
      "image/png": "[encoded data removed]",
      "text/plain": [
       "<Figure size 360x360 with 1 Axes>"
      ]
     },
     "metadata": {
      "needs_background": "light"
     },
     "output_type": "display_data"
    }
   ],
   "source": [
    "sns.displot(df['weight'].dropna(), kde=False) #Selecting the rating column. I need to drop the NA's for the plot\n",
    "plt.title('Weight of Fitbit Users')\n",
    "plt.xlabel('Weight in kg')\n",
    "plt.ylabel('Count')\n",
    "plt.show()"
   ]
  },
  {
   "cell_type": "markdown",
   "id": "6df54447",
   "metadata": {},
   "source": [
    "#### Create the variable mean steps per participant. Hint: combine Pandas .loc and .mean() with the right axis argument (axis=....) for mean(). Look up the documentation of .loc and Pandas .mean() if you're unsure"
   ]
  },
  {
   "cell_type": "code",
   "execution_count": 7,
   "id": "4b81eab8",
   "metadata": {},
   "outputs": [],
   "source": [
    "df['mean'] = df.iloc[0:,2:329].mean(axis=1) #are the rows correct (2:329)???"
   ]
  },
  {
   "cell_type": "markdown",
   "id": "869499ab",
   "metadata": {},
   "source": [
    "#### Show the head() of the resulting data frame\n"
   ]
  },
  {
   "cell_type": "code",
   "execution_count": 8,
   "id": "e62cab8f",
   "metadata": {},
   "outputs": [
    {
     "data": {
      "text/html": [
       "<div>\n",
       "<style scoped>\n",
       "    .dataframe tbody tr th:only-of-type {\n",
       "        vertical-align: middle;\n",
       "    }\n",
       "\n",
       "    .dataframe tbody tr th {\n",
       "        vertical-align: top;\n",
       "    }\n",
       "\n",
       "    .dataframe thead th {\n",
       "        text-align: right;\n",
       "    }\n",
       "</style>\n",
       "<table border=\"1\" class=\"dataframe\">\n",
       "  <thead>\n",
       "    <tr style=\"text-align: right;\">\n",
       "      <th></th>\n",
       "      <th>id</th>\n",
       "      <th>20-6-2013</th>\n",
       "      <th>21-6-2013</th>\n",
       "      <th>22-6-2013</th>\n",
       "      <th>23-6-2013</th>\n",
       "      <th>24-6-2013</th>\n",
       "      <th>25-6-2013</th>\n",
       "      <th>26-6-2013</th>\n",
       "      <th>27-6-2013</th>\n",
       "      <th>28-6-2013</th>\n",
       "      <th>...</th>\n",
       "      <th>13-5-2014</th>\n",
       "      <th>city</th>\n",
       "      <th>gender</th>\n",
       "      <th>age</th>\n",
       "      <th>hh_size</th>\n",
       "      <th>education</th>\n",
       "      <th>education_1</th>\n",
       "      <th>height</th>\n",
       "      <th>weight</th>\n",
       "      <th>mean</th>\n",
       "    </tr>\n",
       "  </thead>\n",
       "  <tbody>\n",
       "    <tr>\n",
       "      <th>0</th>\n",
       "      <td>1</td>\n",
       "      <td>NaN</td>\n",
       "      <td>NaN</td>\n",
       "      <td>NaN</td>\n",
       "      <td>NaN</td>\n",
       "      <td>3941.0</td>\n",
       "      <td>15733.0</td>\n",
       "      <td>9929.0</td>\n",
       "      <td>12879.0</td>\n",
       "      <td>10541.0</td>\n",
       "      <td>...</td>\n",
       "      <td>NaN</td>\n",
       "      <td>Bordeaux</td>\n",
       "      <td>Male</td>\n",
       "      <td>25-34</td>\n",
       "      <td>4</td>\n",
       "      <td>4</td>\n",
       "      <td>Master or doctorate</td>\n",
       "      <td>178.0</td>\n",
       "      <td>98.0</td>\n",
       "      <td>10205.521212</td>\n",
       "    </tr>\n",
       "    <tr>\n",
       "      <th>1</th>\n",
       "      <td>2</td>\n",
       "      <td>NaN</td>\n",
       "      <td>NaN</td>\n",
       "      <td>10473.0</td>\n",
       "      <td>705.0</td>\n",
       "      <td>4287.0</td>\n",
       "      <td>5507.0</td>\n",
       "      <td>4024.0</td>\n",
       "      <td>3926.0</td>\n",
       "      <td>14595.0</td>\n",
       "      <td>...</td>\n",
       "      <td>NaN</td>\n",
       "      <td>Lille</td>\n",
       "      <td>Male</td>\n",
       "      <td>35-44</td>\n",
       "      <td>1</td>\n",
       "      <td>3</td>\n",
       "      <td>Bachelor</td>\n",
       "      <td>180.0</td>\n",
       "      <td>77.0</td>\n",
       "      <td>5687.423313</td>\n",
       "    </tr>\n",
       "    <tr>\n",
       "      <th>2</th>\n",
       "      <td>3</td>\n",
       "      <td>NaN</td>\n",
       "      <td>11428.0</td>\n",
       "      <td>12523.0</td>\n",
       "      <td>2553.0</td>\n",
       "      <td>190.0</td>\n",
       "      <td>2164.0</td>\n",
       "      <td>8185.0</td>\n",
       "      <td>9630.0</td>\n",
       "      <td>8983.0</td>\n",
       "      <td>...</td>\n",
       "      <td>NaN</td>\n",
       "      <td>Montpellier</td>\n",
       "      <td>Male</td>\n",
       "      <td>25-34</td>\n",
       "      <td>2</td>\n",
       "      <td>2</td>\n",
       "      <td>Master or doctorate</td>\n",
       "      <td>180.0</td>\n",
       "      <td>83.0</td>\n",
       "      <td>8301.729730</td>\n",
       "    </tr>\n",
       "    <tr>\n",
       "      <th>3</th>\n",
       "      <td>4</td>\n",
       "      <td>NaN</td>\n",
       "      <td>NaN</td>\n",
       "      <td>NaN</td>\n",
       "      <td>NaN</td>\n",
       "      <td>NaN</td>\n",
       "      <td>NaN</td>\n",
       "      <td>NaN</td>\n",
       "      <td>NaN</td>\n",
       "      <td>NaN</td>\n",
       "      <td>...</td>\n",
       "      <td>NaN</td>\n",
       "      <td>Lyon</td>\n",
       "      <td>Male</td>\n",
       "      <td>&lt;25</td>\n",
       "      <td>1</td>\n",
       "      <td>1</td>\n",
       "      <td>Bachelor</td>\n",
       "      <td>178.0</td>\n",
       "      <td>80.0</td>\n",
       "      <td>3633.200000</td>\n",
       "    </tr>\n",
       "    <tr>\n",
       "      <th>4</th>\n",
       "      <td>5</td>\n",
       "      <td>NaN</td>\n",
       "      <td>NaN</td>\n",
       "      <td>NaN</td>\n",
       "      <td>NaN</td>\n",
       "      <td>NaN</td>\n",
       "      <td>NaN</td>\n",
       "      <td>NaN</td>\n",
       "      <td>NaN</td>\n",
       "      <td>NaN</td>\n",
       "      <td>...</td>\n",
       "      <td>NaN</td>\n",
       "      <td>Montpellier</td>\n",
       "      <td>Female</td>\n",
       "      <td>25-34</td>\n",
       "      <td>3</td>\n",
       "      <td>4</td>\n",
       "      <td>Bachelor</td>\n",
       "      <td>167.0</td>\n",
       "      <td>61.0</td>\n",
       "      <td>5312.129630</td>\n",
       "    </tr>\n",
       "  </tbody>\n",
       "</table>\n",
       "<p>5 rows × 338 columns</p>\n",
       "</div>"
      ],
      "text/plain": [
       "   id  20-6-2013  21-6-2013  22-6-2013  23-6-2013  24-6-2013  25-6-2013  \\\n",
       "0   1        NaN        NaN        NaN        NaN     3941.0    15733.0   \n",
       "1   2        NaN        NaN    10473.0      705.0     4287.0     5507.0   \n",
       "2   3        NaN    11428.0    12523.0     2553.0      190.0     2164.0   \n",
       "3   4        NaN        NaN        NaN        NaN        NaN        NaN   \n",
       "4   5        NaN        NaN        NaN        NaN        NaN        NaN   \n",
       "\n",
       "   26-6-2013  27-6-2013  28-6-2013  ...  13-5-2014         city  gender  \\\n",
       "0     9929.0    12879.0    10541.0  ...        NaN     Bordeaux    Male   \n",
       "1     4024.0     3926.0    14595.0  ...        NaN        Lille    Male   \n",
       "2     8185.0     9630.0     8983.0  ...        NaN  Montpellier    Male   \n",
       "3        NaN        NaN        NaN  ...        NaN         Lyon    Male   \n",
       "4        NaN        NaN        NaN  ...        NaN  Montpellier  Female   \n",
       "\n",
       "     age  hh_size  education          education_1  height  weight  \\\n",
       "0  25-34        4          4  Master or doctorate   178.0    98.0   \n",
       "1  35-44        1          3             Bachelor   180.0    77.0   \n",
       "2  25-34        2          2  Master or doctorate   180.0    83.0   \n",
       "3    <25        1          1             Bachelor   178.0    80.0   \n",
       "4  25-34        3          4             Bachelor   167.0    61.0   \n",
       "\n",
       "           mean  \n",
       "0  10205.521212  \n",
       "1   5687.423313  \n",
       "2   8301.729730  \n",
       "3   3633.200000  \n",
       "4   5312.129630  \n",
       "\n",
       "[5 rows x 338 columns]"
      ]
     },
     "execution_count": 8,
     "metadata": {},
     "output_type": "execute_result"
    }
   ],
   "source": [
    "df.head()"
   ]
  },
  {
   "cell_type": "markdown",
   "id": "856f217c",
   "metadata": {},
   "source": [
    "# Exploratory Data Analysis \n",
    "### An analysis of mean steps per participant: Graph of the distribution\n",
    "#### Histogram\n",
    "According to Healthline, the average steps per day for French people is 5,141. Furthermore, very active jobs - for example, waiters and nurses, \"still\" only have 22778 steps/day (waiters) & 16390 steps/day (nurses). Hence, the decision was made to clean the \"mean\" data for steps below 30000 steps/day. \n",
    "https://www.healthline.com/health/average-steps-per-day#country"
   ]
  },
  {
   "cell_type": "markdown",
   "id": "01fa1e90",
   "metadata": {},
   "source": [
    "#### mean, median, variance\n",
    "Variance measures the spread of random data in a set from its mean or median value. A low value for variance indicates that the data are clustered together and are not spread apart widely, whereas a high value would indicate that the data in the given set are much more spread apart from the average value. "
   ]
  },
  {
   "cell_type": "code",
   "execution_count": 9,
   "id": "a70d8b08",
   "metadata": {},
   "outputs": [],
   "source": [
    "mean_size = df['mean'].mean()"
   ]
  },
  {
   "cell_type": "code",
   "execution_count": 10,
   "id": "7ee2a7fc",
   "metadata": {},
   "outputs": [],
   "source": [
    "median_size = df['mean'].median()"
   ]
  },
  {
   "cell_type": "code",
   "execution_count": 11,
   "id": "fb4f6a0e",
   "metadata": {},
   "outputs": [
    {
     "name": "stdout",
     "output_type": "stream",
     "text": [
      "Variance of 'mean' is nan \n"
     ]
    }
   ],
   "source": [
    "print(\"Variance of 'mean' is % s \" %(variance(df['mean']))) "
   ]
  },
  {
   "cell_type": "code",
   "execution_count": 12,
   "id": "2f0a3420",
   "metadata": {},
   "outputs": [
    {
     "data": {
      "image/png": "[encoded data removed]",
      "text/plain": [
       "<Figure size 360x360 with 1 Axes>"
      ]
     },
     "metadata": {
      "needs_background": "light"
     },
     "output_type": "display_data"
    }
   ],
   "source": [
    "df = df[(df['mean'] < 30000)]\n",
    "sns.displot(df['mean'].dropna(), kde=False) #Selecting the rating column. I need to drop the NA's for the plot\n",
    "plt.title('Average steps per day')\n",
    "plt.axvline(median_size, 0, 100, color='green', label='median') #This adds a vertical line at x-position median_size, from y = 0 to y = 100 \n",
    "plt.axvline(mean_size, 0, 100, color='blue', label='mean') \n",
    "plt.legend()\n",
    "plt.xlabel('Steps/Day')\n",
    "plt.ylabel('Count of Participants')\n",
    "plt.show()"
   ]
  },
  {
   "cell_type": "markdown",
   "id": "93245df5",
   "metadata": {},
   "source": [
    "The mean is 6705 steps/day.\n",
    "The median is 6240 steps/day.\n",
    "Variance of 'mean' is 8715971. As visible in the histogram, the data is slightly positively skewed. However, before cleaning the data according to 30000 steps/day, possible outliers were to be identified. "
   ]
  },
  {
   "cell_type": "markdown",
   "id": "1b6f5396",
   "metadata": {},
   "source": [
    "#### The relation of mean steps per participant with two categorical variables (e.g. gender, age, education)\n",
    "Graph of the relation (e.g. histograms, box plots, density plots, violin plots). Try a different plot this time.\n",
    "Describe and interpret the results"
   ]
  },
  {
   "cell_type": "markdown",
   "id": "f5e56ba5",
   "metadata": {},
   "source": [
    "# Feature Engineering\n",
    "The prediction of the model can be improved by computing a variable that gives a better indication of a healthy weight than weight alone. Can you think of one? If not, just skip this step.\n",
    "\n",
    "BMI: Body mass index (BMI) is a measure of body fat based on height and weight that applies to adult men and women.\n",
    "\n",
    "BMI = kg/m2 where kg is a person's weight in kilograms and m2 is their height in metres squared."
   ]
  },
  {
   "cell_type": "code",
   "execution_count": 13,
   "id": "ffbcd62c",
   "metadata": {},
   "outputs": [],
   "source": [
    "df['height in metres'] = df['height'] / 100"
   ]
  },
  {
   "cell_type": "code",
   "execution_count": 14,
   "id": "97961736",
   "metadata": {},
   "outputs": [],
   "source": [
    "df['BMI'] = df['weight'] / df['height in metres']**2"
   ]
  },
  {
   "cell_type": "code",
   "execution_count": 15,
   "id": "7a6df99e",
   "metadata": {},
   "outputs": [],
   "source": [
    "def above_100(x): #anything above 200kg in the column \"weight\"\n",
    "    if(x > 100): \n",
    "        return float('NaN')\n",
    "    else: \n",
    "        return x\n",
    "df['BMI'] = df['BMI'].apply(above_100) #apply it to the entire column \"weight\""
   ]
  },
  {
   "cell_type": "code",
   "execution_count": 16,
   "id": "7747e841",
   "metadata": {},
   "outputs": [
    {
     "data": {
      "image/png": "[encoded data removed]",
      "text/plain": [
       "<Figure size 360x360 with 1 Axes>"
      ]
     },
     "metadata": {
      "needs_background": "light"
     },
     "output_type": "display_data"
    }
   ],
   "source": [
    "sns.displot(df['BMI'].dropna(), kde=False) #I need to drop the NA's for the plot\n",
    "plt.title('BMI of Fitbit Users')\n",
    "plt.xlabel('BMI')\n",
    "plt.ylabel('Count')\n",
    "plt.show()"
   ]
  },
  {
   "cell_type": "markdown",
   "id": "70a29931",
   "metadata": {},
   "source": [
    "# Exploratory Data Analysis (Week 2)\n",
    "See last week for the first part (distribution of steps). In addition:\n",
    "Make a scatterplot matrix of the numerical variables\n",
    "Make a correlation matrix of the numerical variables\n",
    "Describe and interpret the results"
   ]
  },
  {
   "cell_type": "markdown",
   "id": "01c6b376",
   "metadata": {},
   "source": [
    "#### Correlation Matrix"
   ]
  },
  {
   "cell_type": "code",
   "execution_count": 45,
   "id": "616aea29",
   "metadata": {},
   "outputs": [
    {
     "name": "stdout",
     "output_type": "stream",
     "text": [
      "             height    weight  education\n",
      "height     1.000000  0.508805  -0.042001\n",
      "weight     0.508805  1.000000   0.009184\n",
      "education -0.042001  0.009184   1.000000\n"
     ]
    }
   ],
   "source": [
    "corr = df[['height', 'weight', 'education']].corr() \n",
    "print(corr)"
   ]
  },
  {
   "cell_type": "code",
   "execution_count": 46,
   "id": "3e7a672e",
   "metadata": {},
   "outputs": [
    {
     "data": {
      "image/png": "[encoded data removed]",
      "text/plain": [
       "<Figure size 432x288 with 2 Axes>"
      ]
     },
     "metadata": {
      "needs_background": "light"
     },
     "output_type": "display_data"
    }
   ],
   "source": [
    "sns.heatmap(corr, xticklabels=corr.columns, yticklabels=corr.columns) #the last two arguments set the column names\n",
    "plt.show()"
   ]
  },
  {
   "cell_type": "markdown",
   "id": "d4e03939",
   "metadata": {},
   "source": [
    "#### Scatterplot Matrix"
   ]
  },
  {
   "cell_type": "code",
   "execution_count": 19,
   "id": "44f3e752",
   "metadata": {},
   "outputs": [
    {
     "data": {
      "image/png": "[encoded data removed]",
      "text/plain": [
       "<Figure size 432x288 with 1 Axes>"
      ]
     },
     "metadata": {
      "needs_background": "light"
     },
     "output_type": "display_data"
    }
   ],
   "source": [
    "sns.scatterplot(x='height',y='weight',data=df)\n",
    "plt.xlabel('Height (in cm)')\n",
    "plt.ylabel('Weight (in kg)')\n",
    "plt.show()"
   ]
  },
  {
   "cell_type": "markdown",
   "id": "029fda91",
   "metadata": {},
   "source": [
    "Describe and interpret the results"
   ]
  },
  {
   "cell_type": "markdown",
   "id": "1544f5ea",
   "metadata": {},
   "source": [
    "# Predictive Model\n",
    "## Explain linear regression in your own words\n",
    "Linear regression is a model that estimates the relationship between one independent variable and one dependent variable using a straight line.\n",
    "Example: Based on a body weigth of 70kg (dependent variable, y), height should be xx cm (independent variable). \n",
    "## Create dummy variables for the categorical variables\n"
   ]
  },
  {
   "cell_type": "code",
   "execution_count": 20,
   "id": "fdf5b9a7",
   "metadata": {},
   "outputs": [
    {
     "data": {
      "text/html": [
       "<div>\n",
       "<style scoped>\n",
       "    .dataframe tbody tr th:only-of-type {\n",
       "        vertical-align: middle;\n",
       "    }\n",
       "\n",
       "    .dataframe tbody tr th {\n",
       "        vertical-align: top;\n",
       "    }\n",
       "\n",
       "    .dataframe thead th {\n",
       "        text-align: right;\n",
       "    }\n",
       "</style>\n",
       "<table border=\"1\" class=\"dataframe\">\n",
       "  <thead>\n",
       "    <tr style=\"text-align: right;\">\n",
       "      <th></th>\n",
       "      <th>id</th>\n",
       "      <th>20-6-2013</th>\n",
       "      <th>21-6-2013</th>\n",
       "      <th>22-6-2013</th>\n",
       "      <th>23-6-2013</th>\n",
       "      <th>24-6-2013</th>\n",
       "      <th>25-6-2013</th>\n",
       "      <th>26-6-2013</th>\n",
       "      <th>27-6-2013</th>\n",
       "      <th>28-6-2013</th>\n",
       "      <th>...</th>\n",
       "      <th>hh_size</th>\n",
       "      <th>education</th>\n",
       "      <th>education_1</th>\n",
       "      <th>height</th>\n",
       "      <th>weight</th>\n",
       "      <th>mean</th>\n",
       "      <th>height in metres</th>\n",
       "      <th>BMI</th>\n",
       "      <th>Female</th>\n",
       "      <th>Male</th>\n",
       "    </tr>\n",
       "  </thead>\n",
       "  <tbody>\n",
       "    <tr>\n",
       "      <th>0</th>\n",
       "      <td>1</td>\n",
       "      <td>NaN</td>\n",
       "      <td>NaN</td>\n",
       "      <td>NaN</td>\n",
       "      <td>NaN</td>\n",
       "      <td>3941.0</td>\n",
       "      <td>15733.0</td>\n",
       "      <td>9929.0</td>\n",
       "      <td>12879.0</td>\n",
       "      <td>10541.0</td>\n",
       "      <td>...</td>\n",
       "      <td>4</td>\n",
       "      <td>4</td>\n",
       "      <td>Master or doctorate</td>\n",
       "      <td>178.0</td>\n",
       "      <td>98.0</td>\n",
       "      <td>10205.521212</td>\n",
       "      <td>1.78</td>\n",
       "      <td>30.930438</td>\n",
       "      <td>0</td>\n",
       "      <td>1</td>\n",
       "    </tr>\n",
       "    <tr>\n",
       "      <th>1</th>\n",
       "      <td>2</td>\n",
       "      <td>NaN</td>\n",
       "      <td>NaN</td>\n",
       "      <td>10473.0</td>\n",
       "      <td>705.0</td>\n",
       "      <td>4287.0</td>\n",
       "      <td>5507.0</td>\n",
       "      <td>4024.0</td>\n",
       "      <td>3926.0</td>\n",
       "      <td>14595.0</td>\n",
       "      <td>...</td>\n",
       "      <td>1</td>\n",
       "      <td>3</td>\n",
       "      <td>Bachelor</td>\n",
       "      <td>180.0</td>\n",
       "      <td>77.0</td>\n",
       "      <td>5687.423313</td>\n",
       "      <td>1.80</td>\n",
       "      <td>23.765432</td>\n",
       "      <td>0</td>\n",
       "      <td>1</td>\n",
       "    </tr>\n",
       "    <tr>\n",
       "      <th>2</th>\n",
       "      <td>3</td>\n",
       "      <td>NaN</td>\n",
       "      <td>11428.0</td>\n",
       "      <td>12523.0</td>\n",
       "      <td>2553.0</td>\n",
       "      <td>190.0</td>\n",
       "      <td>2164.0</td>\n",
       "      <td>8185.0</td>\n",
       "      <td>9630.0</td>\n",
       "      <td>8983.0</td>\n",
       "      <td>...</td>\n",
       "      <td>2</td>\n",
       "      <td>2</td>\n",
       "      <td>Master or doctorate</td>\n",
       "      <td>180.0</td>\n",
       "      <td>83.0</td>\n",
       "      <td>8301.729730</td>\n",
       "      <td>1.80</td>\n",
       "      <td>25.617284</td>\n",
       "      <td>0</td>\n",
       "      <td>1</td>\n",
       "    </tr>\n",
       "    <tr>\n",
       "      <th>3</th>\n",
       "      <td>4</td>\n",
       "      <td>NaN</td>\n",
       "      <td>NaN</td>\n",
       "      <td>NaN</td>\n",
       "      <td>NaN</td>\n",
       "      <td>NaN</td>\n",
       "      <td>NaN</td>\n",
       "      <td>NaN</td>\n",
       "      <td>NaN</td>\n",
       "      <td>NaN</td>\n",
       "      <td>...</td>\n",
       "      <td>1</td>\n",
       "      <td>1</td>\n",
       "      <td>Bachelor</td>\n",
       "      <td>178.0</td>\n",
       "      <td>80.0</td>\n",
       "      <td>3633.200000</td>\n",
       "      <td>1.78</td>\n",
       "      <td>25.249337</td>\n",
       "      <td>0</td>\n",
       "      <td>1</td>\n",
       "    </tr>\n",
       "    <tr>\n",
       "      <th>4</th>\n",
       "      <td>5</td>\n",
       "      <td>NaN</td>\n",
       "      <td>NaN</td>\n",
       "      <td>NaN</td>\n",
       "      <td>NaN</td>\n",
       "      <td>NaN</td>\n",
       "      <td>NaN</td>\n",
       "      <td>NaN</td>\n",
       "      <td>NaN</td>\n",
       "      <td>NaN</td>\n",
       "      <td>...</td>\n",
       "      <td>3</td>\n",
       "      <td>4</td>\n",
       "      <td>Bachelor</td>\n",
       "      <td>167.0</td>\n",
       "      <td>61.0</td>\n",
       "      <td>5312.129630</td>\n",
       "      <td>1.67</td>\n",
       "      <td>21.872423</td>\n",
       "      <td>1</td>\n",
       "      <td>0</td>\n",
       "    </tr>\n",
       "  </tbody>\n",
       "</table>\n",
       "<p>5 rows × 342 columns</p>\n",
       "</div>"
      ],
      "text/plain": [
       "   id  20-6-2013  21-6-2013  22-6-2013  23-6-2013  24-6-2013  25-6-2013  \\\n",
       "0   1        NaN        NaN        NaN        NaN     3941.0    15733.0   \n",
       "1   2        NaN        NaN    10473.0      705.0     4287.0     5507.0   \n",
       "2   3        NaN    11428.0    12523.0     2553.0      190.0     2164.0   \n",
       "3   4        NaN        NaN        NaN        NaN        NaN        NaN   \n",
       "4   5        NaN        NaN        NaN        NaN        NaN        NaN   \n",
       "\n",
       "   26-6-2013  27-6-2013  28-6-2013  ...  hh_size  education  \\\n",
       "0     9929.0    12879.0    10541.0  ...        4          4   \n",
       "1     4024.0     3926.0    14595.0  ...        1          3   \n",
       "2     8185.0     9630.0     8983.0  ...        2          2   \n",
       "3        NaN        NaN        NaN  ...        1          1   \n",
       "4        NaN        NaN        NaN  ...        3          4   \n",
       "\n",
       "           education_1  height  weight          mean  height in metres  \\\n",
       "0  Master or doctorate   178.0    98.0  10205.521212              1.78   \n",
       "1             Bachelor   180.0    77.0   5687.423313              1.80   \n",
       "2  Master or doctorate   180.0    83.0   8301.729730              1.80   \n",
       "3             Bachelor   178.0    80.0   3633.200000              1.78   \n",
       "4             Bachelor   167.0    61.0   5312.129630              1.67   \n",
       "\n",
       "         BMI  Female  Male  \n",
       "0  30.930438       0     1  \n",
       "1  23.765432       0     1  \n",
       "2  25.617284       0     1  \n",
       "3  25.249337       0     1  \n",
       "4  21.872423       1     0  \n",
       "\n",
       "[5 rows x 342 columns]"
      ]
     },
     "execution_count": 20,
     "metadata": {},
     "output_type": "execute_result"
    }
   ],
   "source": [
    "dummies = pd.get_dummies(df['gender'])\n",
    "df = pd.concat([df, dummies], axis=1) #the axis=1 means: add it to the columns (axis=0 is rows)\n",
    "df.head()"
   ]
  },
  {
   "cell_type": "code",
   "execution_count": 50,
   "id": "b651a3a8",
   "metadata": {},
   "outputs": [
    {
     "name": "stdout",
     "output_type": "stream",
     "text": [
      "             height    weight  education    Female       BMI      mean  \\\n",
      "height     1.000000  0.508805  -0.042001 -0.713163  0.020500 -0.086123   \n",
      "weight     0.508805  1.000000   0.009184 -0.419616  0.866195 -0.062885   \n",
      "education -0.042001  0.009184   1.000000  0.010309  0.026851  0.024053   \n",
      "Female    -0.713163 -0.419616   0.010309  1.000000 -0.083153  0.066483   \n",
      "BMI        0.020500  0.866195   0.026851 -0.083153  1.000000 -0.025088   \n",
      "mean      -0.086123 -0.062885   0.024053  0.066483 -0.025088  1.000000   \n",
      "Male       0.713163  0.419616  -0.010309 -1.000000  0.083153 -0.066483   \n",
      "\n",
      "               Male  \n",
      "height     0.713163  \n",
      "weight     0.419616  \n",
      "education -0.010309  \n",
      "Female    -1.000000  \n",
      "BMI        0.083153  \n",
      "mean      -0.066483  \n",
      "Male       1.000000  \n"
     ]
    }
   ],
   "source": [
    "corr = df[['height', 'weight', 'education', 'Female', 'BMI', 'mean', 'Male']].corr() \n",
    "print(corr)"
   ]
  },
  {
   "cell_type": "markdown",
   "id": "0ed0e3fc",
   "metadata": {},
   "source": [
    "## Fit a linear regression model to predict the mean steps per participant, using the training data. You can include all variables (easy), or you can try to find the combination that gives you the best fit (harder)."
   ]
  },
  {
   "cell_type": "code",
   "execution_count": 21,
   "id": "7b4a77a3",
   "metadata": {},
   "outputs": [],
   "source": [
    "from sklearn.model_selection import train_test_split\n",
    "import numpy as np"
   ]
  },
  {
   "cell_type": "code",
   "execution_count": 55,
   "id": "6632bb72",
   "metadata": {},
   "outputs": [
    {
     "data": {
      "text/html": [
       "<div>\n",
       "<style scoped>\n",
       "    .dataframe tbody tr th:only-of-type {\n",
       "        vertical-align: middle;\n",
       "    }\n",
       "\n",
       "    .dataframe tbody tr th {\n",
       "        vertical-align: top;\n",
       "    }\n",
       "\n",
       "    .dataframe thead th {\n",
       "        text-align: right;\n",
       "    }\n",
       "</style>\n",
       "<table border=\"1\" class=\"dataframe\">\n",
       "  <thead>\n",
       "    <tr style=\"text-align: right;\">\n",
       "      <th></th>\n",
       "      <th>id</th>\n",
       "      <th>height</th>\n",
       "      <th>weight</th>\n",
       "      <th>Female</th>\n",
       "      <th>mean</th>\n",
       "    </tr>\n",
       "  </thead>\n",
       "  <tbody>\n",
       "    <tr>\n",
       "      <th>0</th>\n",
       "      <td>1</td>\n",
       "      <td>178.0</td>\n",
       "      <td>98.0</td>\n",
       "      <td>0</td>\n",
       "      <td>10205.521212</td>\n",
       "    </tr>\n",
       "    <tr>\n",
       "      <th>1</th>\n",
       "      <td>2</td>\n",
       "      <td>180.0</td>\n",
       "      <td>77.0</td>\n",
       "      <td>0</td>\n",
       "      <td>5687.423313</td>\n",
       "    </tr>\n",
       "    <tr>\n",
       "      <th>2</th>\n",
       "      <td>3</td>\n",
       "      <td>180.0</td>\n",
       "      <td>83.0</td>\n",
       "      <td>0</td>\n",
       "      <td>8301.729730</td>\n",
       "    </tr>\n",
       "    <tr>\n",
       "      <th>3</th>\n",
       "      <td>4</td>\n",
       "      <td>178.0</td>\n",
       "      <td>80.0</td>\n",
       "      <td>0</td>\n",
       "      <td>3633.200000</td>\n",
       "    </tr>\n",
       "    <tr>\n",
       "      <th>4</th>\n",
       "      <td>5</td>\n",
       "      <td>167.0</td>\n",
       "      <td>61.0</td>\n",
       "      <td>1</td>\n",
       "      <td>5312.129630</td>\n",
       "    </tr>\n",
       "  </tbody>\n",
       "</table>\n",
       "</div>"
      ],
      "text/plain": [
       "   id  height  weight  Female          mean\n",
       "0   1   178.0    98.0       0  10205.521212\n",
       "1   2   180.0    77.0       0   5687.423313\n",
       "2   3   180.0    83.0       0   8301.729730\n",
       "3   4   178.0    80.0       0   3633.200000\n",
       "4   5   167.0    61.0       1   5312.129630"
      ]
     },
     "execution_count": 55,
     "metadata": {},
     "output_type": "execute_result"
    }
   ],
   "source": [
    "df1 = df[['id', 'height', 'weight', 'Female', 'mean']]\n",
    "df1 = df1.dropna() #get rid of rows with empty cells"
   ]
  },
  {
   "cell_type": "code",
   "execution_count": 58,
   "id": "2f5426c6",
   "metadata": {},
   "outputs": [
    {
     "ename": "ValueError",
     "evalue": "Input contains NaN, infinity or a value too large for dtype('float64').",
     "output_type": "error",
     "traceback": [
      "\u001b[1;31m---------------------------------------------------------------------------\u001b[0m",
      "\u001b[1;31mValueError\u001b[0m                                Traceback (most recent call last)",
      "\u001b[1;32m<ipython-input-58-7a5b6cb0cd0e>\u001b[0m in \u001b[0;36m<module>\u001b[1;34m\u001b[0m\n\u001b[0;32m      8\u001b[0m \u001b[1;33m\u001b[0m\u001b[0m\n\u001b[0;32m      9\u001b[0m \u001b[0mlm\u001b[0m \u001b[1;33m=\u001b[0m \u001b[0mLinearRegression\u001b[0m\u001b[1;33m(\u001b[0m\u001b[1;33m)\u001b[0m \u001b[1;31m#this creates a new LR model\u001b[0m\u001b[1;33m\u001b[0m\u001b[1;33m\u001b[0m\u001b[0m\n\u001b[1;32m---> 10\u001b[1;33m \u001b[0mlm\u001b[0m\u001b[1;33m.\u001b[0m\u001b[0mfit\u001b[0m\u001b[1;33m(\u001b[0m\u001b[0mX_train\u001b[0m\u001b[1;33m,\u001b[0m \u001b[0my_train\u001b[0m\u001b[1;33m)\u001b[0m \u001b[1;31m#this \"fits\" the model on the training data\u001b[0m\u001b[1;33m\u001b[0m\u001b[1;33m\u001b[0m\u001b[0m\n\u001b[0m",
      "\u001b[1;32m~\\anaconda3\\lib\\site-packages\\sklearn\\linear_model\\_base.py\u001b[0m in \u001b[0;36mfit\u001b[1;34m(self, X, y, sample_weight)\u001b[0m\n\u001b[0;32m    516\u001b[0m         \u001b[0maccept_sparse\u001b[0m \u001b[1;33m=\u001b[0m \u001b[1;32mFalse\u001b[0m \u001b[1;32mif\u001b[0m \u001b[0mself\u001b[0m\u001b[1;33m.\u001b[0m\u001b[0mpositive\u001b[0m \u001b[1;32melse\u001b[0m \u001b[1;33m[\u001b[0m\u001b[1;34m'csr'\u001b[0m\u001b[1;33m,\u001b[0m \u001b[1;34m'csc'\u001b[0m\u001b[1;33m,\u001b[0m \u001b[1;34m'coo'\u001b[0m\u001b[1;33m]\u001b[0m\u001b[1;33m\u001b[0m\u001b[1;33m\u001b[0m\u001b[0m\n\u001b[0;32m    517\u001b[0m \u001b[1;33m\u001b[0m\u001b[0m\n\u001b[1;32m--> 518\u001b[1;33m         X, y = self._validate_data(X, y, accept_sparse=accept_sparse,\n\u001b[0m\u001b[0;32m    519\u001b[0m                                    y_numeric=True, multi_output=True)\n\u001b[0;32m    520\u001b[0m \u001b[1;33m\u001b[0m\u001b[0m\n",
      "\u001b[1;32m~\\anaconda3\\lib\\site-packages\\sklearn\\base.py\u001b[0m in \u001b[0;36m_validate_data\u001b[1;34m(self, X, y, reset, validate_separately, **check_params)\u001b[0m\n\u001b[0;32m    431\u001b[0m                 \u001b[0my\u001b[0m \u001b[1;33m=\u001b[0m \u001b[0mcheck_array\u001b[0m\u001b[1;33m(\u001b[0m\u001b[0my\u001b[0m\u001b[1;33m,\u001b[0m \u001b[1;33m**\u001b[0m\u001b[0mcheck_y_params\u001b[0m\u001b[1;33m)\u001b[0m\u001b[1;33m\u001b[0m\u001b[1;33m\u001b[0m\u001b[0m\n\u001b[0;32m    432\u001b[0m             \u001b[1;32melse\u001b[0m\u001b[1;33m:\u001b[0m\u001b[1;33m\u001b[0m\u001b[1;33m\u001b[0m\u001b[0m\n\u001b[1;32m--> 433\u001b[1;33m                 \u001b[0mX\u001b[0m\u001b[1;33m,\u001b[0m \u001b[0my\u001b[0m \u001b[1;33m=\u001b[0m \u001b[0mcheck_X_y\u001b[0m\u001b[1;33m(\u001b[0m\u001b[0mX\u001b[0m\u001b[1;33m,\u001b[0m \u001b[0my\u001b[0m\u001b[1;33m,\u001b[0m \u001b[1;33m**\u001b[0m\u001b[0mcheck_params\u001b[0m\u001b[1;33m)\u001b[0m\u001b[1;33m\u001b[0m\u001b[1;33m\u001b[0m\u001b[0m\n\u001b[0m\u001b[0;32m    434\u001b[0m             \u001b[0mout\u001b[0m \u001b[1;33m=\u001b[0m \u001b[0mX\u001b[0m\u001b[1;33m,\u001b[0m \u001b[0my\u001b[0m\u001b[1;33m\u001b[0m\u001b[1;33m\u001b[0m\u001b[0m\n\u001b[0;32m    435\u001b[0m \u001b[1;33m\u001b[0m\u001b[0m\n",
      "\u001b[1;32m~\\anaconda3\\lib\\site-packages\\sklearn\\utils\\validation.py\u001b[0m in \u001b[0;36minner_f\u001b[1;34m(*args, **kwargs)\u001b[0m\n\u001b[0;32m     61\u001b[0m             \u001b[0mextra_args\u001b[0m \u001b[1;33m=\u001b[0m \u001b[0mlen\u001b[0m\u001b[1;33m(\u001b[0m\u001b[0margs\u001b[0m\u001b[1;33m)\u001b[0m \u001b[1;33m-\u001b[0m \u001b[0mlen\u001b[0m\u001b[1;33m(\u001b[0m\u001b[0mall_args\u001b[0m\u001b[1;33m)\u001b[0m\u001b[1;33m\u001b[0m\u001b[1;33m\u001b[0m\u001b[0m\n\u001b[0;32m     62\u001b[0m             \u001b[1;32mif\u001b[0m \u001b[0mextra_args\u001b[0m \u001b[1;33m<=\u001b[0m \u001b[1;36m0\u001b[0m\u001b[1;33m:\u001b[0m\u001b[1;33m\u001b[0m\u001b[1;33m\u001b[0m\u001b[0m\n\u001b[1;32m---> 63\u001b[1;33m                 \u001b[1;32mreturn\u001b[0m \u001b[0mf\u001b[0m\u001b[1;33m(\u001b[0m\u001b[1;33m*\u001b[0m\u001b[0margs\u001b[0m\u001b[1;33m,\u001b[0m \u001b[1;33m**\u001b[0m\u001b[0mkwargs\u001b[0m\u001b[1;33m)\u001b[0m\u001b[1;33m\u001b[0m\u001b[1;33m\u001b[0m\u001b[0m\n\u001b[0m\u001b[0;32m     64\u001b[0m \u001b[1;33m\u001b[0m\u001b[0m\n\u001b[0;32m     65\u001b[0m             \u001b[1;31m# extra_args > 0\u001b[0m\u001b[1;33m\u001b[0m\u001b[1;33m\u001b[0m\u001b[1;33m\u001b[0m\u001b[0m\n",
      "\u001b[1;32m~\\anaconda3\\lib\\site-packages\\sklearn\\utils\\validation.py\u001b[0m in \u001b[0;36mcheck_X_y\u001b[1;34m(X, y, accept_sparse, accept_large_sparse, dtype, order, copy, force_all_finite, ensure_2d, allow_nd, multi_output, ensure_min_samples, ensure_min_features, y_numeric, estimator)\u001b[0m\n\u001b[0;32m    812\u001b[0m         \u001b[1;32mraise\u001b[0m \u001b[0mValueError\u001b[0m\u001b[1;33m(\u001b[0m\u001b[1;34m\"y cannot be None\"\u001b[0m\u001b[1;33m)\u001b[0m\u001b[1;33m\u001b[0m\u001b[1;33m\u001b[0m\u001b[0m\n\u001b[0;32m    813\u001b[0m \u001b[1;33m\u001b[0m\u001b[0m\n\u001b[1;32m--> 814\u001b[1;33m     X = check_array(X, accept_sparse=accept_sparse,\n\u001b[0m\u001b[0;32m    815\u001b[0m                     \u001b[0maccept_large_sparse\u001b[0m\u001b[1;33m=\u001b[0m\u001b[0maccept_large_sparse\u001b[0m\u001b[1;33m,\u001b[0m\u001b[1;33m\u001b[0m\u001b[1;33m\u001b[0m\u001b[0m\n\u001b[0;32m    816\u001b[0m                     \u001b[0mdtype\u001b[0m\u001b[1;33m=\u001b[0m\u001b[0mdtype\u001b[0m\u001b[1;33m,\u001b[0m \u001b[0morder\u001b[0m\u001b[1;33m=\u001b[0m\u001b[0morder\u001b[0m\u001b[1;33m,\u001b[0m \u001b[0mcopy\u001b[0m\u001b[1;33m=\u001b[0m\u001b[0mcopy\u001b[0m\u001b[1;33m,\u001b[0m\u001b[1;33m\u001b[0m\u001b[1;33m\u001b[0m\u001b[0m\n",
      "\u001b[1;32m~\\anaconda3\\lib\\site-packages\\sklearn\\utils\\validation.py\u001b[0m in \u001b[0;36minner_f\u001b[1;34m(*args, **kwargs)\u001b[0m\n\u001b[0;32m     61\u001b[0m             \u001b[0mextra_args\u001b[0m \u001b[1;33m=\u001b[0m \u001b[0mlen\u001b[0m\u001b[1;33m(\u001b[0m\u001b[0margs\u001b[0m\u001b[1;33m)\u001b[0m \u001b[1;33m-\u001b[0m \u001b[0mlen\u001b[0m\u001b[1;33m(\u001b[0m\u001b[0mall_args\u001b[0m\u001b[1;33m)\u001b[0m\u001b[1;33m\u001b[0m\u001b[1;33m\u001b[0m\u001b[0m\n\u001b[0;32m     62\u001b[0m             \u001b[1;32mif\u001b[0m \u001b[0mextra_args\u001b[0m \u001b[1;33m<=\u001b[0m \u001b[1;36m0\u001b[0m\u001b[1;33m:\u001b[0m\u001b[1;33m\u001b[0m\u001b[1;33m\u001b[0m\u001b[0m\n\u001b[1;32m---> 63\u001b[1;33m                 \u001b[1;32mreturn\u001b[0m \u001b[0mf\u001b[0m\u001b[1;33m(\u001b[0m\u001b[1;33m*\u001b[0m\u001b[0margs\u001b[0m\u001b[1;33m,\u001b[0m \u001b[1;33m**\u001b[0m\u001b[0mkwargs\u001b[0m\u001b[1;33m)\u001b[0m\u001b[1;33m\u001b[0m\u001b[1;33m\u001b[0m\u001b[0m\n\u001b[0m\u001b[0;32m     64\u001b[0m \u001b[1;33m\u001b[0m\u001b[0m\n\u001b[0;32m     65\u001b[0m             \u001b[1;31m# extra_args > 0\u001b[0m\u001b[1;33m\u001b[0m\u001b[1;33m\u001b[0m\u001b[1;33m\u001b[0m\u001b[0m\n",
      "\u001b[1;32m~\\anaconda3\\lib\\site-packages\\sklearn\\utils\\validation.py\u001b[0m in \u001b[0;36mcheck_array\u001b[1;34m(array, accept_sparse, accept_large_sparse, dtype, order, copy, force_all_finite, ensure_2d, allow_nd, ensure_min_samples, ensure_min_features, estimator)\u001b[0m\n\u001b[0;32m    661\u001b[0m \u001b[1;33m\u001b[0m\u001b[0m\n\u001b[0;32m    662\u001b[0m         \u001b[1;32mif\u001b[0m \u001b[0mforce_all_finite\u001b[0m\u001b[1;33m:\u001b[0m\u001b[1;33m\u001b[0m\u001b[1;33m\u001b[0m\u001b[0m\n\u001b[1;32m--> 663\u001b[1;33m             _assert_all_finite(array,\n\u001b[0m\u001b[0;32m    664\u001b[0m                                allow_nan=force_all_finite == 'allow-nan')\n\u001b[0;32m    665\u001b[0m \u001b[1;33m\u001b[0m\u001b[0m\n",
      "\u001b[1;32m~\\anaconda3\\lib\\site-packages\\sklearn\\utils\\validation.py\u001b[0m in \u001b[0;36m_assert_all_finite\u001b[1;34m(X, allow_nan, msg_dtype)\u001b[0m\n\u001b[0;32m    101\u001b[0m                 not allow_nan and not np.isfinite(X).all()):\n\u001b[0;32m    102\u001b[0m             \u001b[0mtype_err\u001b[0m \u001b[1;33m=\u001b[0m \u001b[1;34m'infinity'\u001b[0m \u001b[1;32mif\u001b[0m \u001b[0mallow_nan\u001b[0m \u001b[1;32melse\u001b[0m \u001b[1;34m'NaN, infinity'\u001b[0m\u001b[1;33m\u001b[0m\u001b[1;33m\u001b[0m\u001b[0m\n\u001b[1;32m--> 103\u001b[1;33m             raise ValueError(\n\u001b[0m\u001b[0;32m    104\u001b[0m                     \u001b[0mmsg_err\u001b[0m\u001b[1;33m.\u001b[0m\u001b[0mformat\u001b[0m\u001b[1;33m\u001b[0m\u001b[1;33m\u001b[0m\u001b[0m\n\u001b[0;32m    105\u001b[0m                     (type_err,\n",
      "\u001b[1;31mValueError\u001b[0m: Input contains NaN, infinity or a value too large for dtype('float64')."
     ]
    }
   ],
   "source": [
    "X = df1[['id', 'height', 'weight', 'Female']] #create the X matrix\n",
    "\n",
    "y = df1['mean'] #create the y-variable #this is the dependent variable\n",
    "\n",
    "X_train, X_test, y_train, y_test = train_test_split(X, y, test_size=None, random_state=50) #split the data, store it into different variables\n",
    "\n",
    "X_train.head() #show the head of the training set\n",
    "\n",
    "lm = LinearRegression() #this creates a new LR model\n",
    "lm.fit(X_train, y_train) #this \"fits\" the model on the training data"
   ]
  },
  {
   "cell_type": "code",
   "execution_count": 24,
   "id": "4fa08d01",
   "metadata": {},
   "outputs": [],
   "source": [
    "y_test_p = lm.predict(X_test) #use built-in predict() method to generate predictions; store in original dataframe"
   ]
  },
  {
   "cell_type": "markdown",
   "id": "59083ffc",
   "metadata": {},
   "source": [
    "# Evaluating the Model"
   ]
  },
  {
   "cell_type": "code",
   "execution_count": 25,
   "id": "342e2cdb",
   "metadata": {},
   "outputs": [
    {
     "data": {
      "image/png": "[encoded data removed]",
      "text/plain": [
       "<Figure size 432x288 with 1 Axes>"
      ]
     },
     "metadata": {
      "needs_background": "light"
     },
     "output_type": "display_data"
    }
   ],
   "source": [
    "sns.scatterplot(x=y_test,y=y_test_p)\n",
    "plt.xlim(0, 20000) #This sets the x-axis limits to (0, 5e10 = 140000000000)\n",
    "plt.ylim(0, 20000) #Ditto for y-axis. I want both axes to have the same length, so we can compare them\n",
    "plt.plot([0, 1.5e6], [0, 1.5e6], color='red', lw=3) #This draws the straight red line, you can leave this out if you wish\n",
    "plt.xlabel('Mean')\n",
    "plt.ylabel('Mean (predicted)')\n",
    "plt.show()"
   ]
  },
  {
   "cell_type": "code",
   "execution_count": 26,
   "id": "535b3d40",
   "metadata": {},
   "outputs": [
    {
     "data": {
      "text/plain": [
       "-0.03136821819161617"
      ]
     },
     "execution_count": 26,
     "metadata": {},
     "output_type": "execute_result"
    }
   ],
   "source": [
    "r2_score(y_test, y_test_p)"
   ]
  },
  {
   "cell_type": "markdown",
   "id": "d8d8be3a",
   "metadata": {},
   "source": [
    "Model has been very poorly selected as the r2 score is negative. Hence, another model needs to be applied."
   ]
  },
  {
   "cell_type": "code",
   "execution_count": 27,
   "id": "fc6ccce9",
   "metadata": {},
   "outputs": [
    {
     "data": {
      "text/plain": [
       "3008.9978962125715"
      ]
     },
     "execution_count": 27,
     "metadata": {},
     "output_type": "execute_result"
    }
   ],
   "source": [
    "math.sqrt(mean_squared_error(y_test, y_test_p)) #this gives the model fit (R2) for the Y and predicted Y"
   ]
  },
  {
   "cell_type": "markdown",
   "id": "a09bcbbf",
   "metadata": {},
   "source": [
    "#### Simple Linear Regression With scikit-learn"
   ]
  },
  {
   "cell_type": "code",
   "execution_count": 28,
   "id": "769293d8",
   "metadata": {},
   "outputs": [
    {
     "name": "stdout",
     "output_type": "stream",
     "text": [
      "coefficient of determination: 0.0015386969192385802\n"
     ]
    }
   ],
   "source": [
    "r_sq = lm.score(X, y)\n",
    "print('coefficient of determination:', r_sq)"
   ]
  },
  {
   "cell_type": "code",
   "execution_count": 52,
   "id": "1f9fd7d4",
   "metadata": {},
   "outputs": [
    {
     "ename": "ValueError",
     "evalue": "Length of values (914) does not match length of index (921)",
     "output_type": "error",
     "traceback": [
      "\u001b[1;31m---------------------------------------------------------------------------\u001b[0m",
      "\u001b[1;31mValueError\u001b[0m                                Traceback (most recent call last)",
      "\u001b[1;32m<ipython-input-52-9fd94b8a43b4>\u001b[0m in \u001b[0;36m<module>\u001b[1;34m\u001b[0m\n\u001b[1;32m----> 1\u001b[1;33m \u001b[0mdf\u001b[0m\u001b[1;33m[\u001b[0m\u001b[1;34m'mean_p'\u001b[0m\u001b[1;33m]\u001b[0m \u001b[1;33m=\u001b[0m \u001b[0mlm\u001b[0m\u001b[1;33m.\u001b[0m\u001b[0mpredict\u001b[0m\u001b[1;33m(\u001b[0m\u001b[0mX\u001b[0m\u001b[1;33m)\u001b[0m \u001b[1;31m#use built-in predict() method to generate predictions; store in original dataframe\u001b[0m\u001b[1;33m\u001b[0m\u001b[1;33m\u001b[0m\u001b[0m\n\u001b[0m\u001b[0;32m      2\u001b[0m \u001b[0mdf\u001b[0m\u001b[1;33m.\u001b[0m\u001b[0mhead\u001b[0m\u001b[1;33m(\u001b[0m\u001b[1;36m50\u001b[0m\u001b[1;33m)\u001b[0m\u001b[1;33m\u001b[0m\u001b[1;33m\u001b[0m\u001b[0m\n",
      "\u001b[1;32m~\\anaconda3\\lib\\site-packages\\pandas\\core\\frame.py\u001b[0m in \u001b[0;36m__setitem__\u001b[1;34m(self, key, value)\u001b[0m\n\u001b[0;32m   3161\u001b[0m         \u001b[1;32melse\u001b[0m\u001b[1;33m:\u001b[0m\u001b[1;33m\u001b[0m\u001b[1;33m\u001b[0m\u001b[0m\n\u001b[0;32m   3162\u001b[0m             \u001b[1;31m# set column\u001b[0m\u001b[1;33m\u001b[0m\u001b[1;33m\u001b[0m\u001b[1;33m\u001b[0m\u001b[0m\n\u001b[1;32m-> 3163\u001b[1;33m             \u001b[0mself\u001b[0m\u001b[1;33m.\u001b[0m\u001b[0m_set_item\u001b[0m\u001b[1;33m(\u001b[0m\u001b[0mkey\u001b[0m\u001b[1;33m,\u001b[0m \u001b[0mvalue\u001b[0m\u001b[1;33m)\u001b[0m\u001b[1;33m\u001b[0m\u001b[1;33m\u001b[0m\u001b[0m\n\u001b[0m\u001b[0;32m   3164\u001b[0m \u001b[1;33m\u001b[0m\u001b[0m\n\u001b[0;32m   3165\u001b[0m     \u001b[1;32mdef\u001b[0m \u001b[0m_setitem_slice\u001b[0m\u001b[1;33m(\u001b[0m\u001b[0mself\u001b[0m\u001b[1;33m,\u001b[0m \u001b[0mkey\u001b[0m\u001b[1;33m:\u001b[0m \u001b[0mslice\u001b[0m\u001b[1;33m,\u001b[0m \u001b[0mvalue\u001b[0m\u001b[1;33m)\u001b[0m\u001b[1;33m:\u001b[0m\u001b[1;33m\u001b[0m\u001b[1;33m\u001b[0m\u001b[0m\n",
      "\u001b[1;32m~\\anaconda3\\lib\\site-packages\\pandas\\core\\frame.py\u001b[0m in \u001b[0;36m_set_item\u001b[1;34m(self, key, value)\u001b[0m\n\u001b[0;32m   3240\u001b[0m         \"\"\"\n\u001b[0;32m   3241\u001b[0m         \u001b[0mself\u001b[0m\u001b[1;33m.\u001b[0m\u001b[0m_ensure_valid_index\u001b[0m\u001b[1;33m(\u001b[0m\u001b[0mvalue\u001b[0m\u001b[1;33m)\u001b[0m\u001b[1;33m\u001b[0m\u001b[1;33m\u001b[0m\u001b[0m\n\u001b[1;32m-> 3242\u001b[1;33m         \u001b[0mvalue\u001b[0m \u001b[1;33m=\u001b[0m \u001b[0mself\u001b[0m\u001b[1;33m.\u001b[0m\u001b[0m_sanitize_column\u001b[0m\u001b[1;33m(\u001b[0m\u001b[0mkey\u001b[0m\u001b[1;33m,\u001b[0m \u001b[0mvalue\u001b[0m\u001b[1;33m)\u001b[0m\u001b[1;33m\u001b[0m\u001b[1;33m\u001b[0m\u001b[0m\n\u001b[0m\u001b[0;32m   3243\u001b[0m         \u001b[0mNDFrame\u001b[0m\u001b[1;33m.\u001b[0m\u001b[0m_set_item\u001b[0m\u001b[1;33m(\u001b[0m\u001b[0mself\u001b[0m\u001b[1;33m,\u001b[0m \u001b[0mkey\u001b[0m\u001b[1;33m,\u001b[0m \u001b[0mvalue\u001b[0m\u001b[1;33m)\u001b[0m\u001b[1;33m\u001b[0m\u001b[1;33m\u001b[0m\u001b[0m\n\u001b[0;32m   3244\u001b[0m \u001b[1;33m\u001b[0m\u001b[0m\n",
      "\u001b[1;32m~\\anaconda3\\lib\\site-packages\\pandas\\core\\frame.py\u001b[0m in \u001b[0;36m_sanitize_column\u001b[1;34m(self, key, value, broadcast)\u001b[0m\n\u001b[0;32m   3897\u001b[0m \u001b[1;33m\u001b[0m\u001b[0m\n\u001b[0;32m   3898\u001b[0m             \u001b[1;31m# turn me into an ndarray\u001b[0m\u001b[1;33m\u001b[0m\u001b[1;33m\u001b[0m\u001b[1;33m\u001b[0m\u001b[0m\n\u001b[1;32m-> 3899\u001b[1;33m             \u001b[0mvalue\u001b[0m \u001b[1;33m=\u001b[0m \u001b[0msanitize_index\u001b[0m\u001b[1;33m(\u001b[0m\u001b[0mvalue\u001b[0m\u001b[1;33m,\u001b[0m \u001b[0mself\u001b[0m\u001b[1;33m.\u001b[0m\u001b[0mindex\u001b[0m\u001b[1;33m)\u001b[0m\u001b[1;33m\u001b[0m\u001b[1;33m\u001b[0m\u001b[0m\n\u001b[0m\u001b[0;32m   3900\u001b[0m             \u001b[1;32mif\u001b[0m \u001b[1;32mnot\u001b[0m \u001b[0misinstance\u001b[0m\u001b[1;33m(\u001b[0m\u001b[0mvalue\u001b[0m\u001b[1;33m,\u001b[0m \u001b[1;33m(\u001b[0m\u001b[0mnp\u001b[0m\u001b[1;33m.\u001b[0m\u001b[0mndarray\u001b[0m\u001b[1;33m,\u001b[0m \u001b[0mIndex\u001b[0m\u001b[1;33m)\u001b[0m\u001b[1;33m)\u001b[0m\u001b[1;33m:\u001b[0m\u001b[1;33m\u001b[0m\u001b[1;33m\u001b[0m\u001b[0m\n\u001b[0;32m   3901\u001b[0m                 \u001b[1;32mif\u001b[0m \u001b[0misinstance\u001b[0m\u001b[1;33m(\u001b[0m\u001b[0mvalue\u001b[0m\u001b[1;33m,\u001b[0m \u001b[0mlist\u001b[0m\u001b[1;33m)\u001b[0m \u001b[1;32mand\u001b[0m \u001b[0mlen\u001b[0m\u001b[1;33m(\u001b[0m\u001b[0mvalue\u001b[0m\u001b[1;33m)\u001b[0m \u001b[1;33m>\u001b[0m \u001b[1;36m0\u001b[0m\u001b[1;33m:\u001b[0m\u001b[1;33m\u001b[0m\u001b[1;33m\u001b[0m\u001b[0m\n",
      "\u001b[1;32m~\\anaconda3\\lib\\site-packages\\pandas\\core\\internals\\construction.py\u001b[0m in \u001b[0;36msanitize_index\u001b[1;34m(data, index)\u001b[0m\n\u001b[0;32m    749\u001b[0m     \"\"\"\n\u001b[0;32m    750\u001b[0m     \u001b[1;32mif\u001b[0m \u001b[0mlen\u001b[0m\u001b[1;33m(\u001b[0m\u001b[0mdata\u001b[0m\u001b[1;33m)\u001b[0m \u001b[1;33m!=\u001b[0m \u001b[0mlen\u001b[0m\u001b[1;33m(\u001b[0m\u001b[0mindex\u001b[0m\u001b[1;33m)\u001b[0m\u001b[1;33m:\u001b[0m\u001b[1;33m\u001b[0m\u001b[1;33m\u001b[0m\u001b[0m\n\u001b[1;32m--> 751\u001b[1;33m         raise ValueError(\n\u001b[0m\u001b[0;32m    752\u001b[0m             \u001b[1;34m\"Length of values \"\u001b[0m\u001b[1;33m\u001b[0m\u001b[1;33m\u001b[0m\u001b[0m\n\u001b[0;32m    753\u001b[0m             \u001b[1;34mf\"({len(data)}) \"\u001b[0m\u001b[1;33m\u001b[0m\u001b[1;33m\u001b[0m\u001b[0m\n",
      "\u001b[1;31mValueError\u001b[0m: Length of values (914) does not match length of index (921)"
     ]
    }
   ],
   "source": [
    "df['mean_p'] = lm.predict(X) #use built-in predict() method to generate predictions; store in original dataframe\n",
    "df.head(50)"
   ]
  },
  {
   "cell_type": "markdown",
   "id": "c5c406d0",
   "metadata": {},
   "source": [
    "0.15% is still a very weak correlation. Another model needs to be applied."
   ]
  },
  {
   "cell_type": "markdown",
   "id": "468ba2a2",
   "metadata": {},
   "source": [
    "#### Multiple Linear Regression With scikit-learn"
   ]
  },
  {
   "cell_type": "code",
   "execution_count": 29,
   "id": "ecdc62e9",
   "metadata": {},
   "outputs": [
    {
     "name": "stdout",
     "output_type": "stream",
     "text": [
      "coefficient of determination: 0.0015386969192385802\n",
      "intercept: 12837.391063296389\n",
      "slope: [-1.76602314e-02 -3.95318616e+01  8.15169904e+00  2.21100989e+01]\n"
     ]
    }
   ],
   "source": [
    "r_sq = lm.score(X, y)\n",
    "print('coefficient of determination:', r_sq)\n",
    "print('intercept:', lm.intercept_)\n",
    "print('slope:', lm.coef_)"
   ]
  },
  {
   "cell_type": "code",
   "execution_count": 30,
   "id": "7009eab7",
   "metadata": {},
   "outputs": [
    {
     "name": "stdout",
     "output_type": "stream",
     "text": [
      "predicted response:\n",
      "[6599.56853549 6349.30147215 6398.19400615 6452.7849721  6754.84560719\n",
      " 6630.42566116 6530.56908115 7053.95222383 6622.32925033 7094.67539856\n",
      " 6675.6759225  6944.22959477 6490.93125812 6793.31836008 7020.78707028\n",
      " 6196.62521426 6512.86244722 6249.95422621 6974.24184198 6258.50534056\n",
      " 6733.77018677 6489.52802226 6238.46906115 6869.73455374 6664.77535779\n",
      " 6527.87087834 6927.64363299 6957.77950182 7141.57101885 6218.7968766\n",
      " 6412.75862397 7193.67339724 7171.65390699 6887.98814972 6359.30599041\n",
      " 6430.20035443 6667.04739722 5861.64220637 6217.41130097 6533.64853392\n",
      " 6307.8365677  7128.7179384  6039.21225451 6494.82026888 6564.59626827\n",
      " 5998.40077862 6291.409548   6729.92226653 6849.40035792 7226.37938478\n",
      " 7590.73491419 6727.39835852 6333.28871535 6559.85725888 6369.1053559\n",
      " 7012.31071707 6760.02512242 6262.28838994 6858.92855506 7222.16571983\n",
      " 6349.45083158 6390.98356431 7052.51085487 6277.25919308 6627.00338886\n",
      " 7295.34747601 7171.03579889 6163.06476561 6741.84843224 6384.02548586\n",
      " 6302.81730212 6346.80330194 6233.88848871 6610.5410487  6109.55915136\n",
      " 6286.42560289 6327.16643785 6253.78348627 7044.07659213 6201.59280672\n",
      " 6920.97388832 6199.10421916 6922.1652014  7133.65698039 6544.23302717\n",
      " 7101.01486378 7212.667723   6671.03559936 7198.78227155 6569.82645668\n",
      " 6504.59520414 6394.133658   6704.34599213 6999.79036837 6141.79508265\n",
      " 6984.67828338 6195.14175483 6302.32281564 6877.42658164 5911.42301687\n",
      " 5944.01215279 6391.90320391 6960.08190441 6669.38281275 7315.04144101\n",
      " 7213.52349168 6242.63105297 6326.14891444 6101.99831753 6435.76558211\n",
      " 6770.75948023 6776.44025195 6434.48596787 7017.7414329  7081.71073144\n",
      " 6942.32228978 6943.53126309 6761.25752603 6740.93010021 6901.49315366\n",
      " 6664.28432354 6856.2275396  6517.95315616 6507.3305298  6468.10747479\n",
      " 7000.43421428 6571.15623897 6654.31693844 6868.72741542 6728.11234022\n",
      " 6632.72755862 6385.24022924 6934.30510258 6407.20673881 6842.14782561\n",
      " 6486.23514164 6682.6501561  6171.17156154 6791.04019023 6889.74308514\n",
      " 6467.49844422 6660.56002492 6747.86605593 6754.77346119 6285.17172646\n",
      " 6552.49876518 6939.32155552 6199.92185474 6568.74918256 7099.05739074\n",
      " 6539.89523548 6899.23596182 6446.40305606 6862.58747769 7050.85079312\n",
      " 6780.24326907 6552.30450263 6765.92308185 6261.69601965 6319.53215045\n",
      " 6331.3460899  6853.06786326 7013.63091671 6338.2181747  6547.3649555\n",
      " 7303.35920077 6993.57697707 7091.3797053  6809.26704846 6722.93413256\n",
      " 7069.32489458 6514.9610046  6270.82710899 5950.87465494 6957.5837342\n",
      " 6468.43343654 6860.95465882 6787.57170724 6808.76397927 6851.52334555\n",
      " 7093.60338938 7020.2204378  6698.57591931 6477.23575149 7228.43173148\n",
      " 6848.0639504  6100.62081949 6512.22517381 6510.98088004 6742.12949087\n",
      " 7106.05028451 6455.09263962 7345.65940103 6838.65260486 6818.65164592\n",
      " 6538.66578929 6938.43854395 6854.88536201 6846.71600274 6453.72472422\n",
      " 6761.01836037 7164.12688855 6987.22511656 6479.31815372 6936.26107055\n",
      " 6660.74701233 6835.05192786 5791.01073561 6719.77445622 6691.94826511\n",
      " 6648.8271115  6963.8377109  7060.41380559 6775.52141478 6686.161532\n",
      " 6857.00308471 6381.26818225 6887.12129331 6435.0495902  6821.87238054\n",
      " 6583.43691687 6945.3391792  6421.92071606 6223.12538294 6516.13415232\n",
      " 6388.14257457 6511.51876456 6407.98228391 6930.93069082 6593.88294092\n",
      " 6614.64047717 6873.02391908 6915.67501646 6439.25648513 7060.0252805\n",
      " 7049.40265414 6994.77636773 6726.51384187 6689.09112021 6501.91084896\n",
      " 6616.91714194 6573.68771943 6911.13488464 6656.3960229  6426.43872515\n",
      " 6594.71874186 6408.87337306 6522.97949937 6413.309851   6994.54678472\n",
      " 6901.61527021 6557.53418591 6813.10719874 6106.34498924 6545.75787445\n",
      " 6531.89008323 6593.28018554 6354.0528241  5976.24657901 6780.38981586\n",
      " 6488.57235956 7048.92582789 6975.54287631 6153.83428738 6666.50419503\n",
      " 6956.26779956 6336.79858617 6336.34619017 7067.55887144 6849.10670649\n",
      " 6213.22582613 6861.69488347 6725.87807354 6639.54515765 7104.53150461\n",
      " 6946.38639779 6220.04493023 6637.34771651 6882.7811941  7056.75964277\n",
      " 6449.91392683 6151.06313613 6734.75333694 6130.25261919 6376.01256366\n",
      " 6779.93064984 7140.60627862 6917.24757949 6174.60271386 6970.59425166\n",
      " 6571.90454119 6817.33801879 6494.03213097 6947.29514717 6348.92759714\n",
      " 6898.34963247 6946.4502687  7537.74916387 6368.40551915 6545.27197068\n",
      " 6833.37420588 6780.74879055 7152.92955213 7170.44192352 6433.49548984\n",
      " 6575.30187812 6612.03634557 6628.64855029 6624.15909166 6993.45185037\n",
      " 6688.11072996 6675.03483651 6602.87851848 6048.6228974  6687.71362216\n",
      " 7043.48271676 7472.25994072 6693.35907342 6772.73160335 6381.86712504\n",
      " 6263.25387987 6133.2437708  6885.23164855 7627.37576282 6960.58015075\n",
      " 6514.64161536 6497.99409018 6187.74643559 6771.00190062 6330.76179719\n",
      " 6381.6728625  6261.94125268 6245.51192547 6675.87294496 6466.36437682\n",
      " 6208.38035022 6811.61911396 6828.33958758 6450.42507359 6424.7256827\n",
      " 6503.77174576 6815.21071344 6784.93125524 6795.19209427 6369.70228849\n",
      " 6297.87243733 7168.45590003 6065.11774538 6632.39627921 6992.74544112\n",
      " 6806.90007232 6805.98224542 6797.48641927 6748.55856481 6483.54120381\n",
      " 7182.58182471 7079.83724183 6766.01795551 6878.1055505  6595.12342211\n",
      " 6583.2741622  7186.94766172 6381.10773509 6765.80372522 7099.67925869\n",
      " 6787.87850368 7000.59691622 6604.36047284 6301.93805041 7187.59827764\n",
      " 7055.56963725 6680.90028812 6235.86191941 6721.62346285 6154.30960856\n",
      " 6940.45738288 6297.32497015 6984.0992556  6755.04212452 6196.20643614\n",
      " 6973.44130878 6528.29467116 7448.96660629 6815.67795704 6499.29713472\n",
      " 6568.17296743 6868.21507121 6383.10183617 6442.16460052 6637.35298144\n",
      " 6529.34470239 6975.68265309 6666.66163204 6659.71890632 6478.34533592\n",
      " 7046.52403642 6705.00448812 6560.60124338 6837.30661469 6713.89510423\n",
      " 6953.52188098 6373.47626034 6415.44372885 6897.63364056 6115.45691328\n",
      " 6607.35162445 7125.39349717 7085.84397529 6352.57744224 6339.6098177\n",
      " 6247.79666782 6171.16855139 6723.37032068 6787.01315234 6553.37595395\n",
      " 6946.33191202 6725.42647997 6564.82810606 6660.50403408 6550.94265461\n",
      " 7060.3673974  6686.13278404 7207.8545574  6312.78067712 6183.56246582\n",
      " 6500.69986545 6293.97103126 7173.14092878 6628.94726915 6290.67288571\n",
      " 6111.31784663 6255.577502   6597.49646562 6747.45455294 6926.01306891\n",
      " 6506.54816195 6843.66886029 6435.60081723 7085.29650812 5970.56148958\n",
      " 6927.13374106 6777.14033328 6290.11683583 6964.5940907  6800.31581616\n",
      " 5905.24193588 6542.6405962  6579.70153052 6481.86348183 6883.40587471\n",
      " 6882.9534787  6520.11572924 6737.74067596 6262.11404241 6831.51937645\n",
      " 6955.00383534 6853.92062179 6096.99088939 6295.85917095 6538.40464568\n",
      " 6518.73015361 6909.55931146 6503.61806862 7212.82891986 6725.80542241\n",
      " 6903.89850748 6907.12601211 6314.02215826 6665.31945445 6524.70437925\n",
      " 5904.80043009 6310.70635247 7015.01066954 7048.82643901 6955.89492449\n",
      " 6450.00649297 6722.24006587 6998.61897031 7333.25570643 6287.33660705\n",
      " 6941.50409634 6589.37958191 6846.1016545  6831.00722974 6618.57996361\n",
      " 6439.22492453 6510.22755746 6618.20051604 6638.05788562 6427.75741971\n",
      " 6481.12175211 6642.91143911 6592.7569511  6665.77811534 6460.2759147\n",
      " 6205.53705296 6897.21787259 6228.73019607 6684.44647935 6448.46428278\n",
      " 6678.60445804 6617.9532728  6275.09882205 6833.1072922  6630.85025642\n",
      " 7130.57019976 6464.53579033 6580.76871686 6672.43827736 6228.51827329\n",
      " 6951.57925553 6376.1137022  6437.62973364 6719.13337022 6618.95032334\n",
      " 6478.66171501 6285.45654494 6989.76086201 6936.36120914 6149.27794768\n",
      " 6846.65719926 6085.25566846 6545.77021701 6586.1845851  6816.43302927\n",
      " 6830.26550002 6400.19562694 6413.23619993 6159.72397173 6712.03400993\n",
      " 6475.94354445 6588.49657034 6911.65886879 6933.64303858 6823.18149245\n",
      " 6598.92262664 6309.55843743 6001.43758305 6543.03438622 6997.52403596\n",
      " 6577.73266213 6461.54198893 6967.3175262  6981.47646383 6418.63440794\n",
      " 6624.41009476 6784.64668133 6445.47213122 6116.14134459 6233.49263575\n",
      " 7083.30090197 6496.33021584 6141.75243432 6660.12077392 6034.51839281\n",
      " 7130.8961615  6215.02942451 6852.10161796 6695.18314468 6117.15605535\n",
      " 6461.20181918 6550.74457948 6153.38977145 6339.19981979 6035.55076381\n",
      " 6677.42122253 6479.74425406 5897.35363524 6468.3120697  6811.13119999\n",
      " 6675.31439006 6736.03852374 6634.19410753 6852.5802569  6917.01498633\n",
      " 6859.50069705 6230.97961796 6817.80671473 6670.26657403 6493.47307094\n",
      " 6510.87717343 7064.41384518 6530.3904159  6232.08262989 6431.74280921\n",
      " 6371.41809085 6402.78059323 6439.84152755 6644.40824106 7029.21250008\n",
      " 6510.70057112 6348.08366589 6637.41253464 6682.73343691 6738.4427675\n",
      " 6806.99213334 7098.77426917 6592.99410655 5910.65629905 6812.15449346\n",
      " 6271.3142676  6426.97078687 6639.36273254 6798.69915245 6627.82227928\n",
      " 6648.68808443 6374.29239085 7028.89461591 6199.82622572 6367.31434466\n",
      " 6260.53269916 6627.69865766 6447.55172081 6568.25644574 6077.87951452\n",
      " 6075.4085872  6789.41770373 6500.84541229 6661.40846574 6578.75545048\n",
      " 6771.49056431 6591.67009433 7245.04568585 7048.16061515 6329.97084663\n",
      " 6458.7190017  6481.13790727 6568.0092025  6676.30862795 6971.44419755\n",
      " 6986.93803763 6678.70891435 7037.03954494 6965.67512468 6012.31271759\n",
      " 6696.96020282 6619.21372174 7501.16335321 6346.02700147 6790.23815195\n",
      " 5966.9764626  6419.33931212 6900.30259029 6681.85042533 6262.38551838\n",
      " 6775.8473238  6658.46071217 6108.7851584  6085.4307657  5868.99713206\n",
      " 6163.23253498 6166.89477539 6566.66753004 6608.63499855 6732.91135521\n",
      " 6891.92130824 6375.86264637 6903.71758745 6330.59703231 6194.45375551\n",
      " 6516.03225842 6364.05101444 6673.3631819  6231.46170914 6835.92710643\n",
      " 6901.12303851 6795.13329078 7079.19846335 6246.88490829 6612.82423325\n",
      " 6267.62478431 6297.76065315 6822.37042937 6726.08548109 6835.75050412\n",
      " 7369.63034403 6459.47969922 6384.87011409 6998.71384397 6163.94702182\n",
      " 7215.09449691 6589.3838469  6396.61341261 6518.43650218 5988.20124245\n",
      " 6335.81863801 6790.30828775 6695.35824192 7210.04668088 6886.84906197\n",
      " 6552.14631026 7133.38324398 7154.14078023 6542.71499698 7121.39039471\n",
      " 6662.17542813 6306.69747994 7160.97754457 6775.34606731 6299.28469798\n",
      " 6646.21846468 6970.17266089 6574.83638418 6658.68071252 6755.25680721\n",
      " 6656.19212497 6524.95538235 6913.00480623 6393.7009795  6165.87048197\n",
      " 6159.71965401 6735.25815578 6246.10785811 6398.08447675 6594.49949121\n",
      " 6403.74758823 6994.36285454 5943.18005898 6821.12332295 6809.70879882\n",
      " 6993.06558007 6165.65855919 6008.74008591 6445.59143512 6693.36991091\n",
      " 6567.83160024 6594.28756844 6279.24164856 6360.74097872 6493.16903442\n",
      " 6889.35249711 6601.10667254 6976.96733476 6673.31827878 6597.48206011\n",
      " 6812.65373975 6977.6885916  6977.67093137 6685.85347507 6647.53058673\n",
      " 6948.69105516 6810.09451127 6376.77947333 6305.84978884 6777.43473442\n",
      " 6051.09326686 6568.23497292 6611.42907497 6673.05337531 6012.71739783\n",
      " 6575.52413326 7185.5796936  6954.17756433 6640.2500091  6635.76055046\n",
      " 6747.08694281 6462.52101888 6692.76946304 6303.13161828 6948.35551076\n",
      " 6868.04749369 6224.01491429 6267.20901634 6312.4216497  6930.73717798\n",
      " 7034.23833816 6716.7391512  6536.91868122 6484.31092613 6796.18462958\n",
      " 6501.80563728 6850.32319952 6335.49117119 6540.95805136 6791.18979424\n",
      " 6836.72889448 6646.87715817 7126.94026967 7187.19897245 6186.61843556\n",
      " 6294.59139415 7058.41087157 6249.32578009 6241.15642082 6789.78655838\n",
      " 6652.74311491 6802.37473536 6600.11769958 6699.25533026 6827.10331866\n",
      " 6632.67151504 7040.70423764 6952.24452153 6563.04141254 7080.18311859\n",
      " 6807.44879433 6811.57646563 6673.41465752 6595.45163863 6841.677014\n",
      " 6980.23823743 6612.92868956 6367.5681604  6881.13823472 6215.1038253\n",
      " 7075.51705764 6608.04212313 6892.89919347 6122.11933009 7783.41759953\n",
      " 6732.26549909 6161.59821104 6741.60851122 7087.99927323 6408.11473282\n",
      " 6968.14173428 6447.611274   6603.26779328 6826.59117195 6746.28315487\n",
      " 6807.79918632 6700.69107394 6420.59694841 6215.99491444 6550.55407679\n",
      " 6770.30582373 6718.1328044  6256.68276871 6663.48885776 5969.28413012\n",
      " 6090.31532192 6605.43849666 6356.39806687 6914.73300389 6585.40221726\n",
      " 6743.62027252 7187.831423   6225.09068333 6838.9344132  6548.23532154\n",
      " 6227.49096972 7049.16423819 6499.27214662 6020.4003482  6920.3454422\n",
      " 6301.55985768 6888.49522335 6756.35831406 6343.49200572 6607.24741271\n",
      " 6343.45668526 6843.1766286  6781.95174356 6922.20503143 6279.39908557\n",
      " 6203.99760268 6384.10921907 6554.84250287 6458.23108772 6291.14238409\n",
      " 6431.39567195 6981.14417416 7282.30464258 6200.17642019 6715.29959493\n",
      " 6392.89387379 6355.797619   7199.90745327 6797.62845083 6692.86533664\n",
      " 6473.07826924 7060.01363491 6327.97373541 6879.84903783 6839.50761818\n",
      " 6896.11711545 7383.18286622 6777.48621004 6300.95940981 6983.26189685\n",
      " 6547.49359182 6059.24346083 6174.1414849  6622.82443379 7092.39084806\n",
      " 7183.16024189 6970.51477779 6143.89965468 6991.25465381 6915.85317092\n",
      " 7021.37286241 7197.0126804  6442.53621509 7500.60875568 7028.22728698\n",
      " 6271.73229036 6382.15851603 6401.68941874 6982.92635246 6966.60529415\n",
      " 6492.53176101 7105.14885734 6714.28437903 6186.82885326 5892.66639878\n",
      " 6434.15493304 6998.29657092 6603.75219197 6630.53462704 6801.35851952\n",
      " 5964.57316606 6244.52370222 6573.49270152 6324.7787386 ]\n"
     ]
    }
   ],
   "source": [
    "y_pred = lm.predict(X)\n",
    "print('predicted response:', y_pred, sep='\\n')"
   ]
  },
  {
   "cell_type": "markdown",
   "id": "a0859ef5",
   "metadata": {},
   "source": [
    "# Conclusion"
   ]
  }
 ],
 "metadata": {
  "kernelspec": {
   "display_name": "Python 3",
   "language": "python",
   "name": "python3"
  },
  "language_info": {
   "codemirror_mode": {
    "name": "ipython",
    "version": 3
   },
   "file_extension": ".py",
   "mimetype": "text/x-python",
   "name": "python",
   "nbconvert_exporter": "python",
   "pygments_lexer": "ipython3",
   "version": "3.8.8"
  }
 },
 "nbformat": 4,
 "nbformat_minor": 5
}
